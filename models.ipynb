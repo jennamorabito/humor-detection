{
  "cells": [
    {
      "cell_type": "markdown",
      "source": [
        "# Google Drive Setup"
      ],
      "metadata": {
        "id": "UiBkAiL7I9je"
      },
      "id": "UiBkAiL7I9je"
    },
    {
      "cell_type": "code",
      "source": [
        "# check if we're running on GPU\n",
        "gpu_info = !nvidia-smi\n",
        "gpu_info = '\\n'.join(gpu_info)\n",
        "if gpu_info.find('failed') >= 0:\n",
        "  print('Not connected to a GPU\\n')\n",
        "else:\n",
        "  print(gpu_info+'\\n')\n",
        "\n",
        "# RAM info\n",
        "from psutil import virtual_memory\n",
        "ram_gb = virtual_memory().total / 1e9\n",
        "print('Your runtime has {:.1f} gigabytes of available RAM\\n'.format(ram_gb))\n",
        "\n",
        "if ram_gb < 20:\n",
        "  print('Not using a high-RAM runtime')\n",
        "else:\n",
        "  print('You are using a high-RAM runtime!')"
      ],
      "metadata": {
        "id": "sDkm6gOOI3ty",
        "colab": {
          "base_uri": "https://localhost:8080/"
        },
        "outputId": "232d6d19-5e7d-4c9c-a259-7ef00bc2a5e7"
      },
      "id": "sDkm6gOOI3ty",
      "execution_count": null,
      "outputs": [
        {
          "output_type": "stream",
          "name": "stdout",
          "text": [
            "Sun Apr 10 05:35:29 2022       \n",
            "+-----------------------------------------------------------------------------+\n",
            "| NVIDIA-SMI 460.32.03    Driver Version: 460.32.03    CUDA Version: 11.2     |\n",
            "|-------------------------------+----------------------+----------------------+\n",
            "| GPU  Name        Persistence-M| Bus-Id        Disp.A | Volatile Uncorr. ECC |\n",
            "| Fan  Temp  Perf  Pwr:Usage/Cap|         Memory-Usage | GPU-Util  Compute M. |\n",
            "|                               |                      |               MIG M. |\n",
            "|===============================+======================+======================|\n",
            "|   0  Tesla P100-PCIE...  Off  | 00000000:00:04.0 Off |                    0 |\n",
            "| N/A   38C    P0    33W / 250W |   2219MiB / 16280MiB |      0%      Default |\n",
            "|                               |                      |                  N/A |\n",
            "+-------------------------------+----------------------+----------------------+\n",
            "                                                                               \n",
            "+-----------------------------------------------------------------------------+\n",
            "| Processes:                                                                  |\n",
            "|  GPU   GI   CI        PID   Type   Process name                  GPU Memory |\n",
            "|        ID   ID                                                   Usage      |\n",
            "|=============================================================================|\n",
            "+-----------------------------------------------------------------------------+\n",
            "\n",
            "Your runtime has 54.8 gigabytes of available RAM\n",
            "\n",
            "You are using a high-RAM runtime!\n"
          ]
        }
      ]
    },
    {
      "cell_type": "code",
      "source": [
        "# mount drive to access files in the drive\n",
        "# establish path to project folder in \"folder\" variable\n",
        "from google.colab import drive\n",
        "from pathlib import Path\n",
        "drive.mount('/content/drive')\n",
        "folder = Path('/content/drive/My Drive/W266-NLP-Final-Project') # can access files like this: folder/'dataset.csv'"
      ],
      "metadata": {
        "id": "WrSmoqWcJgWJ",
        "colab": {
          "base_uri": "https://localhost:8080/"
        },
        "outputId": "e9573220-4d11-404b-ebdf-7b2ec8938191"
      },
      "id": "WrSmoqWcJgWJ",
      "execution_count": null,
      "outputs": [
        {
          "output_type": "stream",
          "name": "stdout",
          "text": [
            "Mounted at /content/drive\n"
          ]
        }
      ]
    },
    {
      "cell_type": "code",
      "source": [
        "# create path to drive for any imports from our own modules\n",
        "import sys\n",
        "sys.path.insert(0,'/content/drive/My Drive/W266-NLP-Final-Project')"
      ],
      "metadata": {
        "id": "TIfRBa1UJmZ1"
      },
      "id": "TIfRBa1UJmZ1",
      "execution_count": null,
      "outputs": []
    },
    {
      "cell_type": "markdown",
      "source": [
        "# Imports"
      ],
      "metadata": {
        "id": "iqJLFHnrI6Eq"
      },
      "id": "iqJLFHnrI6Eq"
    },
    {
      "cell_type": "code",
      "execution_count": null,
      "id": "4e5b6350",
      "metadata": {
        "id": "4e5b6350",
        "colab": {
          "base_uri": "https://localhost:8080/"
        },
        "outputId": "57709ddb-6157-4636-92b7-74f91467438b"
      },
      "outputs": [
        {
          "output_type": "stream",
          "name": "stdout",
          "text": [
            "Collecting transformers==3.0.2\n",
            "  Downloading transformers-3.0.2-py3-none-any.whl (769 kB)\n",
            "\u001b[K     |████████████████████████████████| 769 kB 5.3 MB/s \n",
            "\u001b[?25hCollecting sacremoses\n",
            "  Downloading sacremoses-0.0.49-py3-none-any.whl (895 kB)\n",
            "\u001b[K     |████████████████████████████████| 895 kB 68.7 MB/s \n",
            "\u001b[?25hRequirement already satisfied: filelock in /usr/local/lib/python3.7/dist-packages (from transformers==3.0.2) (3.6.0)\n",
            "Collecting sentencepiece!=0.1.92\n",
            "  Downloading sentencepiece-0.1.96-cp37-cp37m-manylinux_2_17_x86_64.manylinux2014_x86_64.whl (1.2 MB)\n",
            "\u001b[K     |████████████████████████████████| 1.2 MB 63.2 MB/s \n",
            "\u001b[?25hRequirement already satisfied: tqdm>=4.27 in /usr/local/lib/python3.7/dist-packages (from transformers==3.0.2) (4.63.0)\n",
            "Requirement already satisfied: regex!=2019.12.17 in /usr/local/lib/python3.7/dist-packages (from transformers==3.0.2) (2019.12.20)\n",
            "Collecting tokenizers==0.8.1.rc1\n",
            "  Downloading tokenizers-0.8.1rc1-cp37-cp37m-manylinux1_x86_64.whl (3.0 MB)\n",
            "\u001b[K     |████████████████████████████████| 3.0 MB 64.7 MB/s \n",
            "\u001b[?25hRequirement already satisfied: packaging in /usr/local/lib/python3.7/dist-packages (from transformers==3.0.2) (21.3)\n",
            "Requirement already satisfied: numpy in /usr/local/lib/python3.7/dist-packages (from transformers==3.0.2) (1.21.5)\n",
            "Requirement already satisfied: requests in /usr/local/lib/python3.7/dist-packages (from transformers==3.0.2) (2.23.0)\n",
            "Requirement already satisfied: pyparsing!=3.0.5,>=2.0.2 in /usr/local/lib/python3.7/dist-packages (from packaging->transformers==3.0.2) (3.0.7)\n",
            "Requirement already satisfied: urllib3!=1.25.0,!=1.25.1,<1.26,>=1.21.1 in /usr/local/lib/python3.7/dist-packages (from requests->transformers==3.0.2) (1.24.3)\n",
            "Requirement already satisfied: idna<3,>=2.5 in /usr/local/lib/python3.7/dist-packages (from requests->transformers==3.0.2) (2.10)\n",
            "Requirement already satisfied: certifi>=2017.4.17 in /usr/local/lib/python3.7/dist-packages (from requests->transformers==3.0.2) (2021.10.8)\n",
            "Requirement already satisfied: chardet<4,>=3.0.2 in /usr/local/lib/python3.7/dist-packages (from requests->transformers==3.0.2) (3.0.4)\n",
            "Requirement already satisfied: click in /usr/local/lib/python3.7/dist-packages (from sacremoses->transformers==3.0.2) (7.1.2)\n",
            "Requirement already satisfied: joblib in /usr/local/lib/python3.7/dist-packages (from sacremoses->transformers==3.0.2) (1.1.0)\n",
            "Requirement already satisfied: six in /usr/local/lib/python3.7/dist-packages (from sacremoses->transformers==3.0.2) (1.15.0)\n",
            "Installing collected packages: tokenizers, sentencepiece, sacremoses, transformers\n",
            "Successfully installed sacremoses-0.0.49 sentencepiece-0.1.96 tokenizers-0.8.1rc1 transformers-3.0.2\n",
            "Requirement already satisfied: nltk in /usr/local/lib/python3.7/dist-packages (3.2.5)\n",
            "Requirement already satisfied: six in /usr/local/lib/python3.7/dist-packages (from nltk) (1.15.0)\n"
          ]
        }
      ],
      "source": [
        "#!pip install keras\n",
        "#!pip install tensorflow\n",
        "#!pip install torch==1.4.0\n",
        "#!pip install sentencepiece\n",
        "!pip install --upgrade transformers==3.0.2 # the authors probably used version 3.0.2\n",
        "# !pip install contractions\n",
        "# !pip install unidecode\n",
        "# !pip install contractions\n",
        "!pip install nltk"
      ]
    },
    {
      "cell_type": "code",
      "execution_count": null,
      "id": "3324dba7",
      "metadata": {
        "id": "3324dba7",
        "colab": {
          "base_uri": "https://localhost:8080/"
        },
        "outputId": "8dec39cf-9d28-4c3a-f4e9-e11fc7a685b3"
      },
      "outputs": [
        {
          "output_type": "stream",
          "name": "stdout",
          "text": [
            "[nltk_data] Downloading package punkt to /root/nltk_data...\n",
            "[nltk_data]   Unzipping tokenizers/punkt.zip.\n",
            "2.8.0\n",
            "3.0.2\n"
          ]
        }
      ],
      "source": [
        "# the basics\n",
        "import pandas as pd\n",
        "import numpy as np\n",
        "# import io\n",
        "# import os\n",
        "# import logging\n",
        "# import random\n",
        "\n",
        "# data cleaning\n",
        "# import re\n",
        "# import contractions as ct\n",
        "# import string\n",
        "# import unidecode \n",
        "\n",
        "# math + machine learning\n",
        "# from scipy.stats import spearmanr\n",
        "# from math import floor, ceil\n",
        "from tqdm import tqdm # for nice progress meters\n",
        "import sklearn\n",
        "# from sklearn.model_selection import GroupKFold\n",
        "from sklearn.metrics import f1_score\n",
        "from sklearn.metrics import accuracy_score\n",
        "from sklearn.metrics import confusion_matrix\n",
        "import nltk \n",
        "import torch\n",
        "import tensorflow as tf\n",
        "import tensorflow.keras.backend as K\n",
        "from tensorflow import keras \n",
        "import bertembeddings # our personal tokenizing function\n",
        "\n",
        "# import keras model and layers\n",
        "from tensorflow.keras.models import Model\n",
        "from tensorflow.keras.layers import Input, Embedding, Dense, Dropout, Concatenate\n",
        "# import tensorflow.keras.utils.Sequence\n",
        "# from transformers import *\n",
        "import transformers\n",
        "from transformers import TFBertModel, BertTokenizer\n",
        "from transformers import BertTokenizer, TFBertModel\n",
        "# from torch.utils.data import DataLoader, RandomSampler, SequentialSampler\n",
        "\n",
        "# imports for model and tradeoff evaluation\n",
        "from timeit import default_timer\n",
        "from sklearn.metrics import accuracy_score, precision_recall_fscore_support\n",
        "\n",
        "# viz\n",
        "# import seaborn as sns\n",
        "# import matplotlib.pyplot as plt\n",
        "\n",
        "np.set_printoptions(suppress=True)\n",
        "print(tf.__version__)\n",
        "print(transformers.__version__)"
      ]
    },
    {
      "cell_type": "markdown",
      "source": [
        "# Save Model Results and Runtime"
      ],
      "metadata": {
        "id": "AerkDAB591pS"
      },
      "id": "AerkDAB591pS"
    },
    {
      "cell_type": "code",
      "source": [
        "pd.set_option('display.max_colwidth', 0) # to display all text in a row\n",
        "# split into train and test data\n",
        "data = pd.read_csv(folder/'clean_dataset.csv',usecols=['text','humor'])\n",
        "inputs = np.load(folder/\"inputs_full_10k.npz\", allow_pickle=True)\n",
        "val_inputs = np.load(folder/\"val_full_3k.npz\", allow_pickle=True)\n",
        "test_inputs = np.load(folder/'test_inputs_full_1k.npz', allow_pickle=True)\n",
        "\n",
        "X_train = list(inputs.values())\n",
        "X_val = list(val_inputs.values())\n",
        "X_test = list(test_inputs.values())\n",
        "y_train, y_val, y_test = data['humor'][:10000].values, data['humor'][10000:13000].values, data['humor'][160000:161000].values\n",
        "\n",
        "df = data[['text', 'humor']][160000:161000] # making a dataframe to look at wrong classifications"
      ],
      "metadata": {
        "id": "p3pDQyLEsmsE"
      },
      "id": "p3pDQyLEsmsE",
      "execution_count": null,
      "outputs": []
    },
    {
      "cell_type": "code",
      "source": [
        "# function to calculate f1 and accuracy scores\n",
        "def model_scores(test_data, test_labels, model, runtime, df):\n",
        "  \"\"\"\n",
        "  inputs\n",
        "  - test_data_filepath: string containing path and filename of tokenized input, ie: folder/'test_inputs_full_1k.npz'\n",
        "  - test_labels: np array of boolean labels for your test set\n",
        "  - model: keras model being evaluated\n",
        "  - runtime: runtime of the model being evaluated\n",
        "  - df: dataframe with all the evaluation metrics\n",
        "  \"\"\"\n",
        "  y_pred = (model.predict(test_data) > 0.5).flatten()\n",
        "  precision, recall, f1, support = precision_recall_fscore_support(test_labels, y_pred)\n",
        "  dummy_acc = round((support / support.sum()).max(), 3)\n",
        "  precision = precision[precision != 0][0]\n",
        "  recall = recall[recall != 0][0]\n",
        "  f1 = f1[f1 != 0][0]\n",
        "  acc = round(accuracy_score(test_labels, y_pred), 3)\n",
        "  print(\"Accuracy = {}\".format(round(acc, 3)))\n",
        "  print(\"F1 score = {}\".format(round(f1, 3)))\n",
        "\n",
        "  cols = ['Model', 'Baseline Accuracy', 'Accuracy', 'Precision', 'Recall', 'F1', 'Runtime']\n",
        "  model_df = pd.DataFrame([[model.name, dummy_acc, acc, precision, recall, f1, runtime]], columns=cols)\n",
        "  df = df.append(model_df, ignore_index=True)\n",
        "  df.to_csv('model_results.csv', index=False)\n",
        "  return df"
      ],
      "metadata": {
        "id": "PCAmwyn1uWmH"
      },
      "id": "PCAmwyn1uWmH",
      "execution_count": null,
      "outputs": []
    },
    {
      "cell_type": "code",
      "source": [
        "# dataframe with all evaluation metrics results\n",
        "results_df = pd.DataFrame()"
      ],
      "metadata": {
        "id": "zp-S-J_D0oz1"
      },
      "id": "zp-S-J_D0oz1",
      "execution_count": null,
      "outputs": []
    },
    {
      "cell_type": "markdown",
      "id": "58893f31",
      "metadata": {
        "id": "58893f31"
      },
      "source": [
        "# Baseline Model\n",
        "- 1-layer NN that predicts binary humor label using pre-trained BERT embeddings of 10K short jokes/non-jokes\n",
        "- inputs: input IDs, attention masks, and token type IDs from pre-trained BERT tokenizer\n",
        "- outputs: probability of a short text being humorous (p > 0.5 = humorous)"
      ]
    },
    {
      "cell_type": "code",
      "execution_count": null,
      "id": "0054db98",
      "metadata": {
        "id": "0054db98",
        "colab": {
          "base_uri": "https://localhost:8080/",
          "height": 188,
          "referenced_widgets": [
            "2c89a7ef1d314c909f1e3a65dc443a68",
            "463dfc7198154f72b84ae92dd9f4234b",
            "2a2d96fdba4c4ba48fb84ef79c2ac789",
            "5112ba5f950a4575a590926d22c770dd",
            "f58d540de2c545d3beac1eba89d1b9f4",
            "41f971b29dda455bb803863e7383f2f1",
            "1bdcf8ef90a643f2b750abe27e8964c1",
            "757524b7226f4d53915cbe178e2ed2ba",
            "49760ca7d7604940a817752108388450",
            "e25e302b07fc4e69b0349449d1ceb550",
            "4cb4868a29f445f0b936ee1dd8ad7c67",
            "0d1f9b1181cd410e96dd1ae52d4456f3",
            "0efaf044d1184dcbbd32021bcf45ea74",
            "98b831d0027a4b8a8094e531c1076d0c",
            "7b3e7d815deb471aa1d8b88e3eda3a88",
            "9989a3e4135f415992775d0275d94ad8",
            "d6e6803fa476474b8bfb15f2163976d4",
            "6e26b95d647d4bca9326cf03b0205708",
            "9fef8229534d4b85b74f3ed7a97be062",
            "b7b0962d70ab4b6fb485cff188216a73",
            "f793798430e948499460dce575bbc590",
            "e61e2c448a1941cb977c31767683f476"
          ]
        },
        "outputId": "e0a5cf28-f454-4f04-eae8-fec63bda792c"
      },
      "outputs": [
        {
          "output_type": "display_data",
          "data": {
            "text/plain": [
              "Downloading:   0%|          | 0.00/433 [00:00<?, ?B/s]"
            ],
            "application/vnd.jupyter.widget-view+json": {
              "version_major": 2,
              "version_minor": 0,
              "model_id": "2c89a7ef1d314c909f1e3a65dc443a68"
            }
          },
          "metadata": {}
        },
        {
          "output_type": "display_data",
          "data": {
            "text/plain": [
              "Downloading:   0%|          | 0.00/536M [00:00<?, ?B/s]"
            ],
            "application/vnd.jupyter.widget-view+json": {
              "version_major": 2,
              "version_minor": 0,
              "model_id": "0d1f9b1181cd410e96dd1ae52d4456f3"
            }
          },
          "metadata": {}
        },
        {
          "output_type": "stream",
          "name": "stderr",
          "text": [
            "Some weights of the model checkpoint at bert-base-uncased were not used when initializing TFBertModel: ['nsp___cls', 'mlm___cls']\n",
            "- This IS expected if you are initializing TFBertModel from the checkpoint of a model trained on another task or with another architecture (e.g. initializing a BertForSequenceClassification model from a BertForPretraining model).\n",
            "- This IS NOT expected if you are initializing TFBertModel from the checkpoint of a model that you expect to be exactly identical (initializing a BertForSequenceClassification model from a BertForSequenceClassification model).\n",
            "All the weights of TFBertModel were initialized from the model checkpoint at bert-base-uncased.\n",
            "If your task is similar to the task the model of the ckeckpoint was trained on, you can already use TFBertModel for predictions without further training.\n"
          ]
        }
      ],
      "source": [
        "start = default_timer()\n",
        "\n",
        "### basic model architecture ###\n",
        "\n",
        "INPUT_LEN = 100 # same as MAX_LENGTH in bertembeddings.py\n",
        "\n",
        "x1 = Input(shape=(INPUT_LEN,), dtype=tf.int32, name='input_ids')\n",
        "x2 = Input(shape=(INPUT_LEN,), dtype=tf.int32, name='attention_masks')\n",
        "x3 = Input(shape=(INPUT_LEN,), dtype=tf.int32, name='token_type_ids')\n",
        "\n",
        "bert_model = TFBertModel.from_pretrained('bert-base-uncased')\n",
        "bert_embeddings = bert_model(x1, attention_mask=x2, token_type_ids=x3)\n",
        "pooled_embeddings = bert_embeddings[1]\n",
        "\n",
        "yhat = Dense(1, activation='sigmoid', name='output')(pooled_embeddings)\n",
        "\n",
        "### end of model ###\n",
        "\n",
        "stop = default_timer()\n",
        "base_rt = stop - start"
      ]
    },
    {
      "cell_type": "code",
      "source": [
        "MAX_SENTENCES = 5\n",
        "MAX_SENTENCE_LENGTH = 20\n",
        "MAX_LENGTH = 100\n",
        "BATCH_SIZE = 10\n",
        "EPOCHS = 5"
      ],
      "metadata": {
        "id": "tKqtbnmQvRW0"
      },
      "id": "tKqtbnmQvRW0",
      "execution_count": null,
      "outputs": []
    },
    {
      "cell_type": "markdown",
      "source": [
        "## Training the model"
      ],
      "metadata": {
        "id": "VZOoGyUkf6VH"
      },
      "id": "VZOoGyUkf6VH"
    },
    {
      "cell_type": "code",
      "execution_count": null,
      "id": "ecfa438e",
      "metadata": {
        "id": "ecfa438e"
      },
      "outputs": [],
      "source": [
        "start = default_timer()\n",
        "\n",
        "### intialize and compile model ###\n",
        "base_model = Model([x1, x2, x3], [yhat], name='baseline')\n",
        "base_model.compile(tf.keras.optimizers.Adam(0.00005),\n",
        "              loss='binary_crossentropy',\n",
        "              metrics = ['accuracy'])\n",
        "\n",
        "### train model ###\n",
        "\n",
        "# create model checkpoint\n",
        "checkpoint_filepath = '/content/drive/MyDrive/W266-NLP-Final-Project/checkpoint/baseline'\n",
        "\n",
        "model_checkpoint_callback = tf.keras.callbacks.ModelCheckpoint(\n",
        "    filepath=checkpoint_filepath,\n",
        "    save_weights_only=False,\n",
        "    monitor='val_accuracy',\n",
        "    mode='max',\n",
        "    save_best_only=True)\n",
        "\n",
        "# fit model\n",
        "base_hist = base_model.fit(X_train[-3:], y_train, validation_data=(X_val[-3:], y_val),\n",
        "                           epochs=EPOCHS, batch_size=6, callbacks=[model_checkpoint_callback])\n",
        "\n",
        "# The model weights (that are considered the best) are loaded into the model.\n",
        "base_model.load_weights(checkpoint_filepath)\n",
        "\n",
        "stop = default_timer()\n",
        "base_rt += (stop - start)"
      ]
    },
    {
      "cell_type": "code",
      "source": [
        "# in case you need to load it again\n",
        "checkpoint_filepath = '/content/drive/MyDrive/W266-NLP-Final-Project/checkpoint/baseline'\n",
        "base_model = Model([x1, x2, x3], [yhat], name='baseline')\n",
        "base_model.load_weights(checkpoint_filepath)\n",
        "y_pred = (base_model.predict(X_test[-3:]) > 0.5).flatten()"
      ],
      "metadata": {
        "colab": {
          "base_uri": "https://localhost:8080/"
        },
        "id": "5EHiW-a5WdkQ",
        "outputId": "182d28d6-f94b-4b4c-f189-97df5083e690"
      },
      "id": "5EHiW-a5WdkQ",
      "execution_count": null,
      "outputs": [
        {
          "output_type": "execute_result",
          "data": {
            "text/plain": [
              "array([[469,  15],\n",
              "       [ 18, 498]])"
            ]
          },
          "metadata": {},
          "execution_count": 11
        }
      ]
    },
    {
      "cell_type": "code",
      "source": [
        "results_df = model_scores(X_test[-3:], y_test, base_model, base_rt, results_df)"
      ],
      "metadata": {
        "id": "Pemx0vvV7jMa",
        "colab": {
          "base_uri": "https://localhost:8080/"
        },
        "outputId": "935a45d8-3430-4d98-fe2b-336e21db44b0"
      },
      "id": "Pemx0vvV7jMa",
      "execution_count": null,
      "outputs": [
        {
          "output_type": "stream",
          "name": "stdout",
          "text": [
            "Accuracy = 0.966\n",
            "F1 score = 0.965\n"
          ]
        }
      ]
    },
    {
      "cell_type": "markdown",
      "source": [
        "# ColBERT with 10k data"
      ],
      "metadata": {
        "id": "G3ET1Bk6SMaG"
      },
      "id": "G3ET1Bk6SMaG"
    },
    {
      "cell_type": "code",
      "source": [
        "SENT_INPUT_LEN = 20\n",
        "DOC_INPUT_LEN = 100\n",
        "DROPOUT_RATE = 0.5\n",
        "\n",
        "# 18 inputs, 3 for each parallel path (5 sentence-level paths & 1 document-level path)\n",
        "input_sent1_1 = Input(shape=(SENT_INPUT_LEN,), dtype=tf.int32, name='input_ii_sent1') # input IDs\n",
        "input_sent1_2 = Input(shape=(SENT_INPUT_LEN,), dtype=tf.int32, name='input_am_sent1') # attention masks\n",
        "input_sent1_3 = Input(shape=(SENT_INPUT_LEN,), dtype=tf.int32, name='input_tti_sent1') # token type IDs\n",
        "\n",
        "input_sent2_1 = Input(shape=(SENT_INPUT_LEN,), dtype=tf.int32, name='input_ii_sent2')\n",
        "input_sent2_2 = Input(shape=(SENT_INPUT_LEN,), dtype=tf.int32, name='input_am_sent2')\n",
        "input_sent2_3 = Input(shape=(SENT_INPUT_LEN,), dtype=tf.int32, name='input_tti_sent2')\n",
        "\n",
        "input_sent3_1 = Input(shape=(SENT_INPUT_LEN,), dtype=tf.int32, name='input_ii_sent3')\n",
        "input_sent3_2 = Input(shape=(SENT_INPUT_LEN,), dtype=tf.int32, name='input_am_sent3')\n",
        "input_sent3_3 = Input(shape=(SENT_INPUT_LEN,), dtype=tf.int32, name='input_tti_sent3')\n",
        "\n",
        "input_sent4_1 = Input(shape=(SENT_INPUT_LEN,), dtype=tf.int32, name='input_ii_sent4')\n",
        "input_sent4_2 = Input(shape=(SENT_INPUT_LEN,), dtype=tf.int32, name='input_am_sent4')\n",
        "input_sent4_3 = Input(shape=(SENT_INPUT_LEN,), dtype=tf.int32, name='input_tti_sent4')\n",
        "\n",
        "input_sent5_1 = Input(shape=(SENT_INPUT_LEN,), dtype=tf.int32, name='input_ii_sent5')\n",
        "input_sent5_2 = Input(shape=(SENT_INPUT_LEN,), dtype=tf.int32, name='input_am_sent5')\n",
        "input_sent5_3 = Input(shape=(SENT_INPUT_LEN,), dtype=tf.int32, name='input_tti_sent5')\n",
        "\n",
        "input_doc_1 = Input(shape=(DOC_INPUT_LEN,), dtype=tf.int32, name='input_ii_doc')\n",
        "input_doc_2 = Input(shape=(DOC_INPUT_LEN,), dtype=tf.int32, name='input_am_doc')\n",
        "input_doc_3 = Input(shape=(DOC_INPUT_LEN,), dtype=tf.int32, name='input_tti_doc')\n",
        "\n",
        "# embedding layer for sentences and documents\n",
        "#bert_embeddings = Embedding(num_tokens,embedding_dim,embeddings_initializer=keras.initializers.Constant(embedding_matrix),trainable=False)\n",
        "bert_model = TFBertModel.from_pretrained('bert-base-uncased')\n",
        "#bert_embeddings = bert_model(input_ids=input_sent1_1, attention_mask=input_sent1_2, token_type_ids=input_sent1_3) ########### HELP ###########\n",
        "bert_embeddings1 = bert_model(input_sent1_1, attention_mask=input_sent1_2, token_type_ids=input_sent1_3)\n",
        "bert_embeddings2 = bert_model(input_sent2_1, attention_mask=input_sent2_2, token_type_ids=input_sent2_3)\n",
        "bert_embeddings3 = bert_model(input_sent3_1, attention_mask=input_sent3_2, token_type_ids=input_sent3_3)\n",
        "bert_embeddings4 = bert_model(input_sent4_1, attention_mask=input_sent4_2, token_type_ids=input_sent4_3)\n",
        "bert_embeddings5 = bert_model(input_sent5_1, attention_mask=input_sent5_2, token_type_ids=input_sent5_3)\n",
        "bert_embeddings6 = bert_model(input_doc_1, attention_mask=input_doc_2, token_type_ids=input_doc_3)\n",
        "\n",
        "# get pooled vectors of BERT sentence embeddings\n",
        "x1 = bert_embeddings1[1] # can also do GlobalAveragePooling1D()\n",
        "x2 = bert_embeddings2[1] \n",
        "x3 = bert_embeddings3[1]\n",
        "x4 = bert_embeddings4[1]\n",
        "x5 = bert_embeddings5[1]\n",
        "x6 = bert_embeddings6[1] \n",
        "\n",
        "# fully connected layer w/ dropout\n",
        "h1_1 = Dense(32, activation='relu', name=\"hidden1_sent1\")(x1)\n",
        "h1_2 = Dense(32, activation='relu', name=\"hidden1_sent2\")(x2)\n",
        "h1_3 = Dense(32, activation='relu', name=\"hidden1_sent3\")(x3)\n",
        "h1_4 = Dense(32, activation='relu', name=\"hidden1_sent4\")(x4)\n",
        "h1_5 = Dense(32, activation='relu', name=\"hidden1_sent5\")(x5)\n",
        "h1_6 = Dense(256, activation='relu', name=\"hidden1_doc\")(x6)\n",
        "\n",
        "h1_dropout1 = Dropout(DROPOUT_RATE, name=\"h1_dropout_sent1\")(h1_1) ####################################################\n",
        "h1_dropout2 = Dropout(DROPOUT_RATE, name=\"h1_dropout_sent2\")(h1_2) ####################################################\n",
        "h1_dropout3 = Dropout(DROPOUT_RATE, name=\"h1_dropout_sent3\")(h1_3) #                rate TO BE CHANGED                # \n",
        "h1_dropout4 = Dropout(DROPOUT_RATE, name=\"h1_dropout_sent4\")(h1_4) #                                                  #\n",
        "h1_dropout5 = Dropout(DROPOUT_RATE, name=\"h1_dropout_sent5\")(h1_5) ####################################################\n",
        "h1_dropout6 = Dropout(DROPOUT_RATE, name=\"h1_dropout_doc\")(h1_6)   ####################################################\n",
        "\n",
        "# fully connected layer\n",
        "h2_1 = Dense(8, activation='relu', name=\"hidden2_sent1\")(h1_dropout1)\n",
        "h2_2 = Dense(8, activation='relu', name=\"hidden2_sent2\")(h1_dropout2)\n",
        "h2_3 = Dense(8, activation='relu', name=\"hidden2_sent3\")(h1_dropout3)\n",
        "h2_4 = Dense(8, activation='relu', name=\"hidden2_sent4\")(h1_dropout4)\n",
        "h2_5 = Dense(8, activation='relu', name=\"hidden2_sent5\")(h1_dropout5)\n",
        "h2_6 = Dense(64, activation='relu', name=\"hidden2_doc\")(h1_dropout6)\n",
        "\n",
        "# concatenate outputs of all 6 parallel layers\n",
        "xx = Concatenate()([h2_1, h2_2, h2_3, h2_4, h2_5, h2_6])\n",
        "\n",
        "# fully connected layer w/ dropout for concatenated inputs\n",
        "h3 = Dense(512, activation='relu', name=\"hidden3\")(xx)\n",
        "h3_dropout = Dropout(DROPOUT_RATE)(h3) ################ rate TO BE CHANGED ################\n",
        "\n",
        "# fully connected layer\n",
        "h4 = Dense(256, activation='relu', name=\"hidden4\")(h3_dropout)\n",
        "\n",
        "# final output layer\n",
        "yhat = Dense(1, activation='sigmoid', name=\"output\")(h4) # need to figure out dropout rate"
      ],
      "metadata": {
        "id": "Umr-K42WSO93"
      },
      "id": "Umr-K42WSO93",
      "execution_count": null,
      "outputs": []
    },
    {
      "cell_type": "code",
      "source": [
        "model_inputs = [input_sent1_1, input_sent1_2, input_sent1_3,\n",
        "                input_sent2_1, input_sent2_2, input_sent2_3,\n",
        "                input_sent3_1, input_sent3_2, input_sent3_3,\n",
        "                input_sent4_1, input_sent4_2, input_sent4_3,\n",
        "                input_sent5_1, input_sent5_2, input_sent5_3,\n",
        "                input_doc_1, input_doc_2, input_doc_3]\n",
        "\n",
        "input_dict = {'input_ii_sent1': inputs['0'], 'input_am_sent1': inputs['1'], 'input_tti_sent1': inputs['2'],\n",
        "              'input_ii_sent2': inputs['3'], 'input_am_sent2': inputs['4'], 'input_tti_sent2': inputs['5'],\n",
        "              'input_ii_sent3': inputs['6'], 'input_am_sent3': inputs['7'], 'input_tti_sent3': inputs['8'],\n",
        "              'input_ii_sent4': inputs['9'], 'input_am_sent4': inputs['10'], 'input_tti_sent4': inputs['11'],\n",
        "              'input_ii_sent5': inputs['12'], 'input_am_sent5': inputs['13'], 'input_tti_sent5': inputs['14'],\n",
        "              'input_ii_doc': inputs['15'], 'input_am_doc': inputs['16'], 'input_tti_doc': inputs['17'],\n",
        "} # we could just have the list of inputs, but this just helps us keep track\n",
        "\n",
        "model = Model(inputs=model_inputs, outputs=[yhat], name=\"colbert_full_model\")"
      ],
      "metadata": {
        "id": "5jcEa0uxSjs-"
      },
      "id": "5jcEa0uxSjs-",
      "execution_count": null,
      "outputs": []
    },
    {
      "cell_type": "code",
      "source": [
        "EPOCHS = 5\n",
        "checkpoint_filepath = '/content/drive/MyDrive/W266-NLP-Final-Project/checkpoint/colbert_best'\n",
        "\n",
        "val_inputs = np.load('/content/drive/MyDrive/W266-NLP-Final-Project/val_full_3k.npz', allow_pickle=True)\n",
        "x_val = list(val_inputs.values())\n",
        "\n",
        "model_checkpoint_callback = tf.keras.callbacks.ModelCheckpoint(\n",
        "    filepath=checkpoint_filepath,\n",
        "    save_weights_only=False,\n",
        "    monitor='val_accuracy',\n",
        "    mode='max',\n",
        "    save_best_only=True)\n",
        "\n",
        "\n",
        "model = Model(inputs=model_inputs, outputs=[yhat], name=\"keras_func_model\")\n",
        "model.compile(tf.keras.optimizers.Adam(0.00001),\n",
        "              loss='binary_crossentropy',\n",
        "              metrics = ['accuracy'])\n",
        "\n",
        "# Entire model is saved at the end of every epoch regardless of performance\n",
        "model.fit(input_dict, y_train, validation_data=(x_val, y_val), \n",
        "          epochs=EPOCHS, batch_size=6, callbacks=[model_checkpoint_callback])\n",
        "\n",
        "# The model weights (that are considered the best) are loaded into the model.\n",
        "model.load_weights(checkpoint_filepath)"
      ],
      "metadata": {
        "id": "GwyG33L2Sm9y"
      },
      "id": "GwyG33L2Sm9y",
      "execution_count": null,
      "outputs": []
    },
    {
      "cell_type": "markdown",
      "source": [
        "# ColBERT with 5k data"
      ],
      "metadata": {
        "id": "DHOa5RQIODZ4"
      },
      "id": "DHOa5RQIODZ4"
    },
    {
      "cell_type": "code",
      "source": [
        "start = default_timer()\n",
        "\n",
        "### model architecture ###\n",
        "\n",
        "SENT_INPUT_LEN = 20\n",
        "DOC_INPUT_LEN = 100\n",
        "DROPOUT_RATE = 0.5\n",
        "\n",
        "# 18 inputs, 3 for each parallel path (5 sentence-level paths & 1 document-level path)\n",
        "input_sent1_1 = Input(shape=(SENT_INPUT_LEN,), dtype=tf.int32, name='input_ii_sent1') # input IDs\n",
        "input_sent1_2 = Input(shape=(SENT_INPUT_LEN,), dtype=tf.int32, name='input_am_sent1') # attention masks\n",
        "input_sent1_3 = Input(shape=(SENT_INPUT_LEN,), dtype=tf.int32, name='input_tti_sent1') # token type IDs\n",
        "\n",
        "input_sent2_1 = Input(shape=(SENT_INPUT_LEN,), dtype=tf.int32, name='input_ii_sent2')\n",
        "input_sent2_2 = Input(shape=(SENT_INPUT_LEN,), dtype=tf.int32, name='input_am_sent2')\n",
        "input_sent2_3 = Input(shape=(SENT_INPUT_LEN,), dtype=tf.int32, name='input_tti_sent2')\n",
        "\n",
        "input_sent3_1 = Input(shape=(SENT_INPUT_LEN,), dtype=tf.int32, name='input_ii_sent3')\n",
        "input_sent3_2 = Input(shape=(SENT_INPUT_LEN,), dtype=tf.int32, name='input_am_sent3')\n",
        "input_sent3_3 = Input(shape=(SENT_INPUT_LEN,), dtype=tf.int32, name='input_tti_sent3')\n",
        "\n",
        "input_sent4_1 = Input(shape=(SENT_INPUT_LEN,), dtype=tf.int32, name='input_ii_sent4')\n",
        "input_sent4_2 = Input(shape=(SENT_INPUT_LEN,), dtype=tf.int32, name='input_am_sent4')\n",
        "input_sent4_3 = Input(shape=(SENT_INPUT_LEN,), dtype=tf.int32, name='input_tti_sent4')\n",
        "\n",
        "input_sent5_1 = Input(shape=(SENT_INPUT_LEN,), dtype=tf.int32, name='input_ii_sent5')\n",
        "input_sent5_2 = Input(shape=(SENT_INPUT_LEN,), dtype=tf.int32, name='input_am_sent5')\n",
        "input_sent5_3 = Input(shape=(SENT_INPUT_LEN,), dtype=tf.int32, name='input_tti_sent5')\n",
        "\n",
        "input_doc_1 = Input(shape=(DOC_INPUT_LEN,), dtype=tf.int32, name='input_ii_doc')\n",
        "input_doc_2 = Input(shape=(DOC_INPUT_LEN,), dtype=tf.int32, name='input_am_doc')\n",
        "input_doc_3 = Input(shape=(DOC_INPUT_LEN,), dtype=tf.int32, name='input_tti_doc')\n",
        "\n",
        "# embedding layer for sentences and documents\n",
        "#bert_embeddings = Embedding(num_tokens,embedding_dim,embeddings_initializer=keras.initializers.Constant(embedding_matrix),trainable=False)\n",
        "bert_model = TFBertModel.from_pretrained('bert-base-uncased')\n",
        "#bert_embeddings = bert_model(input_ids=input_sent1_1, attention_mask=input_sent1_2, token_type_ids=input_sent1_3) ########### HELP ###########\n",
        "bert_embeddings1 = bert_model(input_sent1_1, attention_mask=input_sent1_2, token_type_ids=input_sent1_3)\n",
        "bert_embeddings2 = bert_model(input_sent2_1, attention_mask=input_sent2_2, token_type_ids=input_sent2_3)\n",
        "bert_embeddings3 = bert_model(input_sent3_1, attention_mask=input_sent3_2, token_type_ids=input_sent3_3)\n",
        "bert_embeddings4 = bert_model(input_sent4_1, attention_mask=input_sent4_2, token_type_ids=input_sent4_3)\n",
        "bert_embeddings5 = bert_model(input_sent5_1, attention_mask=input_sent5_2, token_type_ids=input_sent5_3)\n",
        "bert_embeddings6 = bert_model(input_doc_1, attention_mask=input_doc_2, token_type_ids=input_doc_3)\n",
        "\n",
        "# get pooled vectors of BERT sentence embeddings\n",
        "x1 = bert_embeddings1[1] # can also do GlobalAveragePooling1D()\n",
        "x2 = bert_embeddings2[1] \n",
        "x3 = bert_embeddings3[1]\n",
        "x4 = bert_embeddings4[1]\n",
        "x5 = bert_embeddings5[1]\n",
        "x6 = bert_embeddings6[1] \n",
        "\n",
        "# fully connected layer w/ dropout\n",
        "h1_1 = Dense(32, activation='relu', name=\"hidden1_sent1\")(x1)\n",
        "h1_2 = Dense(32, activation='relu', name=\"hidden1_sent2\")(x2)\n",
        "h1_3 = Dense(32, activation='relu', name=\"hidden1_sent3\")(x3)\n",
        "h1_4 = Dense(32, activation='relu', name=\"hidden1_sent4\")(x4)\n",
        "h1_5 = Dense(32, activation='relu', name=\"hidden1_sent5\")(x5)\n",
        "h1_6 = Dense(256, activation='relu', name=\"hidden1_doc\")(x6)\n",
        "\n",
        "h1_dropout1 = Dropout(DROPOUT_RATE, name=\"h1_dropout_sent1\")(h1_1) \n",
        "h1_dropout2 = Dropout(DROPOUT_RATE, name=\"h1_dropout_sent2\")(h1_2) \n",
        "h1_dropout3 = Dropout(DROPOUT_RATE, name=\"h1_dropout_sent3\")(h1_3) \n",
        "h1_dropout4 = Dropout(DROPOUT_RATE, name=\"h1_dropout_sent4\")(h1_4) \n",
        "h1_dropout5 = Dropout(DROPOUT_RATE, name=\"h1_dropout_sent5\")(h1_5) \n",
        "h1_dropout6 = Dropout(DROPOUT_RATE, name=\"h1_dropout_doc\")(h1_6)   \n",
        "\n",
        "# fully connected layer\n",
        "h2_1 = Dense(8, activation='relu', name=\"hidden2_sent1\")(h1_dropout1)\n",
        "h2_2 = Dense(8, activation='relu', name=\"hidden2_sent2\")(h1_dropout2)\n",
        "h2_3 = Dense(8, activation='relu', name=\"hidden2_sent3\")(h1_dropout3)\n",
        "h2_4 = Dense(8, activation='relu', name=\"hidden2_sent4\")(h1_dropout4)\n",
        "h2_5 = Dense(8, activation='relu', name=\"hidden2_sent5\")(h1_dropout5)\n",
        "h2_6 = Dense(64, activation='relu', name=\"hidden2_doc\")(h1_dropout6)\n",
        "\n",
        "# concatenate outputs of all 6 parallel layers\n",
        "xx = Concatenate()([h2_1, h2_2, h2_3, h2_4, h2_5, h2_6])\n",
        "\n",
        "# fully connected layer w/ dropout for concatenated inputs\n",
        "h3 = Dense(512, activation='relu', name=\"hidden3\")(xx)\n",
        "h3_dropout = Dropout(DROPOUT_RATE)(h3)\n",
        "\n",
        "# fully connected layer\n",
        "h4 = Dense(256, activation='relu', name=\"hidden4\")(h3_dropout)\n",
        "\n",
        "# final output layer\n",
        "yhat = Dense(1, activation='sigmoid', name=\"output\")(h4)\n",
        "\n",
        "model_inputs = [input_sent1_1, input_sent1_2, input_sent1_3,\n",
        "                input_sent2_1, input_sent2_2, input_sent2_3,\n",
        "                input_sent3_1, input_sent3_2, input_sent3_3,\n",
        "                input_sent4_1, input_sent4_2, input_sent4_3,\n",
        "                input_sent5_1, input_sent5_2, input_sent5_3,\n",
        "                input_doc_1, input_doc_2, input_doc_3]\n",
        "\n",
        "### end of model architecture ###\n",
        "\n",
        "stop = default_timer()\n",
        "colbert_5k_rt = (stop - start)"
      ],
      "metadata": {
        "id": "mBYHNhdWOH-R",
        "colab": {
          "base_uri": "https://localhost:8080/"
        },
        "outputId": "a200a650-b652-43fd-9f12-790b059975b9"
      },
      "id": "mBYHNhdWOH-R",
      "execution_count": null,
      "outputs": [
        {
          "output_type": "stream",
          "name": "stderr",
          "text": [
            "Some weights of the model checkpoint at bert-base-uncased were not used when initializing TFBertModel: ['nsp___cls', 'mlm___cls']\n",
            "- This IS expected if you are initializing TFBertModel from the checkpoint of a model trained on another task or with another architecture (e.g. initializing a BertForSequenceClassification model from a BertForPretraining model).\n",
            "- This IS NOT expected if you are initializing TFBertModel from the checkpoint of a model that you expect to be exactly identical (initializing a BertForSequenceClassification model from a BertForSequenceClassification model).\n",
            "All the weights of TFBertModel were initialized from the model checkpoint at bert-base-uncased.\n",
            "If your task is similar to the task the model of the ckeckpoint was trained on, you can already use TFBertModel for predictions without further training.\n"
          ]
        }
      ]
    },
    {
      "cell_type": "code",
      "source": [
        "start = default_timer()\n",
        "\n",
        "### intialize and compile model ###\n",
        "colbert_5k_model = Model(model_inputs, [yhat], name='colbert_5k')\n",
        "colbert_5k_model.compile(tf.keras.optimizers.Adam(0.00001),\n",
        "              loss='binary_crossentropy',\n",
        "              metrics = ['accuracy'])\n",
        "\n",
        "### train model ###\n",
        "X_train_5k = [X_train[i][:5000,] for i in range(len(X_train))]\n",
        "X_val_3k = [X_val[i][:3000,] for i in range(len(X_val))]\n",
        "\n",
        "y_train_5k, y_val_3k = y_train[:5000], y_val[:3000]\n",
        "\n",
        "# create model checkpoint\n",
        "colbert_5k_cp_filepath = '/content/drive/MyDrive/W266-NLP-Final-Project/checkpoint/colbert_5k'\n",
        "\n",
        "colbert_5k_cp_callback = tf.keras.callbacks.ModelCheckpoint(\n",
        "    filepath=colbert_5k_cp_filepath,\n",
        "    save_weights_only=False,\n",
        "    monitor='val_accuracy',\n",
        "    mode='max',\n",
        "    save_best_only=True)\n",
        "\n",
        "# fit model\n",
        "colbert_5k_hist = colbert_5k_model.fit(X_train_5k, y_train_5k, validation_data=(X_val_3k, y_val_3k),\n",
        "                           epochs=EPOCHS, batch_size=6, callbacks=[colbert_5k_cp_callback])\n",
        "\n",
        "# The model weights (that are considered the best) are loaded into the model.\n",
        "colbert_5k_model.load_weights(colbert_5k_cp_filepath)\n",
        "\n",
        "stop = default_timer()\n",
        "colbert_5k_rt += (stop - start)"
      ],
      "metadata": {
        "id": "6xyzmTgQONly",
        "colab": {
          "base_uri": "https://localhost:8080/"
        },
        "outputId": "d5063936-2666-4a64-de6c-766bcd241843"
      },
      "id": "6xyzmTgQONly",
      "execution_count": null,
      "outputs": [
        {
          "output_type": "stream",
          "name": "stdout",
          "text": [
            "Epoch 1/5\n",
            "834/834 [==============================] - ETA: 0s - loss: 0.3757 - accuracy: 0.8296"
          ]
        },
        {
          "output_type": "stream",
          "name": "stderr",
          "text": [
            "WARNING:absl:Found untraced functions such as embeddings_layer_call_fn, embeddings_layer_call_and_return_conditional_losses, encoder_layer_call_fn, encoder_layer_call_and_return_conditional_losses, pooler_layer_call_fn while saving (showing 5 of 426). These functions will not be directly callable after loading.\n"
          ]
        },
        {
          "output_type": "stream",
          "name": "stdout",
          "text": [
            "INFO:tensorflow:Assets written to: /content/drive/MyDrive/W266-NLP-Final-Project/checkpoint/colbert_5k/assets\n"
          ]
        },
        {
          "output_type": "stream",
          "name": "stderr",
          "text": [
            "INFO:tensorflow:Assets written to: /content/drive/MyDrive/W266-NLP-Final-Project/checkpoint/colbert_5k/assets\n"
          ]
        },
        {
          "output_type": "stream",
          "name": "stdout",
          "text": [
            "\b\b\b\b\b\b\b\b\b\b\b\b\b\b\b\b\b\b\b\b\b\b\b\b\b\b\b\b\b\b\b\b\b\b\b\b\b\b\b\b\b\b\b\b\b\b\b\b\b\b\b\b\b\b\b\b\b\b\b\b\b\b\b\b\b\b\b\b\b\b\b\b\b\b\b\b\b\b\b\b\b\b\b\b\r834/834 [==============================] - 438s 422ms/step - loss: 0.3757 - accuracy: 0.8296 - val_loss: 0.1684 - val_accuracy: 0.9473\n",
            "Epoch 2/5\n",
            "834/834 [==============================] - ETA: 0s - loss: 0.0968 - accuracy: 0.9720"
          ]
        },
        {
          "output_type": "stream",
          "name": "stderr",
          "text": [
            "WARNING:absl:Found untraced functions such as embeddings_layer_call_fn, embeddings_layer_call_and_return_conditional_losses, encoder_layer_call_fn, encoder_layer_call_and_return_conditional_losses, pooler_layer_call_fn while saving (showing 5 of 426). These functions will not be directly callable after loading.\n"
          ]
        },
        {
          "output_type": "stream",
          "name": "stdout",
          "text": [
            "INFO:tensorflow:Assets written to: /content/drive/MyDrive/W266-NLP-Final-Project/checkpoint/colbert_5k/assets\n"
          ]
        },
        {
          "output_type": "stream",
          "name": "stderr",
          "text": [
            "INFO:tensorflow:Assets written to: /content/drive/MyDrive/W266-NLP-Final-Project/checkpoint/colbert_5k/assets\n"
          ]
        },
        {
          "output_type": "stream",
          "name": "stdout",
          "text": [
            "\b\b\b\b\b\b\b\b\b\b\b\b\b\b\b\b\b\b\b\b\b\b\b\b\b\b\b\b\b\b\b\b\b\b\b\b\b\b\b\b\b\b\b\b\b\b\b\b\b\b\b\b\b\b\b\b\b\b\b\b\b\b\b\b\b\b\b\b\b\b\b\b\b\b\b\b\b\b\b\b\b\b\b\b\r834/834 [==============================] - 340s 408ms/step - loss: 0.0968 - accuracy: 0.9720 - val_loss: 0.1048 - val_accuracy: 0.9613\n",
            "Epoch 3/5\n",
            "834/834 [==============================] - ETA: 0s - loss: 0.0426 - accuracy: 0.9882"
          ]
        },
        {
          "output_type": "stream",
          "name": "stderr",
          "text": [
            "WARNING:absl:Found untraced functions such as embeddings_layer_call_fn, embeddings_layer_call_and_return_conditional_losses, encoder_layer_call_fn, encoder_layer_call_and_return_conditional_losses, pooler_layer_call_fn while saving (showing 5 of 426). These functions will not be directly callable after loading.\n"
          ]
        },
        {
          "output_type": "stream",
          "name": "stdout",
          "text": [
            "INFO:tensorflow:Assets written to: /content/drive/MyDrive/W266-NLP-Final-Project/checkpoint/colbert_5k/assets\n"
          ]
        },
        {
          "output_type": "stream",
          "name": "stderr",
          "text": [
            "INFO:tensorflow:Assets written to: /content/drive/MyDrive/W266-NLP-Final-Project/checkpoint/colbert_5k/assets\n"
          ]
        },
        {
          "output_type": "stream",
          "name": "stdout",
          "text": [
            "\b\b\b\b\b\b\b\b\b\b\b\b\b\b\b\b\b\b\b\b\b\b\b\b\b\b\b\b\b\b\b\b\b\b\b\b\b\b\b\b\b\b\b\b\b\b\b\b\b\b\b\b\b\b\b\b\b\b\b\b\b\b\b\b\b\b\b\b\b\b\b\b\b\b\b\b\b\b\b\b\b\b\b\b\r834/834 [==============================] - 343s 411ms/step - loss: 0.0426 - accuracy: 0.9882 - val_loss: 0.1186 - val_accuracy: 0.9680\n",
            "Epoch 4/5\n",
            "834/834 [==============================] - ETA: 0s - loss: 0.0184 - accuracy: 0.9960"
          ]
        },
        {
          "output_type": "stream",
          "name": "stderr",
          "text": [
            "WARNING:absl:Found untraced functions such as embeddings_layer_call_fn, embeddings_layer_call_and_return_conditional_losses, encoder_layer_call_fn, encoder_layer_call_and_return_conditional_losses, pooler_layer_call_fn while saving (showing 5 of 426). These functions will not be directly callable after loading.\n"
          ]
        },
        {
          "output_type": "stream",
          "name": "stdout",
          "text": [
            "INFO:tensorflow:Assets written to: /content/drive/MyDrive/W266-NLP-Final-Project/checkpoint/colbert_5k/assets\n"
          ]
        },
        {
          "output_type": "stream",
          "name": "stderr",
          "text": [
            "INFO:tensorflow:Assets written to: /content/drive/MyDrive/W266-NLP-Final-Project/checkpoint/colbert_5k/assets\n"
          ]
        },
        {
          "output_type": "stream",
          "name": "stdout",
          "text": [
            "\b\b\b\b\b\b\b\b\b\b\b\b\b\b\b\b\b\b\b\b\b\b\b\b\b\b\b\b\b\b\b\b\b\b\b\b\b\b\b\b\b\b\b\b\b\b\b\b\b\b\b\b\b\b\b\b\b\b\b\b\b\b\b\b\b\b\b\b\b\b\b\b\b\b\b\b\b\b\b\b\b\b\b\b\r834/834 [==============================] - 341s 409ms/step - loss: 0.0184 - accuracy: 0.9960 - val_loss: 0.1269 - val_accuracy: 0.9707\n",
            "Epoch 5/5\n",
            "834/834 [==============================] - 237s 284ms/step - loss: 0.0127 - accuracy: 0.9966 - val_loss: 0.1578 - val_accuracy: 0.9660\n"
          ]
        }
      ]
    },
    {
      "cell_type": "code",
      "source": [
        "results_df = pd.read_csv(folder/'model_results.csv')\n",
        "X_test_5k = [X_test[i][:5000,] for i in range(len(X_test))]\n",
        "y_test_5k = y_test[:5000]\n",
        "results_df = model_scores(X_test_5k, y_test_5k, colbert_5k_model, colbert_5k_rt, results_df)\n",
        "results_df.to_csv('model_results.csv', index=False)"
      ],
      "metadata": {
        "id": "_roaVPECOSw-",
        "colab": {
          "base_uri": "https://localhost:8080/"
        },
        "outputId": "488b9bd0-82d8-4baa-c6ba-675ce21c0d30"
      },
      "id": "_roaVPECOSw-",
      "execution_count": null,
      "outputs": [
        {
          "output_type": "stream",
          "name": "stdout",
          "text": [
            "Accuracy = 0.964\n",
            "F1 score = 0.963\n"
          ]
        }
      ]
    },
    {
      "cell_type": "code",
      "source": [
        "results_df"
      ],
      "metadata": {
        "colab": {
          "base_uri": "https://localhost:8080/",
          "height": 300
        },
        "id": "7pu2b0idrRoi",
        "outputId": "739d6650-8e3a-4b15-e57a-58c235d17f2e"
      },
      "id": "7pu2b0idrRoi",
      "execution_count": null,
      "outputs": [
        {
          "output_type": "execute_result",
          "data": {
            "text/plain": [
              "                Model  Baseline Accuracy  Accuracy  Precision    Recall  \\\n",
              "0            baseline              0.516     0.966   0.962963  0.966942   \n",
              "1         colbert_doc              0.516     0.961   0.962578  0.956612   \n",
              "2       baseline_sent              0.516     0.961   0.960663  0.958678   \n",
              "3        colbert_sent              0.516     0.961   0.970402  0.948347   \n",
              "4       colbert_2sent              0.516     0.958   0.947368  0.966942   \n",
              "5      colbert_simple              0.516     0.962   0.986900  0.933884   \n",
              "6  colbert_full_model              0.516     0.970   0.969008  0.969008   \n",
              "7          colbert_5k              0.516     0.964   0.959016  0.966942   \n",
              "\n",
              "         F1      Runtime  \n",
              "0  0.964948  1133.553155  \n",
              "1  0.959585  1274.059635  \n",
              "2  0.959669  1715.643404  \n",
              "3  0.959248  1998.740468  \n",
              "4  0.957055   942.127935  \n",
              "5  0.959660  1788.420719  \n",
              "6  0.969008    40.648261  \n",
              "7  0.962963  1712.479673  "
            ],
            "text/html": [
              "\n",
              "  <div id=\"df-9fc1083f-b888-4f31-9f86-1e8c5d6489e8\">\n",
              "    <div class=\"colab-df-container\">\n",
              "      <div>\n",
              "<style scoped>\n",
              "    .dataframe tbody tr th:only-of-type {\n",
              "        vertical-align: middle;\n",
              "    }\n",
              "\n",
              "    .dataframe tbody tr th {\n",
              "        vertical-align: top;\n",
              "    }\n",
              "\n",
              "    .dataframe thead th {\n",
              "        text-align: right;\n",
              "    }\n",
              "</style>\n",
              "<table border=\"1\" class=\"dataframe\">\n",
              "  <thead>\n",
              "    <tr style=\"text-align: right;\">\n",
              "      <th></th>\n",
              "      <th>Model</th>\n",
              "      <th>Baseline Accuracy</th>\n",
              "      <th>Accuracy</th>\n",
              "      <th>Precision</th>\n",
              "      <th>Recall</th>\n",
              "      <th>F1</th>\n",
              "      <th>Runtime</th>\n",
              "    </tr>\n",
              "  </thead>\n",
              "  <tbody>\n",
              "    <tr>\n",
              "      <th>0</th>\n",
              "      <td>baseline</td>\n",
              "      <td>0.516</td>\n",
              "      <td>0.966</td>\n",
              "      <td>0.962963</td>\n",
              "      <td>0.966942</td>\n",
              "      <td>0.964948</td>\n",
              "      <td>1133.553155</td>\n",
              "    </tr>\n",
              "    <tr>\n",
              "      <th>1</th>\n",
              "      <td>colbert_doc</td>\n",
              "      <td>0.516</td>\n",
              "      <td>0.961</td>\n",
              "      <td>0.962578</td>\n",
              "      <td>0.956612</td>\n",
              "      <td>0.959585</td>\n",
              "      <td>1274.059635</td>\n",
              "    </tr>\n",
              "    <tr>\n",
              "      <th>2</th>\n",
              "      <td>baseline_sent</td>\n",
              "      <td>0.516</td>\n",
              "      <td>0.961</td>\n",
              "      <td>0.960663</td>\n",
              "      <td>0.958678</td>\n",
              "      <td>0.959669</td>\n",
              "      <td>1715.643404</td>\n",
              "    </tr>\n",
              "    <tr>\n",
              "      <th>3</th>\n",
              "      <td>colbert_sent</td>\n",
              "      <td>0.516</td>\n",
              "      <td>0.961</td>\n",
              "      <td>0.970402</td>\n",
              "      <td>0.948347</td>\n",
              "      <td>0.959248</td>\n",
              "      <td>1998.740468</td>\n",
              "    </tr>\n",
              "    <tr>\n",
              "      <th>4</th>\n",
              "      <td>colbert_2sent</td>\n",
              "      <td>0.516</td>\n",
              "      <td>0.958</td>\n",
              "      <td>0.947368</td>\n",
              "      <td>0.966942</td>\n",
              "      <td>0.957055</td>\n",
              "      <td>942.127935</td>\n",
              "    </tr>\n",
              "    <tr>\n",
              "      <th>5</th>\n",
              "      <td>colbert_simple</td>\n",
              "      <td>0.516</td>\n",
              "      <td>0.962</td>\n",
              "      <td>0.986900</td>\n",
              "      <td>0.933884</td>\n",
              "      <td>0.959660</td>\n",
              "      <td>1788.420719</td>\n",
              "    </tr>\n",
              "    <tr>\n",
              "      <th>6</th>\n",
              "      <td>colbert_full_model</td>\n",
              "      <td>0.516</td>\n",
              "      <td>0.970</td>\n",
              "      <td>0.969008</td>\n",
              "      <td>0.969008</td>\n",
              "      <td>0.969008</td>\n",
              "      <td>40.648261</td>\n",
              "    </tr>\n",
              "    <tr>\n",
              "      <th>7</th>\n",
              "      <td>colbert_5k</td>\n",
              "      <td>0.516</td>\n",
              "      <td>0.964</td>\n",
              "      <td>0.959016</td>\n",
              "      <td>0.966942</td>\n",
              "      <td>0.962963</td>\n",
              "      <td>1712.479673</td>\n",
              "    </tr>\n",
              "  </tbody>\n",
              "</table>\n",
              "</div>\n",
              "      <button class=\"colab-df-convert\" onclick=\"convertToInteractive('df-9fc1083f-b888-4f31-9f86-1e8c5d6489e8')\"\n",
              "              title=\"Convert this dataframe to an interactive table.\"\n",
              "              style=\"display:none;\">\n",
              "        \n",
              "  <svg xmlns=\"http://www.w3.org/2000/svg\" height=\"24px\"viewBox=\"0 0 24 24\"\n",
              "       width=\"24px\">\n",
              "    <path d=\"M0 0h24v24H0V0z\" fill=\"none\"/>\n",
              "    <path d=\"M18.56 5.44l.94 2.06.94-2.06 2.06-.94-2.06-.94-.94-2.06-.94 2.06-2.06.94zm-11 1L8.5 8.5l.94-2.06 2.06-.94-2.06-.94L8.5 2.5l-.94 2.06-2.06.94zm10 10l.94 2.06.94-2.06 2.06-.94-2.06-.94-.94-2.06-.94 2.06-2.06.94z\"/><path d=\"M17.41 7.96l-1.37-1.37c-.4-.4-.92-.59-1.43-.59-.52 0-1.04.2-1.43.59L10.3 9.45l-7.72 7.72c-.78.78-.78 2.05 0 2.83L4 21.41c.39.39.9.59 1.41.59.51 0 1.02-.2 1.41-.59l7.78-7.78 2.81-2.81c.8-.78.8-2.07 0-2.86zM5.41 20L4 18.59l7.72-7.72 1.47 1.35L5.41 20z\"/>\n",
              "  </svg>\n",
              "      </button>\n",
              "      \n",
              "  <style>\n",
              "    .colab-df-container {\n",
              "      display:flex;\n",
              "      flex-wrap:wrap;\n",
              "      gap: 12px;\n",
              "    }\n",
              "\n",
              "    .colab-df-convert {\n",
              "      background-color: #E8F0FE;\n",
              "      border: none;\n",
              "      border-radius: 50%;\n",
              "      cursor: pointer;\n",
              "      display: none;\n",
              "      fill: #1967D2;\n",
              "      height: 32px;\n",
              "      padding: 0 0 0 0;\n",
              "      width: 32px;\n",
              "    }\n",
              "\n",
              "    .colab-df-convert:hover {\n",
              "      background-color: #E2EBFA;\n",
              "      box-shadow: 0px 1px 2px rgba(60, 64, 67, 0.3), 0px 1px 3px 1px rgba(60, 64, 67, 0.15);\n",
              "      fill: #174EA6;\n",
              "    }\n",
              "\n",
              "    [theme=dark] .colab-df-convert {\n",
              "      background-color: #3B4455;\n",
              "      fill: #D2E3FC;\n",
              "    }\n",
              "\n",
              "    [theme=dark] .colab-df-convert:hover {\n",
              "      background-color: #434B5C;\n",
              "      box-shadow: 0px 1px 3px 1px rgba(0, 0, 0, 0.15);\n",
              "      filter: drop-shadow(0px 1px 2px rgba(0, 0, 0, 0.3));\n",
              "      fill: #FFFFFF;\n",
              "    }\n",
              "  </style>\n",
              "\n",
              "      <script>\n",
              "        const buttonEl =\n",
              "          document.querySelector('#df-9fc1083f-b888-4f31-9f86-1e8c5d6489e8 button.colab-df-convert');\n",
              "        buttonEl.style.display =\n",
              "          google.colab.kernel.accessAllowed ? 'block' : 'none';\n",
              "\n",
              "        async function convertToInteractive(key) {\n",
              "          const element = document.querySelector('#df-9fc1083f-b888-4f31-9f86-1e8c5d6489e8');\n",
              "          const dataTable =\n",
              "            await google.colab.kernel.invokeFunction('convertToInteractive',\n",
              "                                                     [key], {});\n",
              "          if (!dataTable) return;\n",
              "\n",
              "          const docLinkHtml = 'Like what you see? Visit the ' +\n",
              "            '<a target=\"_blank\" href=https://colab.research.google.com/notebooks/data_table.ipynb>data table notebook</a>'\n",
              "            + ' to learn more about interactive tables.';\n",
              "          element.innerHTML = '';\n",
              "          dataTable['output_type'] = 'display_data';\n",
              "          await google.colab.output.renderOutput(dataTable, element);\n",
              "          const docLink = document.createElement('div');\n",
              "          docLink.innerHTML = docLinkHtml;\n",
              "          element.appendChild(docLink);\n",
              "        }\n",
              "      </script>\n",
              "    </div>\n",
              "  </div>\n",
              "  "
            ]
          },
          "metadata": {},
          "execution_count": 17
        }
      ]
    },
    {
      "cell_type": "markdown",
      "source": [
        "# ColBERT with *only* documents as input"
      ],
      "metadata": {
        "id": "WN_2vhBxRcgh"
      },
      "id": "WN_2vhBxRcgh"
    },
    {
      "cell_type": "code",
      "source": [
        "start = default_timer()\n",
        "\n",
        "### model architecture ###\n",
        "DOC_INPUT_LEN = 100\n",
        "DROPOUT_RATE = 0.5\n",
        "\n",
        "# 3 inputs, (1 document-level path)\n",
        "input_doc_1 = Input(shape=(DOC_INPUT_LEN,), dtype=tf.int32, name='input_ii_doc') # input IDs\n",
        "input_doc_2 = Input(shape=(DOC_INPUT_LEN,), dtype=tf.int32, name='input_am_doc') # attention masks\n",
        "input_doc_3 = Input(shape=(DOC_INPUT_LEN,), dtype=tf.int32, name='input_tti_doc') # token type IDs\n",
        "\n",
        "# embedding layer for sentences and documents\n",
        "bert_model = TFBertModel.from_pretrained('bert-base-uncased')\n",
        "bert_embeddings6 = bert_model(input_doc_1, attention_mask=input_doc_2, token_type_ids=input_doc_3)\n",
        "\n",
        "# get pooled vectors of BERT sentence embeddings\n",
        "x6 = bert_embeddings6[1] \n",
        "\n",
        "# fully connected layer w/ dropout\n",
        "h1_6 = Dense(256, activation='relu', name=\"hidden1_doc\")(x6)\n",
        "\n",
        "h1_dropout6 = Dropout(DROPOUT_RATE, name=\"h1_dropout_doc\")(h1_6)\n",
        "\n",
        "# fully connected layer\n",
        "h2_6 = Dense(64, activation='relu', name=\"hidden2_doc\")(h1_dropout6)\n",
        "\n",
        "# no need to concatenate outputs from previous layers\n",
        "\n",
        "# fully connected layer w/ dropout for concatenated inputs\n",
        "h3 = Dense(512, activation='relu', name=\"hidden3\")(h2_6)\n",
        "h3_dropout = Dropout(DROPOUT_RATE)(h3)\n",
        "\n",
        "# fully connected layer\n",
        "h4 = Dense(256, activation='relu', name=\"hidden4\")(h3_dropout)\n",
        "\n",
        "# final output layer\n",
        "yhat = Dense(1, activation='sigmoid', name=\"output\")(h4) # need to figure out dropout rate\n",
        "\n",
        "### end of model architecture ###\n",
        "\n",
        "stop = default_timer()\n",
        "colbert_doc_rt = (stop - start)"
      ],
      "metadata": {
        "id": "_wVGpYpBRiSv",
        "colab": {
          "base_uri": "https://localhost:8080/",
          "height": 188,
          "referenced_widgets": [
            "5eaba5d62fb14876ab6ef57d9ce88448",
            "70f9bb86a8d64f01bbfd876ac56d1b99",
            "8b3d67837c6d4dbaae1234c03277e57c",
            "8d4ac97c91774ea188241a1186673806",
            "171c60bb0af54de3b46ecaab2dc6de8b",
            "a1fa5504d064480285b827166f5fc35e",
            "c57f54e9d50c448b9c764d7301f907aa",
            "2c23c02d26494833a95683b0ab9a4700",
            "1a21ccc6eb1c46ffa681fa45c0fef6f7",
            "26d981a634354aee92da487769a76ed7",
            "25fe8c8ca3bd4d548c57f65a32a2ee66",
            "f447e6b07d1846e0a95ff13c470c8790",
            "febfe9874ea148dc9c773d83dd260af1",
            "cae28c1aeaca46ca96762a302bb0785b",
            "21e4071d3d9040409615c74a21532b9a",
            "fe3d83ebd5814b2ba46c251ad55c5ffe",
            "a049036a7641491f9e1255eb9b208ea2",
            "c0693013bc814067b8f1ce4af3d5d0b2",
            "5cd5acf6c2074594945c385735a3cae8",
            "ca817ed3c4664516a25e225e727e8a9e",
            "cb3359f0371f4624a9c78d9e501c0d4d",
            "3d8d6dea60eb4343ad0dcc3412bb6701"
          ]
        },
        "outputId": "ff6029b7-0230-48e7-aaa3-9165f707f51a"
      },
      "id": "_wVGpYpBRiSv",
      "execution_count": null,
      "outputs": [
        {
          "output_type": "display_data",
          "data": {
            "text/plain": [
              "Downloading:   0%|          | 0.00/433 [00:00<?, ?B/s]"
            ],
            "application/vnd.jupyter.widget-view+json": {
              "version_major": 2,
              "version_minor": 0,
              "model_id": "5eaba5d62fb14876ab6ef57d9ce88448"
            }
          },
          "metadata": {}
        },
        {
          "output_type": "display_data",
          "data": {
            "text/plain": [
              "Downloading:   0%|          | 0.00/536M [00:00<?, ?B/s]"
            ],
            "application/vnd.jupyter.widget-view+json": {
              "version_major": 2,
              "version_minor": 0,
              "model_id": "f447e6b07d1846e0a95ff13c470c8790"
            }
          },
          "metadata": {}
        },
        {
          "output_type": "stream",
          "name": "stderr",
          "text": [
            "Some weights of the model checkpoint at bert-base-uncased were not used when initializing TFBertModel: ['nsp___cls', 'mlm___cls']\n",
            "- This IS expected if you are initializing TFBertModel from the checkpoint of a model trained on another task or with another architecture (e.g. initializing a BertForSequenceClassification model from a BertForPretraining model).\n",
            "- This IS NOT expected if you are initializing TFBertModel from the checkpoint of a model that you expect to be exactly identical (initializing a BertForSequenceClassification model from a BertForSequenceClassification model).\n",
            "All the weights of TFBertModel were initialized from the model checkpoint at bert-base-uncased.\n",
            "If your task is similar to the task the model of the ckeckpoint was trained on, you can already use TFBertModel for predictions without further training.\n"
          ]
        }
      ]
    },
    {
      "cell_type": "code",
      "source": [
        "start = default_timer()\n",
        "\n",
        "### intialize and compile model ###\n",
        "EPOCHS = 5\n",
        "\n",
        "colbert_doc_model = Model([input_doc_1, input_doc_2, input_doc_3], [yhat], name='colbert_doc')\n",
        "colbert_doc_model.compile(tf.keras.optimizers.Adam(0.00001),\n",
        "                          loss='binary_crossentropy',\n",
        "                          metrics = ['accuracy'])\n",
        "\n",
        "### train model ###\n",
        "\n",
        "# create model checkpoint\n",
        "colbert_doc_cp_filepath = '/content/drive/MyDrive/W266-NLP-Final-Project/checkpoint/colbert_doc'\n",
        "\n",
        "colbert_doc_model_cp_callback = tf.keras.callbacks.ModelCheckpoint(\n",
        "                                  filepath=colbert_doc_cp_filepath,\n",
        "                                  save_weights_only=False,\n",
        "                                  monitor='val_accuracy',\n",
        "                                  mode='max',\n",
        "                                  save_best_only=True)\n",
        "\n",
        "# fit model\n",
        "colbert_doc_hist = colbert_doc_model.fit(X_train[-3:], y_train, validation_data=(X_val[-3:], y_val),\n",
        "                                         epochs=EPOCHS, batch_size=6,\n",
        "                                         callbacks=[colbert_doc_model_cp_callback])\n",
        "\n",
        "# The model weights (that are considered the best) are loaded into the model.\n",
        "colbert_doc_model.load_weights(colbert_doc_cp_filepath)\n",
        "\n",
        "stop = default_timer()\n",
        "colbert_doc_rt += (stop - start)"
      ],
      "metadata": {
        "id": "wAVZ4NxwRq9u",
        "colab": {
          "base_uri": "https://localhost:8080/"
        },
        "outputId": "761c5ac6-a345-4170-86fb-45a4826fae08"
      },
      "id": "wAVZ4NxwRq9u",
      "execution_count": null,
      "outputs": [
        {
          "output_type": "stream",
          "name": "stdout",
          "text": [
            "Epoch 1/5\n",
            "1667/1667 [==============================] - ETA: 0s - loss: 0.2020 - accuracy: 0.9200"
          ]
        },
        {
          "output_type": "stream",
          "name": "stderr",
          "text": [
            "WARNING:absl:Found untraced functions such as embeddings_layer_call_fn, embeddings_layer_call_and_return_conditional_losses, encoder_layer_call_fn, encoder_layer_call_and_return_conditional_losses, pooler_layer_call_fn while saving (showing 5 of 426). These functions will not be directly callable after loading.\n"
          ]
        },
        {
          "output_type": "stream",
          "name": "stdout",
          "text": [
            "INFO:tensorflow:Assets written to: /content/drive/MyDrive/W266-NLP-Final-Project/checkpoint/colbert_doc/assets\n"
          ]
        },
        {
          "output_type": "stream",
          "name": "stderr",
          "text": [
            "INFO:tensorflow:Assets written to: /content/drive/MyDrive/W266-NLP-Final-Project/checkpoint/colbert_doc/assets\n"
          ]
        },
        {
          "output_type": "stream",
          "name": "stdout",
          "text": [
            "\b\b\b\b\b\b\b\b\b\b\b\b\b\b\b\b\b\b\b\b\b\b\b\b\b\b\b\b\b\b\b\b\b\b\b\b\b\b\b\b\b\b\b\b\b\b\b\b\b\b\b\b\b\b\b\b\b\b\b\b\b\b\b\b\b\b\b\b\b\b\b\b\b\b\b\b\b\b\b\b\b\b\b\b\b\b\r1667/1667 [==============================] - 265s 149ms/step - loss: 0.2020 - accuracy: 0.9200 - val_loss: 0.1263 - val_accuracy: 0.9587\n",
            "Epoch 2/5\n",
            "1667/1667 [==============================] - ETA: 0s - loss: 0.0589 - accuracy: 0.9829"
          ]
        },
        {
          "output_type": "stream",
          "name": "stderr",
          "text": [
            "WARNING:absl:Found untraced functions such as embeddings_layer_call_fn, embeddings_layer_call_and_return_conditional_losses, encoder_layer_call_fn, encoder_layer_call_and_return_conditional_losses, pooler_layer_call_fn while saving (showing 5 of 426). These functions will not be directly callable after loading.\n"
          ]
        },
        {
          "output_type": "stream",
          "name": "stdout",
          "text": [
            "INFO:tensorflow:Assets written to: /content/drive/MyDrive/W266-NLP-Final-Project/checkpoint/colbert_doc/assets\n"
          ]
        },
        {
          "output_type": "stream",
          "name": "stderr",
          "text": [
            "INFO:tensorflow:Assets written to: /content/drive/MyDrive/W266-NLP-Final-Project/checkpoint/colbert_doc/assets\n"
          ]
        },
        {
          "output_type": "stream",
          "name": "stdout",
          "text": [
            "\b\b\b\b\b\b\b\b\b\b\b\b\b\b\b\b\b\b\b\b\b\b\b\b\b\b\b\b\b\b\b\b\b\b\b\b\b\b\b\b\b\b\b\b\b\b\b\b\b\b\b\b\b\b\b\b\b\b\b\b\b\b\b\b\b\b\b\b\b\b\b\b\b\b\b\b\b\b\b\b\b\b\b\b\b\b\r1667/1667 [==============================] - 250s 150ms/step - loss: 0.0589 - accuracy: 0.9829 - val_loss: 0.1216 - val_accuracy: 0.9633\n",
            "Epoch 3/5\n",
            "1667/1667 [==============================] - ETA: 0s - loss: 0.0341 - accuracy: 0.9909"
          ]
        },
        {
          "output_type": "stream",
          "name": "stderr",
          "text": [
            "WARNING:absl:Found untraced functions such as embeddings_layer_call_fn, embeddings_layer_call_and_return_conditional_losses, encoder_layer_call_fn, encoder_layer_call_and_return_conditional_losses, pooler_layer_call_fn while saving (showing 5 of 426). These functions will not be directly callable after loading.\n"
          ]
        },
        {
          "output_type": "stream",
          "name": "stdout",
          "text": [
            "INFO:tensorflow:Assets written to: /content/drive/MyDrive/W266-NLP-Final-Project/checkpoint/colbert_doc/assets\n"
          ]
        },
        {
          "output_type": "stream",
          "name": "stderr",
          "text": [
            "INFO:tensorflow:Assets written to: /content/drive/MyDrive/W266-NLP-Final-Project/checkpoint/colbert_doc/assets\n"
          ]
        },
        {
          "output_type": "stream",
          "name": "stdout",
          "text": [
            "\b\b\b\b\b\b\b\b\b\b\b\b\b\b\b\b\b\b\b\b\b\b\b\b\b\b\b\b\b\b\b\b\b\b\b\b\b\b\b\b\b\b\b\b\b\b\b\b\b\b\b\b\b\b\b\b\b\b\b\b\b\b\b\b\b\b\b\b\b\b\b\b\b\b\b\b\b\b\b\b\b\b\b\b\b\b\r1667/1667 [==============================] - 252s 151ms/step - loss: 0.0341 - accuracy: 0.9909 - val_loss: 0.1238 - val_accuracy: 0.9723\n",
            "Epoch 4/5\n",
            "1667/1667 [==============================] - ETA: 0s - loss: 0.0164 - accuracy: 0.9950"
          ]
        },
        {
          "output_type": "stream",
          "name": "stderr",
          "text": [
            "WARNING:absl:Found untraced functions such as embeddings_layer_call_fn, embeddings_layer_call_and_return_conditional_losses, encoder_layer_call_fn, encoder_layer_call_and_return_conditional_losses, pooler_layer_call_fn while saving (showing 5 of 426). These functions will not be directly callable after loading.\n"
          ]
        },
        {
          "output_type": "stream",
          "name": "stdout",
          "text": [
            "INFO:tensorflow:Assets written to: /content/drive/MyDrive/W266-NLP-Final-Project/checkpoint/colbert_doc/assets\n"
          ]
        },
        {
          "output_type": "stream",
          "name": "stderr",
          "text": [
            "INFO:tensorflow:Assets written to: /content/drive/MyDrive/W266-NLP-Final-Project/checkpoint/colbert_doc/assets\n"
          ]
        },
        {
          "output_type": "stream",
          "name": "stdout",
          "text": [
            "\b\b\b\b\b\b\b\b\b\b\b\b\b\b\b\b\b\b\b\b\b\b\b\b\b\b\b\b\b\b\b\b\b\b\b\b\b\b\b\b\b\b\b\b\b\b\b\b\b\b\b\b\b\b\b\b\b\b\b\b\b\b\b\b\b\b\b\b\b\b\b\b\b\b\b\b\b\b\b\b\b\b\b\b\b\b\r1667/1667 [==============================] - 253s 152ms/step - loss: 0.0164 - accuracy: 0.9950 - val_loss: 0.1185 - val_accuracy: 0.9733\n",
            "Epoch 5/5\n",
            "1667/1667 [==============================] - ETA: 0s - loss: 0.0104 - accuracy: 0.9968"
          ]
        },
        {
          "output_type": "stream",
          "name": "stderr",
          "text": [
            "WARNING:absl:Found untraced functions such as embeddings_layer_call_fn, embeddings_layer_call_and_return_conditional_losses, encoder_layer_call_fn, encoder_layer_call_and_return_conditional_losses, pooler_layer_call_fn while saving (showing 5 of 426). These functions will not be directly callable after loading.\n"
          ]
        },
        {
          "output_type": "stream",
          "name": "stdout",
          "text": [
            "INFO:tensorflow:Assets written to: /content/drive/MyDrive/W266-NLP-Final-Project/checkpoint/colbert_doc/assets\n"
          ]
        },
        {
          "output_type": "stream",
          "name": "stderr",
          "text": [
            "INFO:tensorflow:Assets written to: /content/drive/MyDrive/W266-NLP-Final-Project/checkpoint/colbert_doc/assets\n"
          ]
        },
        {
          "output_type": "stream",
          "name": "stdout",
          "text": [
            "\b\b\b\b\b\b\b\b\b\b\b\b\b\b\b\b\b\b\b\b\b\b\b\b\b\b\b\b\b\b\b\b\b\b\b\b\b\b\b\b\b\b\b\b\b\b\b\b\b\b\b\b\b\b\b\b\b\b\b\b\b\b\b\b\b\b\b\b\b\b\b\b\b\b\b\b\b\b\b\b\b\b\b\b\b\b\r1667/1667 [==============================] - 250s 150ms/step - loss: 0.0104 - accuracy: 0.9968 - val_loss: 0.1423 - val_accuracy: 0.9737\n"
          ]
        }
      ]
    },
    {
      "cell_type": "code",
      "source": [
        "results_df = model_scores(X_test[-3:], y_test, colbert_doc_model, colbert_doc_rt, results_df)"
      ],
      "metadata": {
        "id": "bVLmtgzKvNvZ",
        "colab": {
          "base_uri": "https://localhost:8080/"
        },
        "outputId": "a39af5ff-9b4c-4dab-b476-6e168b8902c3"
      },
      "id": "bVLmtgzKvNvZ",
      "execution_count": null,
      "outputs": [
        {
          "output_type": "stream",
          "name": "stdout",
          "text": [
            "Accuracy = 0.961\n",
            "F1 score = 0.96\n"
          ]
        }
      ]
    },
    {
      "cell_type": "markdown",
      "source": [
        "# Baseline Model with Sentence Inputs"
      ],
      "metadata": {
        "id": "WCnfZRB-TUV6"
      },
      "id": "WCnfZRB-TUV6"
    },
    {
      "cell_type": "code",
      "source": [
        "start = default_timer()\n",
        "\n",
        "### model architecture ###\n",
        "SENT_INPUT_LEN = 20\n",
        "\n",
        "# 18 inputs, 3 for each parallel path (5 sentence-level paths & 1 document-level path)\n",
        "input_sent1_1 = Input(shape=(SENT_INPUT_LEN,), dtype=tf.int32, name='input_ii_sent1') # input IDs\n",
        "input_sent1_2 = Input(shape=(SENT_INPUT_LEN,), dtype=tf.int32, name='input_am_sent1') # attention masks\n",
        "input_sent1_3 = Input(shape=(SENT_INPUT_LEN,), dtype=tf.int32, name='input_tti_sent1') # token type IDs\n",
        "\n",
        "input_sent2_1 = Input(shape=(SENT_INPUT_LEN,), dtype=tf.int32, name='input_ii_sent2')\n",
        "input_sent2_2 = Input(shape=(SENT_INPUT_LEN,), dtype=tf.int32, name='input_am_sent2')\n",
        "input_sent2_3 = Input(shape=(SENT_INPUT_LEN,), dtype=tf.int32, name='input_tti_sent2')\n",
        "\n",
        "input_sent3_1 = Input(shape=(SENT_INPUT_LEN,), dtype=tf.int32, name='input_ii_sent3')\n",
        "input_sent3_2 = Input(shape=(SENT_INPUT_LEN,), dtype=tf.int32, name='input_am_sent3')\n",
        "input_sent3_3 = Input(shape=(SENT_INPUT_LEN,), dtype=tf.int32, name='input_tti_sent3')\n",
        "\n",
        "input_sent4_1 = Input(shape=(SENT_INPUT_LEN,), dtype=tf.int32, name='input_ii_sent4')\n",
        "input_sent4_2 = Input(shape=(SENT_INPUT_LEN,), dtype=tf.int32, name='input_am_sent4')\n",
        "input_sent4_3 = Input(shape=(SENT_INPUT_LEN,), dtype=tf.int32, name='input_tti_sent4')\n",
        "\n",
        "input_sent5_1 = Input(shape=(SENT_INPUT_LEN,), dtype=tf.int32, name='input_ii_sent5')\n",
        "input_sent5_2 = Input(shape=(SENT_INPUT_LEN,), dtype=tf.int32, name='input_am_sent5')\n",
        "input_sent5_3 = Input(shape=(SENT_INPUT_LEN,), dtype=tf.int32, name='input_tti_sent5')\n",
        "\n",
        "# embedding layer for sentences and documents\n",
        "bert_model = TFBertModel.from_pretrained('bert-base-uncased')\n",
        "bert_embeddings1 = bert_model(input_sent1_1, attention_mask=input_sent1_2, token_type_ids=input_sent1_3)\n",
        "bert_embeddings2 = bert_model(input_sent2_1, attention_mask=input_sent2_2, token_type_ids=input_sent2_3)\n",
        "bert_embeddings3 = bert_model(input_sent3_1, attention_mask=input_sent3_2, token_type_ids=input_sent3_3)\n",
        "bert_embeddings4 = bert_model(input_sent4_1, attention_mask=input_sent4_2, token_type_ids=input_sent4_3)\n",
        "bert_embeddings5 = bert_model(input_sent5_1, attention_mask=input_sent5_2, token_type_ids=input_sent5_3)\n",
        "\n",
        "# get pooled vectors of BERT sentence embeddings\n",
        "x1 = bert_embeddings1[1] # can also do GlobalAveragePooling1D()\n",
        "x2 = bert_embeddings2[1] \n",
        "x3 = bert_embeddings3[1]\n",
        "x4 = bert_embeddings4[1]\n",
        "x5 = bert_embeddings5[1]\n",
        "\n",
        "# concatenate outputs of all 6 parallel layers\n",
        "xx = Concatenate()([x1, x2, x3, x4, x5])\n",
        "\n",
        "# final output layer\n",
        "yhat = Dense(1, activation='sigmoid', name=\"output\")(xx)\n",
        "\n",
        "\n",
        "### end of model architecture ###\n",
        "\n",
        "stop = default_timer()\n",
        "base_sent_rt = (stop - start)"
      ],
      "metadata": {
        "id": "4lDQEktiTmb9",
        "colab": {
          "base_uri": "https://localhost:8080/"
        },
        "outputId": "014c6b4e-0494-4688-dadc-ffed768c680b"
      },
      "id": "4lDQEktiTmb9",
      "execution_count": null,
      "outputs": [
        {
          "output_type": "stream",
          "name": "stderr",
          "text": [
            "Some weights of the model checkpoint at bert-base-uncased were not used when initializing TFBertModel: ['nsp___cls', 'mlm___cls']\n",
            "- This IS expected if you are initializing TFBertModel from the checkpoint of a model trained on another task or with another architecture (e.g. initializing a BertForSequenceClassification model from a BertForPretraining model).\n",
            "- This IS NOT expected if you are initializing TFBertModel from the checkpoint of a model that you expect to be exactly identical (initializing a BertForSequenceClassification model from a BertForSequenceClassification model).\n",
            "All the weights of TFBertModel were initialized from the model checkpoint at bert-base-uncased.\n",
            "If your task is similar to the task the model of the ckeckpoint was trained on, you can already use TFBertModel for predictions without further training.\n"
          ]
        }
      ]
    },
    {
      "cell_type": "code",
      "source": [
        "start = default_timer()\n",
        "\n",
        "### intialize and compile model ###\n",
        "EPOCHS = 5\n",
        "\n",
        "sent_inputs = [input_sent1_1, input_sent1_2, input_sent1_3,\n",
        "               input_sent2_1, input_sent2_2, input_sent2_3,\n",
        "               input_sent3_1, input_sent3_2, input_sent3_3,\n",
        "               input_sent4_1, input_sent4_2, input_sent4_3,\n",
        "               input_sent5_1, input_sent5_2, input_sent5_3]\n",
        "\n",
        "base_sent_model = Model(sent_inputs, [yhat], name='baseline_sent')\n",
        "base_sent_model.compile(tf.keras.optimizers.Adam(0.00005),\n",
        "                          loss='binary_crossentropy',\n",
        "                          metrics = ['accuracy'])\n",
        "\n",
        "### train model ###\n",
        "\n",
        "# create model checkpoint\n",
        "base_sent_cp_filepath = '/content/drive/MyDrive/W266-NLP-Final-Project/checkpoint/baseline_sent'\n",
        "\n",
        "base_sent_model_cp_callback = tf.keras.callbacks.ModelCheckpoint(\n",
        "                                  filepath=base_sent_cp_filepath,\n",
        "                                  save_weights_only=False,\n",
        "                                  monitor='val_accuracy',\n",
        "                                  mode='max',\n",
        "                                  save_best_only=True)\n",
        "\n",
        "# fit model\n",
        "base_sent_hist = base_sent_model.fit(X_train[:15], y_train, validation_data=(X_val[:15], y_val),\n",
        "                                         epochs=EPOCHS, batch_size=6,\n",
        "                                         callbacks=[base_sent_model_cp_callback])\n",
        "\n",
        "# The model weights (that are considered the best) are loaded into the model.\n",
        "base_sent_model.load_weights(base_sent_cp_filepath)\n",
        "\n",
        "stop = default_timer()\n",
        "base_sent_rt += (stop - start)"
      ],
      "metadata": {
        "id": "fh_cU0FxUlj2",
        "colab": {
          "base_uri": "https://localhost:8080/"
        },
        "outputId": "2e5b8a85-9e62-4c16-a6bb-67a779910ea6"
      },
      "id": "fh_cU0FxUlj2",
      "execution_count": null,
      "outputs": [
        {
          "output_type": "stream",
          "name": "stdout",
          "text": [
            "Epoch 1/5\n",
            "1667/1667 [==============================] - ETA: 0s - loss: 0.1556 - accuracy: 0.9431"
          ]
        },
        {
          "output_type": "stream",
          "name": "stderr",
          "text": [
            "WARNING:absl:Found untraced functions such as embeddings_layer_call_fn, embeddings_layer_call_and_return_conditional_losses, encoder_layer_call_fn, encoder_layer_call_and_return_conditional_losses, pooler_layer_call_fn while saving (showing 5 of 426). These functions will not be directly callable after loading.\n"
          ]
        },
        {
          "output_type": "stream",
          "name": "stdout",
          "text": [
            "INFO:tensorflow:Assets written to: /content/drive/MyDrive/W266-NLP-Final-Project/checkpoint/baseline_sent/assets\n"
          ]
        },
        {
          "output_type": "stream",
          "name": "stderr",
          "text": [
            "INFO:tensorflow:Assets written to: /content/drive/MyDrive/W266-NLP-Final-Project/checkpoint/baseline_sent/assets\n"
          ]
        },
        {
          "output_type": "stream",
          "name": "stdout",
          "text": [
            "\b\b\b\b\b\b\b\b\b\b\b\b\b\b\b\b\b\b\b\b\b\b\b\b\b\b\b\b\b\b\b\b\b\b\b\b\b\b\b\b\b\b\b\b\b\b\b\b\b\b\b\b\b\b\b\b\b\b\b\b\b\b\b\b\b\b\b\b\b\b\b\b\b\b\b\b\b\b\b\b\b\b\b\b\b\b\r1667/1667 [==============================] - 474s 241ms/step - loss: 0.1556 - accuracy: 0.9431 - val_loss: 0.1021 - val_accuracy: 0.9573\n",
            "Epoch 2/5\n",
            "1667/1667 [==============================] - 308s 185ms/step - loss: 0.0713 - accuracy: 0.9757 - val_loss: 0.1118 - val_accuracy: 0.9560\n",
            "Epoch 3/5\n",
            "1667/1667 [==============================] - ETA: 0s - loss: 0.0432 - accuracy: 0.9859"
          ]
        },
        {
          "output_type": "stream",
          "name": "stderr",
          "text": [
            "WARNING:absl:Found untraced functions such as embeddings_layer_call_fn, embeddings_layer_call_and_return_conditional_losses, encoder_layer_call_fn, encoder_layer_call_and_return_conditional_losses, pooler_layer_call_fn while saving (showing 5 of 426). These functions will not be directly callable after loading.\n"
          ]
        },
        {
          "output_type": "stream",
          "name": "stdout",
          "text": [
            "INFO:tensorflow:Assets written to: /content/drive/MyDrive/W266-NLP-Final-Project/checkpoint/baseline_sent/assets\n"
          ]
        },
        {
          "output_type": "stream",
          "name": "stderr",
          "text": [
            "INFO:tensorflow:Assets written to: /content/drive/MyDrive/W266-NLP-Final-Project/checkpoint/baseline_sent/assets\n"
          ]
        },
        {
          "output_type": "stream",
          "name": "stdout",
          "text": [
            "\b\b\b\b\b\b\b\b\b\b\b\b\b\b\b\b\b\b\b\b\b\b\b\b\b\b\b\b\b\b\b\b\b\b\b\b\b\b\b\b\b\b\b\b\b\b\b\b\b\b\b\b\b\b\b\b\b\b\b\b\b\b\b\b\b\b\b\b\b\b\b\b\b\b\b\b\b\b\b\b\b\b\b\b\b\b\r1667/1667 [==============================] - 394s 237ms/step - loss: 0.0432 - accuracy: 0.9859 - val_loss: 0.1306 - val_accuracy: 0.9580\n",
            "Epoch 4/5\n",
            "1667/1667 [==============================] - 310s 186ms/step - loss: 0.0413 - accuracy: 0.9876 - val_loss: 0.1592 - val_accuracy: 0.9563\n",
            "Epoch 5/5\n",
            "1667/1667 [==============================] - ETA: 0s - loss: 0.0323 - accuracy: 0.9904"
          ]
        },
        {
          "output_type": "stream",
          "name": "stderr",
          "text": [
            "WARNING:absl:Found untraced functions such as embeddings_layer_call_fn, embeddings_layer_call_and_return_conditional_losses, encoder_layer_call_fn, encoder_layer_call_and_return_conditional_losses, pooler_layer_call_fn while saving (showing 5 of 426). These functions will not be directly callable after loading.\n"
          ]
        },
        {
          "output_type": "stream",
          "name": "stdout",
          "text": [
            "INFO:tensorflow:Assets written to: /content/drive/MyDrive/W266-NLP-Final-Project/checkpoint/baseline_sent/assets\n"
          ]
        },
        {
          "output_type": "stream",
          "name": "stderr",
          "text": [
            "INFO:tensorflow:Assets written to: /content/drive/MyDrive/W266-NLP-Final-Project/checkpoint/baseline_sent/assets\n"
          ]
        },
        {
          "output_type": "stream",
          "name": "stdout",
          "text": [
            "\b\b\b\b\b\b\b\b\b\b\b\b\b\b\b\b\b\b\b\b\b\b\b\b\b\b\b\b\b\b\b\b\b\b\b\b\b\b\b\b\b\b\b\b\b\b\b\b\b\b\b\b\b\b\b\b\b\b\b\b\b\b\b\b\b\b\b\b\b\b\b\b\b\b\b\b\b\b\b\b\b\b\b\b\b\b\r1667/1667 [==============================] - 388s 233ms/step - loss: 0.0323 - accuracy: 0.9904 - val_loss: 0.1382 - val_accuracy: 0.9613\n"
          ]
        }
      ]
    },
    {
      "cell_type": "code",
      "source": [
        "# save model eval reulsts into dataframe\n",
        "results_df = model_scores(X_test[:15], y_test, base_sent_model, base_sent_rt, results_df)"
      ],
      "metadata": {
        "id": "NkN3DPz1xCfb",
        "colab": {
          "base_uri": "https://localhost:8080/"
        },
        "outputId": "92216d53-9de8-4628-b391-e1e6c1538239"
      },
      "id": "NkN3DPz1xCfb",
      "execution_count": null,
      "outputs": [
        {
          "output_type": "stream",
          "name": "stdout",
          "text": [
            "WARNING:tensorflow:Detecting that an object or model or tf.train.Checkpoint is being deleted with unrestored values. See the following logs for the specific values in question. To silence these warnings, use `status.expect_partial()`. See https://www.tensorflow.org/api_docs/python/tf/train/Checkpoint#restorefor details about the status object returned by the restore function.\n"
          ]
        },
        {
          "output_type": "stream",
          "name": "stderr",
          "text": [
            "WARNING:tensorflow:Detecting that an object or model or tf.train.Checkpoint is being deleted with unrestored values. See the following logs for the specific values in question. To silence these warnings, use `status.expect_partial()`. See https://www.tensorflow.org/api_docs/python/tf/train/Checkpoint#restorefor details about the status object returned by the restore function.\n"
          ]
        },
        {
          "output_type": "stream",
          "name": "stdout",
          "text": [
            "WARNING:tensorflow:Value in checkpoint could not be found in the restored object: (root).keras_api.metrics.0.total\n"
          ]
        },
        {
          "output_type": "stream",
          "name": "stderr",
          "text": [
            "WARNING:tensorflow:Value in checkpoint could not be found in the restored object: (root).keras_api.metrics.0.total\n"
          ]
        },
        {
          "output_type": "stream",
          "name": "stdout",
          "text": [
            "WARNING:tensorflow:Value in checkpoint could not be found in the restored object: (root).keras_api.metrics.0.count\n"
          ]
        },
        {
          "output_type": "stream",
          "name": "stderr",
          "text": [
            "WARNING:tensorflow:Value in checkpoint could not be found in the restored object: (root).keras_api.metrics.0.count\n"
          ]
        },
        {
          "output_type": "stream",
          "name": "stdout",
          "text": [
            "WARNING:tensorflow:Value in checkpoint could not be found in the restored object: (root).keras_api.metrics.1.total\n"
          ]
        },
        {
          "output_type": "stream",
          "name": "stderr",
          "text": [
            "WARNING:tensorflow:Value in checkpoint could not be found in the restored object: (root).keras_api.metrics.1.total\n"
          ]
        },
        {
          "output_type": "stream",
          "name": "stdout",
          "text": [
            "WARNING:tensorflow:Value in checkpoint could not be found in the restored object: (root).keras_api.metrics.1.count\n"
          ]
        },
        {
          "output_type": "stream",
          "name": "stderr",
          "text": [
            "WARNING:tensorflow:Value in checkpoint could not be found in the restored object: (root).keras_api.metrics.1.count\n"
          ]
        },
        {
          "output_type": "stream",
          "name": "stdout",
          "text": [
            "Accuracy = 0.954\n",
            "F1 score = 0.953\n"
          ]
        }
      ]
    },
    {
      "cell_type": "code",
      "source": [
        "results_df"
      ],
      "metadata": {
        "colab": {
          "base_uri": "https://localhost:8080/",
          "height": 175
        },
        "id": "naN9lYJku2gs",
        "outputId": "e87928a8-c7d8-4934-8588-b7b9a8e5b305"
      },
      "id": "naN9lYJku2gs",
      "execution_count": null,
      "outputs": [
        {
          "output_type": "execute_result",
          "data": {
            "text/plain": [
              "           Model  Baseline Accuracy  Accuracy  Precision    Recall        F1  \\\n",
              "0       baseline              0.516     0.966   0.962963  0.966942  0.964948   \n",
              "1    colbert_doc              0.516     0.961   0.962578  0.956612  0.959585   \n",
              "2  baseline_sent              0.516     0.961   0.960663  0.958678  0.959669   \n",
              "3  baseline_sent              0.516     0.954   0.950617  0.954545  0.952577   \n",
              "\n",
              "       Runtime  \n",
              "0  1133.553155  \n",
              "1  1274.059635  \n",
              "2  1715.643404  \n",
              "3  1886.257185  "
            ],
            "text/html": [
              "\n",
              "  <div id=\"df-0df31192-1718-4c79-87f1-75e1862b39a7\">\n",
              "    <div class=\"colab-df-container\">\n",
              "      <div>\n",
              "<style scoped>\n",
              "    .dataframe tbody tr th:only-of-type {\n",
              "        vertical-align: middle;\n",
              "    }\n",
              "\n",
              "    .dataframe tbody tr th {\n",
              "        vertical-align: top;\n",
              "    }\n",
              "\n",
              "    .dataframe thead th {\n",
              "        text-align: right;\n",
              "    }\n",
              "</style>\n",
              "<table border=\"1\" class=\"dataframe\">\n",
              "  <thead>\n",
              "    <tr style=\"text-align: right;\">\n",
              "      <th></th>\n",
              "      <th>Model</th>\n",
              "      <th>Baseline Accuracy</th>\n",
              "      <th>Accuracy</th>\n",
              "      <th>Precision</th>\n",
              "      <th>Recall</th>\n",
              "      <th>F1</th>\n",
              "      <th>Runtime</th>\n",
              "    </tr>\n",
              "  </thead>\n",
              "  <tbody>\n",
              "    <tr>\n",
              "      <th>0</th>\n",
              "      <td>baseline</td>\n",
              "      <td>0.516</td>\n",
              "      <td>0.966</td>\n",
              "      <td>0.962963</td>\n",
              "      <td>0.966942</td>\n",
              "      <td>0.964948</td>\n",
              "      <td>1133.553155</td>\n",
              "    </tr>\n",
              "    <tr>\n",
              "      <th>1</th>\n",
              "      <td>colbert_doc</td>\n",
              "      <td>0.516</td>\n",
              "      <td>0.961</td>\n",
              "      <td>0.962578</td>\n",
              "      <td>0.956612</td>\n",
              "      <td>0.959585</td>\n",
              "      <td>1274.059635</td>\n",
              "    </tr>\n",
              "    <tr>\n",
              "      <th>2</th>\n",
              "      <td>baseline_sent</td>\n",
              "      <td>0.516</td>\n",
              "      <td>0.961</td>\n",
              "      <td>0.960663</td>\n",
              "      <td>0.958678</td>\n",
              "      <td>0.959669</td>\n",
              "      <td>1715.643404</td>\n",
              "    </tr>\n",
              "    <tr>\n",
              "      <th>3</th>\n",
              "      <td>baseline_sent</td>\n",
              "      <td>0.516</td>\n",
              "      <td>0.954</td>\n",
              "      <td>0.950617</td>\n",
              "      <td>0.954545</td>\n",
              "      <td>0.952577</td>\n",
              "      <td>1886.257185</td>\n",
              "    </tr>\n",
              "  </tbody>\n",
              "</table>\n",
              "</div>\n",
              "      <button class=\"colab-df-convert\" onclick=\"convertToInteractive('df-0df31192-1718-4c79-87f1-75e1862b39a7')\"\n",
              "              title=\"Convert this dataframe to an interactive table.\"\n",
              "              style=\"display:none;\">\n",
              "        \n",
              "  <svg xmlns=\"http://www.w3.org/2000/svg\" height=\"24px\"viewBox=\"0 0 24 24\"\n",
              "       width=\"24px\">\n",
              "    <path d=\"M0 0h24v24H0V0z\" fill=\"none\"/>\n",
              "    <path d=\"M18.56 5.44l.94 2.06.94-2.06 2.06-.94-2.06-.94-.94-2.06-.94 2.06-2.06.94zm-11 1L8.5 8.5l.94-2.06 2.06-.94-2.06-.94L8.5 2.5l-.94 2.06-2.06.94zm10 10l.94 2.06.94-2.06 2.06-.94-2.06-.94-.94-2.06-.94 2.06-2.06.94z\"/><path d=\"M17.41 7.96l-1.37-1.37c-.4-.4-.92-.59-1.43-.59-.52 0-1.04.2-1.43.59L10.3 9.45l-7.72 7.72c-.78.78-.78 2.05 0 2.83L4 21.41c.39.39.9.59 1.41.59.51 0 1.02-.2 1.41-.59l7.78-7.78 2.81-2.81c.8-.78.8-2.07 0-2.86zM5.41 20L4 18.59l7.72-7.72 1.47 1.35L5.41 20z\"/>\n",
              "  </svg>\n",
              "      </button>\n",
              "      \n",
              "  <style>\n",
              "    .colab-df-container {\n",
              "      display:flex;\n",
              "      flex-wrap:wrap;\n",
              "      gap: 12px;\n",
              "    }\n",
              "\n",
              "    .colab-df-convert {\n",
              "      background-color: #E8F0FE;\n",
              "      border: none;\n",
              "      border-radius: 50%;\n",
              "      cursor: pointer;\n",
              "      display: none;\n",
              "      fill: #1967D2;\n",
              "      height: 32px;\n",
              "      padding: 0 0 0 0;\n",
              "      width: 32px;\n",
              "    }\n",
              "\n",
              "    .colab-df-convert:hover {\n",
              "      background-color: #E2EBFA;\n",
              "      box-shadow: 0px 1px 2px rgba(60, 64, 67, 0.3), 0px 1px 3px 1px rgba(60, 64, 67, 0.15);\n",
              "      fill: #174EA6;\n",
              "    }\n",
              "\n",
              "    [theme=dark] .colab-df-convert {\n",
              "      background-color: #3B4455;\n",
              "      fill: #D2E3FC;\n",
              "    }\n",
              "\n",
              "    [theme=dark] .colab-df-convert:hover {\n",
              "      background-color: #434B5C;\n",
              "      box-shadow: 0px 1px 3px 1px rgba(0, 0, 0, 0.15);\n",
              "      filter: drop-shadow(0px 1px 2px rgba(0, 0, 0, 0.3));\n",
              "      fill: #FFFFFF;\n",
              "    }\n",
              "  </style>\n",
              "\n",
              "      <script>\n",
              "        const buttonEl =\n",
              "          document.querySelector('#df-0df31192-1718-4c79-87f1-75e1862b39a7 button.colab-df-convert');\n",
              "        buttonEl.style.display =\n",
              "          google.colab.kernel.accessAllowed ? 'block' : 'none';\n",
              "\n",
              "        async function convertToInteractive(key) {\n",
              "          const element = document.querySelector('#df-0df31192-1718-4c79-87f1-75e1862b39a7');\n",
              "          const dataTable =\n",
              "            await google.colab.kernel.invokeFunction('convertToInteractive',\n",
              "                                                     [key], {});\n",
              "          if (!dataTable) return;\n",
              "\n",
              "          const docLinkHtml = 'Like what you see? Visit the ' +\n",
              "            '<a target=\"_blank\" href=https://colab.research.google.com/notebooks/data_table.ipynb>data table notebook</a>'\n",
              "            + ' to learn more about interactive tables.';\n",
              "          element.innerHTML = '';\n",
              "          dataTable['output_type'] = 'display_data';\n",
              "          await google.colab.output.renderOutput(dataTable, element);\n",
              "          const docLink = document.createElement('div');\n",
              "          docLink.innerHTML = docLinkHtml;\n",
              "          element.appendChild(docLink);\n",
              "        }\n",
              "      </script>\n",
              "    </div>\n",
              "  </div>\n",
              "  "
            ]
          },
          "metadata": {},
          "execution_count": 29
        }
      ]
    },
    {
      "cell_type": "markdown",
      "source": [
        "# ColBERT with *only* sentences as input"
      ],
      "metadata": {
        "id": "l2ZX8x9STC9z"
      },
      "id": "l2ZX8x9STC9z"
    },
    {
      "cell_type": "code",
      "source": [
        "start = default_timer()\n",
        "\n",
        "### model architecture ###\n",
        "SENT_INPUT_LEN = 20\n",
        "DROPOUT_RATE = 0.5\n",
        "\n",
        "# 18 inputs, 3 for each parallel path (5 sentence-level paths & 1 document-level path)\n",
        "input_sent1_1 = Input(shape=(SENT_INPUT_LEN,), dtype=tf.int32, name='input_ii_sent1') # input IDs\n",
        "input_sent1_2 = Input(shape=(SENT_INPUT_LEN,), dtype=tf.int32, name='input_am_sent1') # attention masks\n",
        "input_sent1_3 = Input(shape=(SENT_INPUT_LEN,), dtype=tf.int32, name='input_tti_sent1') # token type IDs\n",
        "\n",
        "input_sent2_1 = Input(shape=(SENT_INPUT_LEN,), dtype=tf.int32, name='input_ii_sent2')\n",
        "input_sent2_2 = Input(shape=(SENT_INPUT_LEN,), dtype=tf.int32, name='input_am_sent2')\n",
        "input_sent2_3 = Input(shape=(SENT_INPUT_LEN,), dtype=tf.int32, name='input_tti_sent2')\n",
        "\n",
        "input_sent3_1 = Input(shape=(SENT_INPUT_LEN,), dtype=tf.int32, name='input_ii_sent3')\n",
        "input_sent3_2 = Input(shape=(SENT_INPUT_LEN,), dtype=tf.int32, name='input_am_sent3')\n",
        "input_sent3_3 = Input(shape=(SENT_INPUT_LEN,), dtype=tf.int32, name='input_tti_sent3')\n",
        "\n",
        "input_sent4_1 = Input(shape=(SENT_INPUT_LEN,), dtype=tf.int32, name='input_ii_sent4')\n",
        "input_sent4_2 = Input(shape=(SENT_INPUT_LEN,), dtype=tf.int32, name='input_am_sent4')\n",
        "input_sent4_3 = Input(shape=(SENT_INPUT_LEN,), dtype=tf.int32, name='input_tti_sent4')\n",
        "\n",
        "input_sent5_1 = Input(shape=(SENT_INPUT_LEN,), dtype=tf.int32, name='input_ii_sent5')\n",
        "input_sent5_2 = Input(shape=(SENT_INPUT_LEN,), dtype=tf.int32, name='input_am_sent5')\n",
        "input_sent5_3 = Input(shape=(SENT_INPUT_LEN,), dtype=tf.int32, name='input_tti_sent5')\n",
        "\n",
        "# embedding layer for sentences and documents\n",
        "bert_model = TFBertModel.from_pretrained('bert-base-uncased')\n",
        "bert_embeddings1 = bert_model(input_sent1_1, attention_mask=input_sent1_2, token_type_ids=input_sent1_3)\n",
        "bert_embeddings2 = bert_model(input_sent2_1, attention_mask=input_sent2_2, token_type_ids=input_sent2_3)\n",
        "bert_embeddings3 = bert_model(input_sent3_1, attention_mask=input_sent3_2, token_type_ids=input_sent3_3)\n",
        "bert_embeddings4 = bert_model(input_sent4_1, attention_mask=input_sent4_2, token_type_ids=input_sent4_3)\n",
        "bert_embeddings5 = bert_model(input_sent5_1, attention_mask=input_sent5_2, token_type_ids=input_sent5_3)\n",
        "\n",
        "# get pooled vectors of BERT sentence embeddings\n",
        "x1 = bert_embeddings1[1] # can also do GlobalAveragePooling1D()\n",
        "x2 = bert_embeddings2[1] \n",
        "x3 = bert_embeddings3[1]\n",
        "x4 = bert_embeddings4[1]\n",
        "x5 = bert_embeddings5[1]\n",
        "\n",
        "# fully connected layer w/ dropout\n",
        "h1_1 = Dense(32, activation='relu', name=\"hidden1_sent1\")(x1)\n",
        "h1_2 = Dense(32, activation='relu', name=\"hidden1_sent2\")(x2)\n",
        "h1_3 = Dense(32, activation='relu', name=\"hidden1_sent3\")(x3)\n",
        "h1_4 = Dense(32, activation='relu', name=\"hidden1_sent4\")(x4)\n",
        "h1_5 = Dense(32, activation='relu', name=\"hidden1_sent5\")(x5)\n",
        "\n",
        "h1_dropout1 = Dropout(DROPOUT_RATE, name=\"h1_dropout_sent1\")(h1_1)\n",
        "h1_dropout2 = Dropout(DROPOUT_RATE, name=\"h1_dropout_sent2\")(h1_2)\n",
        "h1_dropout3 = Dropout(DROPOUT_RATE, name=\"h1_dropout_sent3\")(h1_3)\n",
        "h1_dropout4 = Dropout(DROPOUT_RATE, name=\"h1_dropout_sent4\")(h1_4)\n",
        "h1_dropout5 = Dropout(DROPOUT_RATE, name=\"h1_dropout_sent5\")(h1_5)\n",
        "\n",
        "# fully connected layer\n",
        "h2_1 = Dense(8, activation='relu', name=\"hidden2_sent1\")(h1_dropout1)\n",
        "h2_2 = Dense(8, activation='relu', name=\"hidden2_sent2\")(h1_dropout2)\n",
        "h2_3 = Dense(8, activation='relu', name=\"hidden2_sent3\")(h1_dropout3)\n",
        "h2_4 = Dense(8, activation='relu', name=\"hidden2_sent4\")(h1_dropout4)\n",
        "h2_5 = Dense(8, activation='relu', name=\"hidden2_sent5\")(h1_dropout5)\n",
        "\n",
        "# concatenate outputs of all 6 parallel layers\n",
        "xx = Concatenate()([h2_1, h2_2, h2_3, h2_4, h2_5])\n",
        "\n",
        "# fully connected layer w/ dropout for concatenated inputs\n",
        "h3 = Dense(512, activation='relu', name=\"hidden3\")(xx)\n",
        "h3_dropout = Dropout(DROPOUT_RATE)(h3)\n",
        "\n",
        "# fully connected layer\n",
        "h4 = Dense(256, activation='relu', name=\"hidden4\")(h3_dropout)\n",
        "\n",
        "# final output layer\n",
        "yhat = Dense(1, activation='sigmoid', name=\"output\")(h4)\n",
        "\n",
        "### end of model architecture ###\n",
        "\n",
        "stop = default_timer()\n",
        "colbert_sent_rt = (stop - start)"
      ],
      "metadata": {
        "id": "_93rAUZ0TSGq",
        "colab": {
          "base_uri": "https://localhost:8080/"
        },
        "outputId": "e6625083-b64c-4db9-fb77-6999b98b70b9"
      },
      "id": "_93rAUZ0TSGq",
      "execution_count": null,
      "outputs": [
        {
          "output_type": "stream",
          "name": "stderr",
          "text": [
            "Some weights of the model checkpoint at bert-base-uncased were not used when initializing TFBertModel: ['nsp___cls', 'mlm___cls']\n",
            "- This IS expected if you are initializing TFBertModel from the checkpoint of a model trained on another task or with another architecture (e.g. initializing a BertForSequenceClassification model from a BertForPretraining model).\n",
            "- This IS NOT expected if you are initializing TFBertModel from the checkpoint of a model that you expect to be exactly identical (initializing a BertForSequenceClassification model from a BertForSequenceClassification model).\n",
            "All the weights of TFBertModel were initialized from the model checkpoint at bert-base-uncased.\n",
            "If your task is similar to the task the model of the ckeckpoint was trained on, you can already use TFBertModel for predictions without further training.\n"
          ]
        }
      ]
    },
    {
      "cell_type": "code",
      "source": [
        "start = default_timer()\n",
        "\n",
        "### intialize and compile model ###\n",
        "EPOCHS = 5\n",
        "\n",
        "sent_inputs = [input_sent1_1, input_sent1_2, input_sent1_3,\n",
        "               input_sent2_1, input_sent2_2, input_sent2_3,\n",
        "               input_sent3_1, input_sent3_2, input_sent3_3,\n",
        "               input_sent4_1, input_sent4_2, input_sent4_3,\n",
        "               input_sent5_1, input_sent5_2, input_sent5_3]\n",
        "\n",
        "colbert_sent_model = Model(sent_inputs, [yhat], name='colbert_sent')\n",
        "colbert_sent_model.compile(tf.keras.optimizers.Adam(0.00001),\n",
        "                            loss='binary_crossentropy',\n",
        "                            metrics = ['accuracy'])\n",
        "\n",
        "### train model ###\n",
        "\n",
        "# create model checkpoint\n",
        "colbert_sent_cp_filepath = '/content/drive/MyDrive/W266-NLP-Final-Project/checkpoint/colbert_sent'\n",
        "\n",
        "colbert_sent_cp_callback = tf.keras.callbacks.ModelCheckpoint(\n",
        "                                  filepath=colbert_sent_cp_filepath,\n",
        "                                  save_weights_only=False,\n",
        "                                  monitor='val_accuracy',\n",
        "                                  mode='max',\n",
        "                                  save_best_only=True)\n",
        "\n",
        "# fit model\n",
        "colbert_sent_hist = colbert_sent_model.fit(X_train[:15], y_train, validation_data=(X_val[:15], y_val),\n",
        "                                         epochs=EPOCHS, batch_size=6,\n",
        "                                         callbacks=[colbert_sent_cp_callback])\n",
        "\n",
        "# The model weights (that are considered the best) are loaded into the model.\n",
        "colbert_sent_model.load_weights(colbert_sent_cp_filepath)\n",
        "\n",
        "stop = default_timer()\n",
        "colbert_sent_rt += (stop - start)"
      ],
      "metadata": {
        "id": "ABSLvJQOWbOk",
        "colab": {
          "base_uri": "https://localhost:8080/"
        },
        "outputId": "418f3053-0816-454c-ce11-0bb399c4cc3a"
      },
      "id": "ABSLvJQOWbOk",
      "execution_count": null,
      "outputs": [
        {
          "output_type": "stream",
          "name": "stdout",
          "text": [
            "Epoch 1/5\n",
            "1667/1667 [==============================] - ETA: 0s - loss: 0.3479 - accuracy: 0.8388"
          ]
        },
        {
          "output_type": "stream",
          "name": "stderr",
          "text": [
            "WARNING:absl:Found untraced functions such as embeddings_layer_call_fn, embeddings_layer_call_and_return_conditional_losses, encoder_layer_call_fn, encoder_layer_call_and_return_conditional_losses, pooler_layer_call_fn while saving (showing 5 of 426). These functions will not be directly callable after loading.\n"
          ]
        },
        {
          "output_type": "stream",
          "name": "stdout",
          "text": [
            "INFO:tensorflow:Assets written to: /content/drive/MyDrive/W266-NLP-Final-Project/checkpoint/colbert_sent/assets\n"
          ]
        },
        {
          "output_type": "stream",
          "name": "stderr",
          "text": [
            "INFO:tensorflow:Assets written to: /content/drive/MyDrive/W266-NLP-Final-Project/checkpoint/colbert_sent/assets\n"
          ]
        },
        {
          "output_type": "stream",
          "name": "stdout",
          "text": [
            "\b\b\b\b\b\b\b\b\b\b\b\b\b\b\b\b\b\b\b\b\b\b\b\b\b\b\b\b\b\b\b\b\b\b\b\b\b\b\b\b\b\b\b\b\b\b\b\b\b\b\b\b\b\b\b\b\b\b\b\b\b\b\b\b\b\b\b\b\b\b\b\b\b\b\b\b\b\b\b\b\b\b\b\b\b\b\r1667/1667 [==============================] - 482s 243ms/step - loss: 0.3479 - accuracy: 0.8388 - val_loss: 0.1579 - val_accuracy: 0.9477\n",
            "Epoch 2/5\n",
            "1667/1667 [==============================] - ETA: 0s - loss: 0.1147 - accuracy: 0.9661"
          ]
        },
        {
          "output_type": "stream",
          "name": "stderr",
          "text": [
            "WARNING:absl:Found untraced functions such as embeddings_layer_call_fn, embeddings_layer_call_and_return_conditional_losses, encoder_layer_call_fn, encoder_layer_call_and_return_conditional_losses, pooler_layer_call_fn while saving (showing 5 of 426). These functions will not be directly callable after loading.\n"
          ]
        },
        {
          "output_type": "stream",
          "name": "stdout",
          "text": [
            "INFO:tensorflow:Assets written to: /content/drive/MyDrive/W266-NLP-Final-Project/checkpoint/colbert_sent/assets\n"
          ]
        },
        {
          "output_type": "stream",
          "name": "stderr",
          "text": [
            "INFO:tensorflow:Assets written to: /content/drive/MyDrive/W266-NLP-Final-Project/checkpoint/colbert_sent/assets\n"
          ]
        },
        {
          "output_type": "stream",
          "name": "stdout",
          "text": [
            "\b\b\b\b\b\b\b\b\b\b\b\b\b\b\b\b\b\b\b\b\b\b\b\b\b\b\b\b\b\b\b\b\b\b\b\b\b\b\b\b\b\b\b\b\b\b\b\b\b\b\b\b\b\b\b\b\b\b\b\b\b\b\b\b\b\b\b\b\b\b\b\b\b\b\b\b\b\b\b\b\b\b\b\b\b\b\r1667/1667 [==============================] - 398s 239ms/step - loss: 0.1147 - accuracy: 0.9661 - val_loss: 0.1433 - val_accuracy: 0.9550\n",
            "Epoch 3/5\n",
            "1667/1667 [==============================] - ETA: 0s - loss: 0.0671 - accuracy: 0.9826"
          ]
        },
        {
          "output_type": "stream",
          "name": "stderr",
          "text": [
            "WARNING:absl:Found untraced functions such as embeddings_layer_call_fn, embeddings_layer_call_and_return_conditional_losses, encoder_layer_call_fn, encoder_layer_call_and_return_conditional_losses, pooler_layer_call_fn while saving (showing 5 of 426). These functions will not be directly callable after loading.\n"
          ]
        },
        {
          "output_type": "stream",
          "name": "stdout",
          "text": [
            "INFO:tensorflow:Assets written to: /content/drive/MyDrive/W266-NLP-Final-Project/checkpoint/colbert_sent/assets\n"
          ]
        },
        {
          "output_type": "stream",
          "name": "stderr",
          "text": [
            "INFO:tensorflow:Assets written to: /content/drive/MyDrive/W266-NLP-Final-Project/checkpoint/colbert_sent/assets\n"
          ]
        },
        {
          "output_type": "stream",
          "name": "stdout",
          "text": [
            "\b\b\b\b\b\b\b\b\b\b\b\b\b\b\b\b\b\b\b\b\b\b\b\b\b\b\b\b\b\b\b\b\b\b\b\b\b\b\b\b\b\b\b\b\b\b\b\b\b\b\b\b\b\b\b\b\b\b\b\b\b\b\b\b\b\b\b\b\b\b\b\b\b\b\b\b\b\b\b\b\b\b\b\b\b\b\r1667/1667 [==============================] - 400s 240ms/step - loss: 0.0671 - accuracy: 0.9826 - val_loss: 0.1328 - val_accuracy: 0.9617\n",
            "Epoch 4/5\n",
            "1667/1667 [==============================] - 312s 187ms/step - loss: 0.0407 - accuracy: 0.9901 - val_loss: 0.1888 - val_accuracy: 0.9583\n",
            "Epoch 5/5\n",
            "1667/1667 [==============================] - ETA: 0s - loss: 0.0310 - accuracy: 0.9913"
          ]
        },
        {
          "output_type": "stream",
          "name": "stderr",
          "text": [
            "WARNING:absl:Found untraced functions such as embeddings_layer_call_fn, embeddings_layer_call_and_return_conditional_losses, encoder_layer_call_fn, encoder_layer_call_and_return_conditional_losses, pooler_layer_call_fn while saving (showing 5 of 426). These functions will not be directly callable after loading.\n"
          ]
        },
        {
          "output_type": "stream",
          "name": "stdout",
          "text": [
            "INFO:tensorflow:Assets written to: /content/drive/MyDrive/W266-NLP-Final-Project/checkpoint/colbert_sent/assets\n"
          ]
        },
        {
          "output_type": "stream",
          "name": "stderr",
          "text": [
            "INFO:tensorflow:Assets written to: /content/drive/MyDrive/W266-NLP-Final-Project/checkpoint/colbert_sent/assets\n"
          ]
        },
        {
          "output_type": "stream",
          "name": "stdout",
          "text": [
            "\b\b\b\b\b\b\b\b\b\b\b\b\b\b\b\b\b\b\b\b\b\b\b\b\b\b\b\b\b\b\b\b\b\b\b\b\b\b\b\b\b\b\b\b\b\b\b\b\b\b\b\b\b\b\b\b\b\b\b\b\b\b\b\b\b\b\b\b\b\b\b\b\b\b\b\b\b\b\b\b\b\b\b\b\b\b\r1667/1667 [==============================] - 396s 238ms/step - loss: 0.0310 - accuracy: 0.9913 - val_loss: 0.1777 - val_accuracy: 0.9630\n"
          ]
        }
      ]
    },
    {
      "cell_type": "code",
      "source": [
        "results_df = model_scores(X_test[:15], y_test, colbert_sent_model, colbert_sent_rt, results_df)"
      ],
      "metadata": {
        "id": "c180ZlfsyAOx",
        "colab": {
          "base_uri": "https://localhost:8080/"
        },
        "outputId": "ca241926-fd0d-4413-b9d1-2d4d95228448"
      },
      "id": "c180ZlfsyAOx",
      "execution_count": null,
      "outputs": [
        {
          "output_type": "stream",
          "name": "stdout",
          "text": [
            "Accuracy = 0.961\n",
            "F1 score = 0.959\n"
          ]
        }
      ]
    },
    {
      "cell_type": "markdown",
      "source": [
        "# ColBERT with *only* 1st and 2nd sentences as input"
      ],
      "metadata": {
        "id": "swvU57EUXv6b"
      },
      "id": "swvU57EUXv6b"
    },
    {
      "cell_type": "code",
      "source": [
        "start = default_timer()\n",
        "\n",
        "### model architecture ###\n",
        "SENT_INPUT_LEN = 20\n",
        "DROPOUT_RATE = 0.5\n",
        "\n",
        "# 18 inputs, 3 for each parallel path (5 sentence-level paths & 1 document-level path)\n",
        "input_sent1_1 = Input(shape=(SENT_INPUT_LEN,), dtype=tf.int32, name='input_ii_sent1') # input IDs\n",
        "input_sent1_2 = Input(shape=(SENT_INPUT_LEN,), dtype=tf.int32, name='input_am_sent1') # attention masks\n",
        "input_sent1_3 = Input(shape=(SENT_INPUT_LEN,), dtype=tf.int32, name='input_tti_sent1') # token type IDs\n",
        "\n",
        "input_sent2_1 = Input(shape=(SENT_INPUT_LEN,), dtype=tf.int32, name='input_ii_sent2')\n",
        "input_sent2_2 = Input(shape=(SENT_INPUT_LEN,), dtype=tf.int32, name='input_am_sent2')\n",
        "input_sent2_3 = Input(shape=(SENT_INPUT_LEN,), dtype=tf.int32, name='input_tti_sent2')\n",
        "\n",
        "# embedding layer for sentences and documents\n",
        "bert_model = TFBertModel.from_pretrained('bert-base-uncased')\n",
        "bert_embeddings1 = bert_model(input_sent1_1, attention_mask=input_sent1_2, token_type_ids=input_sent1_3)\n",
        "bert_embeddings2 = bert_model(input_sent2_1, attention_mask=input_sent2_2, token_type_ids=input_sent2_3)\n",
        "\n",
        "# get pooled vectors of BERT sentence embeddings\n",
        "x1 = bert_embeddings1[1] # can also do GlobalAveragePooling1D()\n",
        "x2 = bert_embeddings2[1]\n",
        "\n",
        "# fully connected layer w/ dropout\n",
        "h1_1 = Dense(32, activation='relu', name=\"hidden1_sent1\")(x1)\n",
        "h1_2 = Dense(32, activation='relu', name=\"hidden1_sent2\")(x2)\n",
        "\n",
        "h1_dropout1 = Dropout(DROPOUT_RATE, name=\"h1_dropout_sent1\")(h1_1)\n",
        "h1_dropout2 = Dropout(DROPOUT_RATE, name=\"h1_dropout_sent2\")(h1_2)\n",
        "\n",
        "# fully connected layer\n",
        "h2_1 = Dense(8, activation='relu', name=\"hidden2_sent1\")(h1_dropout1)\n",
        "h2_2 = Dense(8, activation='relu', name=\"hidden2_sent2\")(h1_dropout2)\n",
        "\n",
        "# concatenate outputs of all 6 parallel layers\n",
        "xx = Concatenate()([h2_1, h2_2])\n",
        "\n",
        "# fully connected layer w/ dropout for concatenated inputs\n",
        "h3 = Dense(512, activation='relu', name=\"hidden3\")(xx)\n",
        "h3_dropout = Dropout(DROPOUT_RATE)(h3)\n",
        "\n",
        "# fully connected layer\n",
        "h4 = Dense(256, activation='relu', name=\"hidden4\")(h3_dropout)\n",
        "\n",
        "# final output layer\n",
        "yhat = Dense(1, activation='sigmoid', name=\"output\")(h4)\n",
        "\n",
        "### end of model architecture ###\n",
        "\n",
        "stop = default_timer()\n",
        "colbert_2sent_rt = (stop - start)"
      ],
      "metadata": {
        "id": "kXPktS-EX2yk",
        "colab": {
          "base_uri": "https://localhost:8080/"
        },
        "outputId": "291ae513-2f16-4cee-fec5-834c5ff95188"
      },
      "id": "kXPktS-EX2yk",
      "execution_count": null,
      "outputs": [
        {
          "output_type": "stream",
          "name": "stderr",
          "text": [
            "Some weights of the model checkpoint at bert-base-uncased were not used when initializing TFBertModel: ['nsp___cls', 'mlm___cls']\n",
            "- This IS expected if you are initializing TFBertModel from the checkpoint of a model trained on another task or with another architecture (e.g. initializing a BertForSequenceClassification model from a BertForPretraining model).\n",
            "- This IS NOT expected if you are initializing TFBertModel from the checkpoint of a model that you expect to be exactly identical (initializing a BertForSequenceClassification model from a BertForSequenceClassification model).\n",
            "All the weights of TFBertModel were initialized from the model checkpoint at bert-base-uncased.\n",
            "If your task is similar to the task the model of the ckeckpoint was trained on, you can already use TFBertModel for predictions without further training.\n"
          ]
        }
      ]
    },
    {
      "cell_type": "code",
      "source": [
        "start = default_timer()\n",
        "\n",
        "### intialize and compile model ###\n",
        "EPOCHS = 5\n",
        "\n",
        "sent2_inputs = [input_sent1_1, input_sent1_2, input_sent1_3,\n",
        "                input_sent2_1, input_sent2_2, input_sent2_3]\n",
        "\n",
        "colbert_2sent_model = Model(sent2_inputs, [yhat], name='colbert_2sent')\n",
        "colbert_2sent_model.compile(tf.keras.optimizers.Adam(0.00001),\n",
        "                            loss='binary_crossentropy',\n",
        "                            metrics = ['accuracy'])\n",
        "\n",
        "### train model ###\n",
        "\n",
        "# create model checkpoint\n",
        "colbert_2sent_cp_filepath = '/content/drive/MyDrive/W266-NLP-Final-Project/checkpoint/colbert_2sent'\n",
        "\n",
        "colbert_2sent_cp_callback = tf.keras.callbacks.ModelCheckpoint(\n",
        "                                  filepath=colbert_2sent_cp_filepath,\n",
        "                                  save_weights_only=False,\n",
        "                                  monitor='val_accuracy',\n",
        "                                  mode='max',\n",
        "                                  save_best_only=True)\n",
        "\n",
        "# fit model\n",
        "colbert_2sent_hist = colbert_2sent_model.fit(X_train[:6], y_train, validation_data=(X_val[:6], y_val),\n",
        "                                         epochs=EPOCHS, batch_size=6,\n",
        "                                         callbacks=[colbert_2sent_cp_callback])\n",
        "\n",
        "# The model weights (that are considered the best) are loaded into the model.\n",
        "colbert_2sent_model.load_weights(colbert_2sent_cp_filepath)\n",
        "\n",
        "stop = default_timer()\n",
        "colbert_2sent_rt += (stop - start)"
      ],
      "metadata": {
        "id": "kGfkVShkYgQk"
      },
      "id": "kGfkVShkYgQk",
      "execution_count": null,
      "outputs": []
    },
    {
      "cell_type": "code",
      "source": [
        "results_df = model_scores(X_test[:6], y_test, colbert_2sent_model, colbert_2sent_rt, results_df)"
      ],
      "metadata": {
        "id": "rmhDDOlmzawX",
        "colab": {
          "base_uri": "https://localhost:8080/"
        },
        "outputId": "ac73611a-ee8f-4946-b1ee-501f20a63f89"
      },
      "id": "rmhDDOlmzawX",
      "execution_count": null,
      "outputs": [
        {
          "output_type": "stream",
          "name": "stdout",
          "text": [
            "Accuracy = 0.958\n",
            "F1 score = 0.957\n"
          ]
        }
      ]
    },
    {
      "cell_type": "code",
      "source": [
        "# in case you need to load it again\n",
        "colbert_2sent_cp_filepath = '/content/drive/MyDrive/W266-NLP-Final-Project/checkpoint/colbert_2sent'\n",
        "sent2_inputs = [input_sent1_1, input_sent1_2, input_sent1_3,\n",
        "                input_sent2_1, input_sent2_2, input_sent2_3]\n",
        "\n",
        "colbert_2sent_model = Model(sent2_inputs, [yhat], name='colbert_2sent')\n",
        "colbert_2sent_model.load_weights(colbert_2sent_cp_filepath)\n",
        "y_pred_2sent = (colbert_2sent_model.predict(X_test[:6]) > 0.5).flatten()\n"
      ],
      "metadata": {
        "colab": {
          "base_uri": "https://localhost:8080/"
        },
        "id": "7WKS9AxjW9pC",
        "outputId": "667be769-ea19-4117-8d4d-4464e8407c77"
      },
      "id": "7WKS9AxjW9pC",
      "execution_count": null,
      "outputs": [
        {
          "output_type": "execute_result",
          "data": {
            "text/plain": [
              "array([[468,  16],\n",
              "       [ 26, 490]])"
            ]
          },
          "metadata": {},
          "execution_count": 16
        }
      ]
    },
    {
      "cell_type": "markdown",
      "source": [
        "# ColBERT simple: ColBERT with 1st and 2nd Sentences + Document"
      ],
      "metadata": {
        "id": "p89DuImsX424"
      },
      "id": "p89DuImsX424"
    },
    {
      "cell_type": "code",
      "source": [
        "start = default_timer()\n",
        "\n",
        "### model architecture ###\n",
        "SENT_INPUT_LEN = 20\n",
        "DOC_INPUT_LEN = 100\n",
        "DROPOUT_RATE = 0.5\n",
        "\n",
        "# 18 inputs, 3 for each parallel path (5 sentence-level paths & 1 document-level path)\n",
        "input_sent1_1 = Input(shape=(SENT_INPUT_LEN,), dtype=tf.int32, name='input_ii_sent1') # input IDs\n",
        "input_sent1_2 = Input(shape=(SENT_INPUT_LEN,), dtype=tf.int32, name='input_am_sent1') # attention masks\n",
        "input_sent1_3 = Input(shape=(SENT_INPUT_LEN,), dtype=tf.int32, name='input_tti_sent1') # token type IDs\n",
        "\n",
        "input_sent2_1 = Input(shape=(SENT_INPUT_LEN,), dtype=tf.int32, name='input_ii_sent2')\n",
        "input_sent2_2 = Input(shape=(SENT_INPUT_LEN,), dtype=tf.int32, name='input_am_sent2')\n",
        "input_sent2_3 = Input(shape=(SENT_INPUT_LEN,), dtype=tf.int32, name='input_tti_sent2')\n",
        "\n",
        "input_doc_1 = Input(shape=(DOC_INPUT_LEN,), dtype=tf.int32, name='input_ii_doc')\n",
        "input_doc_2 = Input(shape=(DOC_INPUT_LEN,), dtype=tf.int32, name='input_am_doc')\n",
        "input_doc_3 = Input(shape=(DOC_INPUT_LEN,), dtype=tf.int32, name='input_tti_doc')\n",
        "\n",
        "# embedding layer for sentences and documents\n",
        "bert_model = TFBertModel.from_pretrained('bert-base-uncased')\n",
        "bert_embeddings1 = bert_model(input_sent1_1, attention_mask=input_sent1_2, token_type_ids=input_sent1_3)\n",
        "bert_embeddings2 = bert_model(input_sent2_1, attention_mask=input_sent2_2, token_type_ids=input_sent2_3)\n",
        "bert_embeddings6 = bert_model(input_doc_1, attention_mask=input_doc_2, token_type_ids=input_doc_3)\n",
        "\n",
        "# get pooled vectors of BERT sentence embeddings\n",
        "x1 = bert_embeddings1[1] # can also do GlobalAveragePooling1D()\n",
        "x2 = bert_embeddings2[1]\n",
        "x6 = bert_embeddings6[1] \n",
        "\n",
        "# fully connected layer w/ dropout\n",
        "h1_1 = Dense(32, activation='relu', name=\"hidden1_sent1\")(x1)\n",
        "h1_2 = Dense(32, activation='relu', name=\"hidden1_sent2\")(x2)\n",
        "h1_6 = Dense(256, activation='relu', name=\"hidden1_doc\")(x6)\n",
        "\n",
        "h1_dropout1 = Dropout(DROPOUT_RATE, name=\"h1_dropout_sent1\")(h1_1)\n",
        "h1_dropout2 = Dropout(DROPOUT_RATE, name=\"h1_dropout_sent2\")(h1_2)\n",
        "h1_dropout6 = Dropout(DROPOUT_RATE, name=\"h1_dropout_doc\")(h1_6)\n",
        "\n",
        "# fully connected layer\n",
        "h2_1 = Dense(8, activation='relu', name=\"hidden2_sent1\")(h1_dropout1)\n",
        "h2_2 = Dense(8, activation='relu', name=\"hidden2_sent2\")(h1_dropout2)\n",
        "h2_6 = Dense(64, activation='relu', name=\"hidden2_doc\")(h1_dropout6)\n",
        "\n",
        "# concatenate outputs of all 6 parallel layers\n",
        "xx = Concatenate()([h2_1, h2_2, h2_6])\n",
        "\n",
        "# fully connected layer w/ dropout for concatenated inputs\n",
        "h3 = Dense(512, activation='relu', name=\"hidden3\")(xx)\n",
        "h3_dropout = Dropout(DROPOUT_RATE)(h3)\n",
        "\n",
        "# fully connected layer\n",
        "h4 = Dense(256, activation='relu', name=\"hidden4\")(h3_dropout)\n",
        "\n",
        "# final output layer\n",
        "yhat = Dense(1, activation='sigmoid', name=\"output\")(h4)\n",
        "\n",
        "### end of model architecture ###\n",
        "\n",
        "stop = default_timer()\n",
        "colbert_simple_rt = (stop - start)"
      ],
      "metadata": {
        "id": "Oxle4lKIYHa-",
        "colab": {
          "base_uri": "https://localhost:8080/",
          "height": 188,
          "referenced_widgets": [
            "99209ce1d0e1496a8c76060f9fdf3244",
            "1e8c8d7d168d45ea89179764ae4e2e96",
            "5bb7fe62ba05450889e2da6d93981ffa",
            "5d8782718b9b4adbb9e266fe8601b70b",
            "f3d0152853f2475eae0a5d62a6ec920f",
            "8b738e1723fc4133aee839e690aeaede",
            "bd7c87a6e20e41e9bf280c5d7e6480c9",
            "d094a8bb4d1b4655a9672adcf24c7a6f",
            "61e0fac2c79e41e38b6388a65349a727",
            "e01f7676e324448ea4f8082af1797fcc",
            "f176f89aeb2644ccb8232b7ac8357ca7",
            "ca8259071e814398b72d34ee708145b0",
            "a4433c9bf9224a80bff605b99a07c16e",
            "e192aa1c94744c6494824a5b36276179",
            "ce0239ce77394cbb8c81e735f77b4216",
            "5f633025bb1943588e98f9523558e2b8",
            "ffe5848557d54271a6534f3fced2c205",
            "c15a20b139bc4ae2b8b1c08ce3233343",
            "d5f2a6ffa5ed48608160d8ff13e0f811",
            "8d958cc21ace46d489dae7fe8773a151",
            "1f25592d81c34dd8ae2fa242bed16da5",
            "cf99682da6c747b684d53e7139217de7"
          ]
        },
        "outputId": "501d6ad6-ce24-4024-f5da-20f282c2bf0e"
      },
      "id": "Oxle4lKIYHa-",
      "execution_count": null,
      "outputs": [
        {
          "output_type": "display_data",
          "data": {
            "text/plain": [
              "Downloading:   0%|          | 0.00/433 [00:00<?, ?B/s]"
            ],
            "application/vnd.jupyter.widget-view+json": {
              "version_major": 2,
              "version_minor": 0,
              "model_id": "99209ce1d0e1496a8c76060f9fdf3244"
            }
          },
          "metadata": {}
        },
        {
          "output_type": "display_data",
          "data": {
            "text/plain": [
              "Downloading:   0%|          | 0.00/536M [00:00<?, ?B/s]"
            ],
            "application/vnd.jupyter.widget-view+json": {
              "version_major": 2,
              "version_minor": 0,
              "model_id": "ca8259071e814398b72d34ee708145b0"
            }
          },
          "metadata": {}
        },
        {
          "output_type": "stream",
          "name": "stderr",
          "text": [
            "Some weights of the model checkpoint at bert-base-uncased were not used when initializing TFBertModel: ['nsp___cls', 'mlm___cls']\n",
            "- This IS expected if you are initializing TFBertModel from the checkpoint of a model trained on another task or with another architecture (e.g. initializing a BertForSequenceClassification model from a BertForPretraining model).\n",
            "- This IS NOT expected if you are initializing TFBertModel from the checkpoint of a model that you expect to be exactly identical (initializing a BertForSequenceClassification model from a BertForSequenceClassification model).\n",
            "All the weights of TFBertModel were initialized from the model checkpoint at bert-base-uncased.\n",
            "If your task is similar to the task the model of the ckeckpoint was trained on, you can already use TFBertModel for predictions without further training.\n"
          ]
        }
      ]
    },
    {
      "cell_type": "code",
      "source": [
        "simple_inputs = [input_sent1_1, input_sent1_2, input_sent1_3,\n",
        "                input_sent2_1, input_sent2_2, input_sent2_3,\n",
        "                input_doc_1, input_doc_2, input_doc_3]\n",
        "\n",
        "colbert_simple_model = Model(simple_inputs, [yhat], name='colbert_simple')\n",
        "colbert_simple_model.compile(tf.keras.optimizers.Adam(0.00001),\n",
        "                              loss='binary_crossentropy',\n",
        "                              metrics = ['accuracy'])\n",
        "colbert_simple_model.load_weights(colbert_simple_cp_filepath)\n",
        "y_pred = (model.predict(test_data) > 0.5).flatten()"
      ],
      "metadata": {
        "id": "h4dy5TAW53Pp"
      },
      "id": "h4dy5TAW53Pp",
      "execution_count": null,
      "outputs": []
    },
    {
      "cell_type": "code",
      "source": [
        "start = default_timer()\n",
        "\n",
        "### intialize and compile model ###\n",
        "EPOCHS = 5\n",
        "\n",
        "simple_inputs = [input_sent1_1, input_sent1_2, input_sent1_3,\n",
        "                input_sent2_1, input_sent2_2, input_sent2_3,\n",
        "                input_doc_1, input_doc_2, input_doc_3]\n",
        "\n",
        "colbert_simple_model = Model(simple_inputs, [yhat], name='colbert_simple')\n",
        "colbert_simple_model.compile(tf.keras.optimizers.Adam(0.00001),\n",
        "                              loss='binary_crossentropy',\n",
        "                              metrics = ['accuracy'])\n",
        "\n",
        "### train model ###\n",
        "\n",
        "# create model checkpoint\n",
        "colbert_simple_cp_filepath = '/content/drive/MyDrive/W266-NLP-Final-Project/checkpoint/colbert_simple'\n",
        "\n",
        "colbert_simple_cp_callback = tf.keras.callbacks.ModelCheckpoint(\n",
        "                                  filepath=colbert_simple_cp_filepath,\n",
        "                                  save_weights_only=False,\n",
        "                                  monitor='val_accuracy',\n",
        "                                  mode='max',\n",
        "                                  save_best_only=True)\n",
        "\n",
        "# fit model\n",
        "colbert_simple_hist = colbert_simple_model.fit((X_train[:6] + X_train[-3:]), y_train, \n",
        "                                               validation_data=((X_val[:6]+X_val[-3:]), y_val),\n",
        "                                               epochs=EPOCHS, batch_size=6,\n",
        "                                               callbacks=[colbert_simple_cp_callback])\n",
        "\n",
        "# The model weights (that are considered the best) are loaded into the model.\n",
        "colbert_simple_model.load_weights(colbert_simple_cp_filepath)\n",
        "\n",
        "stop = default_timer()\n",
        "colbert_simple_rt += (stop - start)"
      ],
      "metadata": {
        "id": "jzz7-TFCZ0C4"
      },
      "id": "jzz7-TFCZ0C4",
      "execution_count": null,
      "outputs": []
    },
    {
      "cell_type": "code",
      "source": [
        "# in case you need to load it again\n",
        "colbert_simple_cp_filepath = '/content/drive/MyDrive/W266-NLP-Final-Project/checkpoint/colbert_simple'\n",
        "simple_inputs = [input_sent1_1, input_sent1_2, input_sent1_3,\n",
        "                input_sent2_1, input_sent2_2, input_sent2_3,\n",
        "                input_doc_1, input_doc_2, input_doc_3]\n",
        "\n",
        "colbert_simple_model = Model(simple_inputs, [yhat], name='colbert_simple')\n",
        "colbert_simple_model.load_weights(colbert_simple_cp_filepath)\n",
        "y_pred = (colbert_simple_model.predict(X_test[:6] + X_test[-3:]) > 0.5).flatten()\n",
        "\n",
        "# make a df to compare true and predicted values\n",
        "# pd.set_option('display.max_colwidth', 0) # to display all text in a row\n",
        "df = data[['text', 'humor']][160000:161000]\n",
        "df['y_pred'] = y_pred\n",
        "df = df[df['y_pred'] != df['humor']]\n",
        "df.to_csv('/content/drive/My Drive/W266-NLP-Final-Project/colbert_simple_misclassed.csv', index=True)\n",
        "sklearn.metrics.confusion_matrix(y_test,y_pred)"
      ],
      "metadata": {
        "id": "NPH1WwD587Rh",
        "colab": {
          "base_uri": "https://localhost:8080/"
        },
        "outputId": "90bf659c-2c9f-4c13-9b9f-b4dd7e20632d"
      },
      "id": "NPH1WwD587Rh",
      "execution_count": null,
      "outputs": [
        {
          "output_type": "execute_result",
          "data": {
            "text/plain": [
              "array([[452,  32],\n",
              "       [  6, 510]])"
            ]
          },
          "metadata": {},
          "execution_count": 7
        }
      ]
    },
    {
      "cell_type": "code",
      "source": [
        "results_df = model_scores((X_test[:6] + X_test[-3:]), y_test, colbert_simple_model, colbert_simple_rt, results_df)"
      ],
      "metadata": {
        "id": "ZMsFbffC02M3",
        "colab": {
          "base_uri": "https://localhost:8080/"
        },
        "outputId": "f85b5589-7e86-4a36-e6dd-34c5d5764547"
      },
      "id": "ZMsFbffC02M3",
      "execution_count": null,
      "outputs": [
        {
          "output_type": "stream",
          "name": "stdout",
          "text": [
            "Accuracy = 0.962\n",
            "F1 score = 0.96\n"
          ]
        }
      ]
    },
    {
      "cell_type": "code",
      "source": [
        "start = default_timer()\n",
        "\n",
        "SENT_INPUT_LEN = 20\n",
        "DOC_INPUT_LEN = 100\n",
        "DROPOUT_RATE = 0.5\n",
        "\n",
        "# 18 inputs, 3 for each parallel path (5 sentence-level paths & 1 document-level path)\n",
        "input_sent1_1 = Input(shape=(SENT_INPUT_LEN,), dtype=tf.int32, name='input_ii_sent1') # input IDs\n",
        "input_sent1_2 = Input(shape=(SENT_INPUT_LEN,), dtype=tf.int32, name='input_am_sent1') # attention masks\n",
        "input_sent1_3 = Input(shape=(SENT_INPUT_LEN,), dtype=tf.int32, name='input_tti_sent1') # token type IDs\n",
        "\n",
        "input_sent2_1 = Input(shape=(SENT_INPUT_LEN,), dtype=tf.int32, name='input_ii_sent2')\n",
        "input_sent2_2 = Input(shape=(SENT_INPUT_LEN,), dtype=tf.int32, name='input_am_sent2')\n",
        "input_sent2_3 = Input(shape=(SENT_INPUT_LEN,), dtype=tf.int32, name='input_tti_sent2')\n",
        "\n",
        "input_sent3_1 = Input(shape=(SENT_INPUT_LEN,), dtype=tf.int32, name='input_ii_sent3')\n",
        "input_sent3_2 = Input(shape=(SENT_INPUT_LEN,), dtype=tf.int32, name='input_am_sent3')\n",
        "input_sent3_3 = Input(shape=(SENT_INPUT_LEN,), dtype=tf.int32, name='input_tti_sent3')\n",
        "\n",
        "input_sent4_1 = Input(shape=(SENT_INPUT_LEN,), dtype=tf.int32, name='input_ii_sent4')\n",
        "input_sent4_2 = Input(shape=(SENT_INPUT_LEN,), dtype=tf.int32, name='input_am_sent4')\n",
        "input_sent4_3 = Input(shape=(SENT_INPUT_LEN,), dtype=tf.int32, name='input_tti_sent4')\n",
        "\n",
        "input_sent5_1 = Input(shape=(SENT_INPUT_LEN,), dtype=tf.int32, name='input_ii_sent5')\n",
        "input_sent5_2 = Input(shape=(SENT_INPUT_LEN,), dtype=tf.int32, name='input_am_sent5')\n",
        "input_sent5_3 = Input(shape=(SENT_INPUT_LEN,), dtype=tf.int32, name='input_tti_sent5')\n",
        "\n",
        "input_doc_1 = Input(shape=(DOC_INPUT_LEN,), dtype=tf.int32, name='input_ii_doc')\n",
        "input_doc_2 = Input(shape=(DOC_INPUT_LEN,), dtype=tf.int32, name='input_am_doc')\n",
        "input_doc_3 = Input(shape=(DOC_INPUT_LEN,), dtype=tf.int32, name='input_tti_doc')\n",
        "\n",
        "# embedding layer for sentences and documents\n",
        "#bert_embeddings = Embedding(num_tokens,embedding_dim,embeddings_initializer=keras.initializers.Constant(embedding_matrix),trainable=False)\n",
        "bert_model = TFBertModel.from_pretrained('bert-base-uncased')\n",
        "#bert_embeddings = bert_model(input_ids=input_sent1_1, attention_mask=input_sent1_2, token_type_ids=input_sent1_3) ########### HELP ###########\n",
        "bert_embeddings1 = bert_model(input_sent1_1, attention_mask=input_sent1_2, token_type_ids=input_sent1_3)\n",
        "bert_embeddings2 = bert_model(input_sent2_1, attention_mask=input_sent2_2, token_type_ids=input_sent2_3)\n",
        "bert_embeddings3 = bert_model(input_sent3_1, attention_mask=input_sent3_2, token_type_ids=input_sent3_3)\n",
        "bert_embeddings4 = bert_model(input_sent4_1, attention_mask=input_sent4_2, token_type_ids=input_sent4_3)\n",
        "bert_embeddings5 = bert_model(input_sent5_1, attention_mask=input_sent5_2, token_type_ids=input_sent5_3)\n",
        "bert_embeddings6 = bert_model(input_doc_1, attention_mask=input_doc_2, token_type_ids=input_doc_3)\n",
        "\n",
        "# get pooled vectors of BERT sentence embeddings\n",
        "x1 = bert_embeddings1[1] # can also do GlobalAveragePooling1D()\n",
        "x2 = bert_embeddings2[1] \n",
        "x3 = bert_embeddings3[1]\n",
        "x4 = bert_embeddings4[1]\n",
        "x5 = bert_embeddings5[1]\n",
        "x6 = bert_embeddings6[1] \n",
        "\n",
        "# fully connected layer w/ dropout\n",
        "h1_1 = Dense(32, activation='relu', name=\"hidden1_sent1\")(x1)\n",
        "h1_2 = Dense(32, activation='relu', name=\"hidden1_sent2\")(x2)\n",
        "h1_3 = Dense(32, activation='relu', name=\"hidden1_sent3\")(x3)\n",
        "h1_4 = Dense(32, activation='relu', name=\"hidden1_sent4\")(x4)\n",
        "h1_5 = Dense(32, activation='relu', name=\"hidden1_sent5\")(x5)\n",
        "h1_6 = Dense(256, activation='relu', name=\"hidden1_doc\")(x6)\n",
        "\n",
        "h1_dropout1 = Dropout(DROPOUT_RATE, name=\"h1_dropout_sent1\")(h1_1) ####################################################\n",
        "h1_dropout2 = Dropout(DROPOUT_RATE, name=\"h1_dropout_sent2\")(h1_2) ####################################################\n",
        "h1_dropout3 = Dropout(DROPOUT_RATE, name=\"h1_dropout_sent3\")(h1_3) #                rate TO BE CHANGED                # \n",
        "h1_dropout4 = Dropout(DROPOUT_RATE, name=\"h1_dropout_sent4\")(h1_4) #                                                  #\n",
        "h1_dropout5 = Dropout(DROPOUT_RATE, name=\"h1_dropout_sent5\")(h1_5) ####################################################\n",
        "h1_dropout6 = Dropout(DROPOUT_RATE, name=\"h1_dropout_doc\")(h1_6)   ####################################################\n",
        "\n",
        "# fully connected layer\n",
        "h2_1 = Dense(8, activation='relu', name=\"hidden2_sent1\")(h1_dropout1)\n",
        "h2_2 = Dense(8, activation='relu', name=\"hidden2_sent2\")(h1_dropout2)\n",
        "h2_3 = Dense(8, activation='relu', name=\"hidden2_sent3\")(h1_dropout3)\n",
        "h2_4 = Dense(8, activation='relu', name=\"hidden2_sent4\")(h1_dropout4)\n",
        "h2_5 = Dense(8, activation='relu', name=\"hidden2_sent5\")(h1_dropout5)\n",
        "h2_6 = Dense(64, activation='relu', name=\"hidden2_doc\")(h1_dropout6)\n",
        "\n",
        "# concatenate outputs of all 6 parallel layers\n",
        "xx = Concatenate()([h2_1, h2_2, h2_3, h2_4, h2_5, h2_6])\n",
        "\n",
        "# fully connected layer w/ dropout for concatenated inputs\n",
        "h3 = Dense(512, activation='relu', name=\"hidden3\")(xx)\n",
        "h3_dropout = Dropout(DROPOUT_RATE)(h3) ################ rate TO BE CHANGED ################\n",
        "\n",
        "# fully connected layer\n",
        "h4 = Dense(256, activation='relu', name=\"hidden4\")(h3_dropout)\n",
        "\n",
        "# final output layer\n",
        "yhat = Dense(1, activation='sigmoid', name=\"output\")(h4) # need to figure out dropout rate\n",
        "\n",
        "stop = default_timer()\n",
        "colbert_full_rt = (stop - start)"
      ],
      "metadata": {
        "colab": {
          "base_uri": "https://localhost:8080/"
        },
        "id": "SQXVL3aCbGq2",
        "outputId": "1efa93ee-cbde-4c04-9808-5cd35596bb7d"
      },
      "id": "SQXVL3aCbGq2",
      "execution_count": null,
      "outputs": [
        {
          "output_type": "stream",
          "name": "stderr",
          "text": [
            "WARNING:transformers.modeling_tf_utils:Some weights of the model checkpoint at bert-base-uncased were not used when initializing TFBertModel: ['nsp___cls', 'mlm___cls']\n",
            "- This IS expected if you are initializing TFBertModel from the checkpoint of a model trained on another task or with another architecture (e.g. initializing a BertForSequenceClassification model from a BertForPretraining model).\n",
            "- This IS NOT expected if you are initializing TFBertModel from the checkpoint of a model that you expect to be exactly identical (initializing a BertForSequenceClassification model from a BertForSequenceClassification model).\n",
            "WARNING:transformers.modeling_tf_utils:All the weights of TFBertModel were initialized from the model checkpoint at bert-base-uncased.\n",
            "If your task is similar to the task the model of the ckeckpoint was trained on, you can already use TFBertModel for predictions without further training.\n"
          ]
        }
      ]
    },
    {
      "cell_type": "code",
      "source": [
        "EPOCHS = 5 \n",
        "\n",
        "full_inputs = [input_sent1_1, input_sent1_2, input_sent1_3,\n",
        "                input_sent2_1, input_sent2_2, input_sent2_3,\n",
        "                input_sent3_1, input_sent3_2, input_sent3_3,\n",
        "                input_sent4_1, input_sent4_2, input_sent4_3,\n",
        "                input_sent5_1, input_sent5_2, input_sent5_3,\n",
        "                input_doc_1, input_doc_2, input_doc_3]\n",
        "\n",
        "colbert_full_model = Model(inputs=full_inputs, outputs=[yhat], name=\"colbert_full_model\")\n",
        "colbert_full_model.compile(tf.keras.optimizers.Adam(0.00001),\n",
        "              loss='binary_crossentropy',\n",
        "              metrics = ['accuracy'])\n",
        "\n",
        "# The model weights (that are considered the best) are loaded into the model.\n",
        "colbert_full_filepath = '/content/drive/MyDrive/W266-NLP-Final-Project/checkpoint/colbert_best'\n",
        "\n",
        "colbert_full_model.load_weights(colbert_full_filepath)\n",
        "\n",
        "stop = default_timer()\n",
        "colbert_full_rt  += (stop - start)"
      ],
      "metadata": {
        "id": "7yECIb8fbmeu"
      },
      "id": "7yECIb8fbmeu",
      "execution_count": null,
      "outputs": []
    },
    {
      "cell_type": "code",
      "source": [
        "results_df = model_scores(X_test, y_test, colbert_full_model, colbert_full_rt, results_df)"
      ],
      "metadata": {
        "colab": {
          "base_uri": "https://localhost:8080/"
        },
        "id": "lyhhfGt7dSSA",
        "outputId": "3212c0e6-216c-440b-ab99-4ae8ee397b30"
      },
      "id": "lyhhfGt7dSSA",
      "execution_count": null,
      "outputs": [
        {
          "output_type": "stream",
          "name": "stdout",
          "text": [
            "Accuracy = 0.97\n",
            "F1 score = 0.969\n"
          ]
        }
      ]
    },
    {
      "cell_type": "code",
      "source": [
        "results_df.to_csv('model_results.csv', index=False)"
      ],
      "metadata": {
        "id": "is1t8_Mf3gNH"
      },
      "id": "is1t8_Mf3gNH",
      "execution_count": null,
      "outputs": []
    },
    {
      "cell_type": "code",
      "source": [
        "results_df"
      ],
      "metadata": {
        "colab": {
          "base_uri": "https://localhost:8080/",
          "height": 300
        },
        "id": "QeC3vl-2ahyJ",
        "outputId": "622124e9-60af-4238-c8d3-ed1b4bfb51c4"
      },
      "id": "QeC3vl-2ahyJ",
      "execution_count": null,
      "outputs": [
        {
          "output_type": "execute_result",
          "data": {
            "text/plain": [
              "                Model  Baseline Accuracy  Accuracy  Precision    Recall  \\\n",
              "0            baseline              0.516     0.966   0.962963  0.966942   \n",
              "1         colbert_doc              0.516     0.961   0.962578  0.956612   \n",
              "2       baseline_sent              0.516     0.961   0.960663  0.958678   \n",
              "3       baseline_sent              0.516     0.954   0.950617  0.954545   \n",
              "4        colbert_sent              0.516     0.961   0.970402  0.948347   \n",
              "5       colbert_2sent              0.516     0.958   0.947368  0.966942   \n",
              "6      colbert_simple              0.516     0.962   0.986900  0.933884   \n",
              "7  colbert_full_model              0.516     0.970   0.969008  0.969008   \n",
              "\n",
              "         F1      Runtime  \n",
              "0  0.964948  1133.553155  \n",
              "1  0.959585  1274.059635  \n",
              "2  0.959669  1715.643404  \n",
              "3  0.952577  1886.257185  \n",
              "4  0.959248  1998.740468  \n",
              "5  0.957055   942.127935  \n",
              "6  0.959660  1788.420719  \n",
              "7  0.969008    40.648261  "
            ],
            "text/html": [
              "\n",
              "  <div id=\"df-40c26cdd-5d81-4a0f-a3b4-80f9a8ca5ad5\">\n",
              "    <div class=\"colab-df-container\">\n",
              "      <div>\n",
              "<style scoped>\n",
              "    .dataframe tbody tr th:only-of-type {\n",
              "        vertical-align: middle;\n",
              "    }\n",
              "\n",
              "    .dataframe tbody tr th {\n",
              "        vertical-align: top;\n",
              "    }\n",
              "\n",
              "    .dataframe thead th {\n",
              "        text-align: right;\n",
              "    }\n",
              "</style>\n",
              "<table border=\"1\" class=\"dataframe\">\n",
              "  <thead>\n",
              "    <tr style=\"text-align: right;\">\n",
              "      <th></th>\n",
              "      <th>Model</th>\n",
              "      <th>Baseline Accuracy</th>\n",
              "      <th>Accuracy</th>\n",
              "      <th>Precision</th>\n",
              "      <th>Recall</th>\n",
              "      <th>F1</th>\n",
              "      <th>Runtime</th>\n",
              "    </tr>\n",
              "  </thead>\n",
              "  <tbody>\n",
              "    <tr>\n",
              "      <th>0</th>\n",
              "      <td>baseline</td>\n",
              "      <td>0.516</td>\n",
              "      <td>0.966</td>\n",
              "      <td>0.962963</td>\n",
              "      <td>0.966942</td>\n",
              "      <td>0.964948</td>\n",
              "      <td>1133.553155</td>\n",
              "    </tr>\n",
              "    <tr>\n",
              "      <th>1</th>\n",
              "      <td>colbert_doc</td>\n",
              "      <td>0.516</td>\n",
              "      <td>0.961</td>\n",
              "      <td>0.962578</td>\n",
              "      <td>0.956612</td>\n",
              "      <td>0.959585</td>\n",
              "      <td>1274.059635</td>\n",
              "    </tr>\n",
              "    <tr>\n",
              "      <th>2</th>\n",
              "      <td>baseline_sent</td>\n",
              "      <td>0.516</td>\n",
              "      <td>0.961</td>\n",
              "      <td>0.960663</td>\n",
              "      <td>0.958678</td>\n",
              "      <td>0.959669</td>\n",
              "      <td>1715.643404</td>\n",
              "    </tr>\n",
              "    <tr>\n",
              "      <th>3</th>\n",
              "      <td>baseline_sent</td>\n",
              "      <td>0.516</td>\n",
              "      <td>0.954</td>\n",
              "      <td>0.950617</td>\n",
              "      <td>0.954545</td>\n",
              "      <td>0.952577</td>\n",
              "      <td>1886.257185</td>\n",
              "    </tr>\n",
              "    <tr>\n",
              "      <th>4</th>\n",
              "      <td>colbert_sent</td>\n",
              "      <td>0.516</td>\n",
              "      <td>0.961</td>\n",
              "      <td>0.970402</td>\n",
              "      <td>0.948347</td>\n",
              "      <td>0.959248</td>\n",
              "      <td>1998.740468</td>\n",
              "    </tr>\n",
              "    <tr>\n",
              "      <th>5</th>\n",
              "      <td>colbert_2sent</td>\n",
              "      <td>0.516</td>\n",
              "      <td>0.958</td>\n",
              "      <td>0.947368</td>\n",
              "      <td>0.966942</td>\n",
              "      <td>0.957055</td>\n",
              "      <td>942.127935</td>\n",
              "    </tr>\n",
              "    <tr>\n",
              "      <th>6</th>\n",
              "      <td>colbert_simple</td>\n",
              "      <td>0.516</td>\n",
              "      <td>0.962</td>\n",
              "      <td>0.986900</td>\n",
              "      <td>0.933884</td>\n",
              "      <td>0.959660</td>\n",
              "      <td>1788.420719</td>\n",
              "    </tr>\n",
              "    <tr>\n",
              "      <th>7</th>\n",
              "      <td>colbert_full_model</td>\n",
              "      <td>0.516</td>\n",
              "      <td>0.970</td>\n",
              "      <td>0.969008</td>\n",
              "      <td>0.969008</td>\n",
              "      <td>0.969008</td>\n",
              "      <td>40.648261</td>\n",
              "    </tr>\n",
              "  </tbody>\n",
              "</table>\n",
              "</div>\n",
              "      <button class=\"colab-df-convert\" onclick=\"convertToInteractive('df-40c26cdd-5d81-4a0f-a3b4-80f9a8ca5ad5')\"\n",
              "              title=\"Convert this dataframe to an interactive table.\"\n",
              "              style=\"display:none;\">\n",
              "        \n",
              "  <svg xmlns=\"http://www.w3.org/2000/svg\" height=\"24px\"viewBox=\"0 0 24 24\"\n",
              "       width=\"24px\">\n",
              "    <path d=\"M0 0h24v24H0V0z\" fill=\"none\"/>\n",
              "    <path d=\"M18.56 5.44l.94 2.06.94-2.06 2.06-.94-2.06-.94-.94-2.06-.94 2.06-2.06.94zm-11 1L8.5 8.5l.94-2.06 2.06-.94-2.06-.94L8.5 2.5l-.94 2.06-2.06.94zm10 10l.94 2.06.94-2.06 2.06-.94-2.06-.94-.94-2.06-.94 2.06-2.06.94z\"/><path d=\"M17.41 7.96l-1.37-1.37c-.4-.4-.92-.59-1.43-.59-.52 0-1.04.2-1.43.59L10.3 9.45l-7.72 7.72c-.78.78-.78 2.05 0 2.83L4 21.41c.39.39.9.59 1.41.59.51 0 1.02-.2 1.41-.59l7.78-7.78 2.81-2.81c.8-.78.8-2.07 0-2.86zM5.41 20L4 18.59l7.72-7.72 1.47 1.35L5.41 20z\"/>\n",
              "  </svg>\n",
              "      </button>\n",
              "      \n",
              "  <style>\n",
              "    .colab-df-container {\n",
              "      display:flex;\n",
              "      flex-wrap:wrap;\n",
              "      gap: 12px;\n",
              "    }\n",
              "\n",
              "    .colab-df-convert {\n",
              "      background-color: #E8F0FE;\n",
              "      border: none;\n",
              "      border-radius: 50%;\n",
              "      cursor: pointer;\n",
              "      display: none;\n",
              "      fill: #1967D2;\n",
              "      height: 32px;\n",
              "      padding: 0 0 0 0;\n",
              "      width: 32px;\n",
              "    }\n",
              "\n",
              "    .colab-df-convert:hover {\n",
              "      background-color: #E2EBFA;\n",
              "      box-shadow: 0px 1px 2px rgba(60, 64, 67, 0.3), 0px 1px 3px 1px rgba(60, 64, 67, 0.15);\n",
              "      fill: #174EA6;\n",
              "    }\n",
              "\n",
              "    [theme=dark] .colab-df-convert {\n",
              "      background-color: #3B4455;\n",
              "      fill: #D2E3FC;\n",
              "    }\n",
              "\n",
              "    [theme=dark] .colab-df-convert:hover {\n",
              "      background-color: #434B5C;\n",
              "      box-shadow: 0px 1px 3px 1px rgba(0, 0, 0, 0.15);\n",
              "      filter: drop-shadow(0px 1px 2px rgba(0, 0, 0, 0.3));\n",
              "      fill: #FFFFFF;\n",
              "    }\n",
              "  </style>\n",
              "\n",
              "      <script>\n",
              "        const buttonEl =\n",
              "          document.querySelector('#df-40c26cdd-5d81-4a0f-a3b4-80f9a8ca5ad5 button.colab-df-convert');\n",
              "        buttonEl.style.display =\n",
              "          google.colab.kernel.accessAllowed ? 'block' : 'none';\n",
              "\n",
              "        async function convertToInteractive(key) {\n",
              "          const element = document.querySelector('#df-40c26cdd-5d81-4a0f-a3b4-80f9a8ca5ad5');\n",
              "          const dataTable =\n",
              "            await google.colab.kernel.invokeFunction('convertToInteractive',\n",
              "                                                     [key], {});\n",
              "          if (!dataTable) return;\n",
              "\n",
              "          const docLinkHtml = 'Like what you see? Visit the ' +\n",
              "            '<a target=\"_blank\" href=https://colab.research.google.com/notebooks/data_table.ipynb>data table notebook</a>'\n",
              "            + ' to learn more about interactive tables.';\n",
              "          element.innerHTML = '';\n",
              "          dataTable['output_type'] = 'display_data';\n",
              "          await google.colab.output.renderOutput(dataTable, element);\n",
              "          const docLink = document.createElement('div');\n",
              "          docLink.innerHTML = docLinkHtml;\n",
              "          element.appendChild(docLink);\n",
              "        }\n",
              "      </script>\n",
              "    </div>\n",
              "  </div>\n",
              "  "
            ]
          },
          "metadata": {},
          "execution_count": 45
        }
      ]
    },
    {
      "cell_type": "code",
      "source": [
        ""
      ],
      "metadata": {
        "id": "ZRjp4ESzajoq"
      },
      "id": "ZRjp4ESzajoq",
      "execution_count": null,
      "outputs": []
    }
  ],
  "metadata": {
    "kernelspec": {
      "display_name": "Python 3",
      "language": "python",
      "name": "python3"
    },
    "language_info": {
      "codemirror_mode": {
        "name": "ipython",
        "version": 3
      },
      "file_extension": ".py",
      "mimetype": "text/x-python",
      "name": "python",
      "nbconvert_exporter": "python",
      "pygments_lexer": "ipython3",
      "version": "3.7.1"
    },
    "colab": {
      "name": "models.ipynb",
      "provenance": [],
      "collapsed_sections": [],
      "machine_shape": "hm"
    },
    "accelerator": "GPU",
    "widgets": {
      "application/vnd.jupyter.widget-state+json": {
        "2c89a7ef1d314c909f1e3a65dc443a68": {
          "model_module": "@jupyter-widgets/controls",
          "model_name": "HBoxModel",
          "model_module_version": "1.5.0",
          "state": {
            "_dom_classes": [],
            "_model_module": "@jupyter-widgets/controls",
            "_model_module_version": "1.5.0",
            "_model_name": "HBoxModel",
            "_view_count": null,
            "_view_module": "@jupyter-widgets/controls",
            "_view_module_version": "1.5.0",
            "_view_name": "HBoxView",
            "box_style": "",
            "children": [
              "IPY_MODEL_463dfc7198154f72b84ae92dd9f4234b",
              "IPY_MODEL_2a2d96fdba4c4ba48fb84ef79c2ac789",
              "IPY_MODEL_5112ba5f950a4575a590926d22c770dd"
            ],
            "layout": "IPY_MODEL_f58d540de2c545d3beac1eba89d1b9f4"
          }
        },
        "463dfc7198154f72b84ae92dd9f4234b": {
          "model_module": "@jupyter-widgets/controls",
          "model_name": "HTMLModel",
          "model_module_version": "1.5.0",
          "state": {
            "_dom_classes": [],
            "_model_module": "@jupyter-widgets/controls",
            "_model_module_version": "1.5.0",
            "_model_name": "HTMLModel",
            "_view_count": null,
            "_view_module": "@jupyter-widgets/controls",
            "_view_module_version": "1.5.0",
            "_view_name": "HTMLView",
            "description": "",
            "description_tooltip": null,
            "layout": "IPY_MODEL_41f971b29dda455bb803863e7383f2f1",
            "placeholder": "​",
            "style": "IPY_MODEL_1bdcf8ef90a643f2b750abe27e8964c1",
            "value": "Downloading: 100%"
          }
        },
        "2a2d96fdba4c4ba48fb84ef79c2ac789": {
          "model_module": "@jupyter-widgets/controls",
          "model_name": "FloatProgressModel",
          "model_module_version": "1.5.0",
          "state": {
            "_dom_classes": [],
            "_model_module": "@jupyter-widgets/controls",
            "_model_module_version": "1.5.0",
            "_model_name": "FloatProgressModel",
            "_view_count": null,
            "_view_module": "@jupyter-widgets/controls",
            "_view_module_version": "1.5.0",
            "_view_name": "ProgressView",
            "bar_style": "success",
            "description": "",
            "description_tooltip": null,
            "layout": "IPY_MODEL_757524b7226f4d53915cbe178e2ed2ba",
            "max": 433,
            "min": 0,
            "orientation": "horizontal",
            "style": "IPY_MODEL_49760ca7d7604940a817752108388450",
            "value": 433
          }
        },
        "5112ba5f950a4575a590926d22c770dd": {
          "model_module": "@jupyter-widgets/controls",
          "model_name": "HTMLModel",
          "model_module_version": "1.5.0",
          "state": {
            "_dom_classes": [],
            "_model_module": "@jupyter-widgets/controls",
            "_model_module_version": "1.5.0",
            "_model_name": "HTMLModel",
            "_view_count": null,
            "_view_module": "@jupyter-widgets/controls",
            "_view_module_version": "1.5.0",
            "_view_name": "HTMLView",
            "description": "",
            "description_tooltip": null,
            "layout": "IPY_MODEL_e25e302b07fc4e69b0349449d1ceb550",
            "placeholder": "​",
            "style": "IPY_MODEL_4cb4868a29f445f0b936ee1dd8ad7c67",
            "value": " 433/433 [00:00&lt;00:00, 13.6kB/s]"
          }
        },
        "f58d540de2c545d3beac1eba89d1b9f4": {
          "model_module": "@jupyter-widgets/base",
          "model_name": "LayoutModel",
          "model_module_version": "1.2.0",
          "state": {
            "_model_module": "@jupyter-widgets/base",
            "_model_module_version": "1.2.0",
            "_model_name": "LayoutModel",
            "_view_count": null,
            "_view_module": "@jupyter-widgets/base",
            "_view_module_version": "1.2.0",
            "_view_name": "LayoutView",
            "align_content": null,
            "align_items": null,
            "align_self": null,
            "border": null,
            "bottom": null,
            "display": null,
            "flex": null,
            "flex_flow": null,
            "grid_area": null,
            "grid_auto_columns": null,
            "grid_auto_flow": null,
            "grid_auto_rows": null,
            "grid_column": null,
            "grid_gap": null,
            "grid_row": null,
            "grid_template_areas": null,
            "grid_template_columns": null,
            "grid_template_rows": null,
            "height": null,
            "justify_content": null,
            "justify_items": null,
            "left": null,
            "margin": null,
            "max_height": null,
            "max_width": null,
            "min_height": null,
            "min_width": null,
            "object_fit": null,
            "object_position": null,
            "order": null,
            "overflow": null,
            "overflow_x": null,
            "overflow_y": null,
            "padding": null,
            "right": null,
            "top": null,
            "visibility": null,
            "width": null
          }
        },
        "41f971b29dda455bb803863e7383f2f1": {
          "model_module": "@jupyter-widgets/base",
          "model_name": "LayoutModel",
          "model_module_version": "1.2.0",
          "state": {
            "_model_module": "@jupyter-widgets/base",
            "_model_module_version": "1.2.0",
            "_model_name": "LayoutModel",
            "_view_count": null,
            "_view_module": "@jupyter-widgets/base",
            "_view_module_version": "1.2.0",
            "_view_name": "LayoutView",
            "align_content": null,
            "align_items": null,
            "align_self": null,
            "border": null,
            "bottom": null,
            "display": null,
            "flex": null,
            "flex_flow": null,
            "grid_area": null,
            "grid_auto_columns": null,
            "grid_auto_flow": null,
            "grid_auto_rows": null,
            "grid_column": null,
            "grid_gap": null,
            "grid_row": null,
            "grid_template_areas": null,
            "grid_template_columns": null,
            "grid_template_rows": null,
            "height": null,
            "justify_content": null,
            "justify_items": null,
            "left": null,
            "margin": null,
            "max_height": null,
            "max_width": null,
            "min_height": null,
            "min_width": null,
            "object_fit": null,
            "object_position": null,
            "order": null,
            "overflow": null,
            "overflow_x": null,
            "overflow_y": null,
            "padding": null,
            "right": null,
            "top": null,
            "visibility": null,
            "width": null
          }
        },
        "1bdcf8ef90a643f2b750abe27e8964c1": {
          "model_module": "@jupyter-widgets/controls",
          "model_name": "DescriptionStyleModel",
          "model_module_version": "1.5.0",
          "state": {
            "_model_module": "@jupyter-widgets/controls",
            "_model_module_version": "1.5.0",
            "_model_name": "DescriptionStyleModel",
            "_view_count": null,
            "_view_module": "@jupyter-widgets/base",
            "_view_module_version": "1.2.0",
            "_view_name": "StyleView",
            "description_width": ""
          }
        },
        "757524b7226f4d53915cbe178e2ed2ba": {
          "model_module": "@jupyter-widgets/base",
          "model_name": "LayoutModel",
          "model_module_version": "1.2.0",
          "state": {
            "_model_module": "@jupyter-widgets/base",
            "_model_module_version": "1.2.0",
            "_model_name": "LayoutModel",
            "_view_count": null,
            "_view_module": "@jupyter-widgets/base",
            "_view_module_version": "1.2.0",
            "_view_name": "LayoutView",
            "align_content": null,
            "align_items": null,
            "align_self": null,
            "border": null,
            "bottom": null,
            "display": null,
            "flex": null,
            "flex_flow": null,
            "grid_area": null,
            "grid_auto_columns": null,
            "grid_auto_flow": null,
            "grid_auto_rows": null,
            "grid_column": null,
            "grid_gap": null,
            "grid_row": null,
            "grid_template_areas": null,
            "grid_template_columns": null,
            "grid_template_rows": null,
            "height": null,
            "justify_content": null,
            "justify_items": null,
            "left": null,
            "margin": null,
            "max_height": null,
            "max_width": null,
            "min_height": null,
            "min_width": null,
            "object_fit": null,
            "object_position": null,
            "order": null,
            "overflow": null,
            "overflow_x": null,
            "overflow_y": null,
            "padding": null,
            "right": null,
            "top": null,
            "visibility": null,
            "width": null
          }
        },
        "49760ca7d7604940a817752108388450": {
          "model_module": "@jupyter-widgets/controls",
          "model_name": "ProgressStyleModel",
          "model_module_version": "1.5.0",
          "state": {
            "_model_module": "@jupyter-widgets/controls",
            "_model_module_version": "1.5.0",
            "_model_name": "ProgressStyleModel",
            "_view_count": null,
            "_view_module": "@jupyter-widgets/base",
            "_view_module_version": "1.2.0",
            "_view_name": "StyleView",
            "bar_color": null,
            "description_width": ""
          }
        },
        "e25e302b07fc4e69b0349449d1ceb550": {
          "model_module": "@jupyter-widgets/base",
          "model_name": "LayoutModel",
          "model_module_version": "1.2.0",
          "state": {
            "_model_module": "@jupyter-widgets/base",
            "_model_module_version": "1.2.0",
            "_model_name": "LayoutModel",
            "_view_count": null,
            "_view_module": "@jupyter-widgets/base",
            "_view_module_version": "1.2.0",
            "_view_name": "LayoutView",
            "align_content": null,
            "align_items": null,
            "align_self": null,
            "border": null,
            "bottom": null,
            "display": null,
            "flex": null,
            "flex_flow": null,
            "grid_area": null,
            "grid_auto_columns": null,
            "grid_auto_flow": null,
            "grid_auto_rows": null,
            "grid_column": null,
            "grid_gap": null,
            "grid_row": null,
            "grid_template_areas": null,
            "grid_template_columns": null,
            "grid_template_rows": null,
            "height": null,
            "justify_content": null,
            "justify_items": null,
            "left": null,
            "margin": null,
            "max_height": null,
            "max_width": null,
            "min_height": null,
            "min_width": null,
            "object_fit": null,
            "object_position": null,
            "order": null,
            "overflow": null,
            "overflow_x": null,
            "overflow_y": null,
            "padding": null,
            "right": null,
            "top": null,
            "visibility": null,
            "width": null
          }
        },
        "4cb4868a29f445f0b936ee1dd8ad7c67": {
          "model_module": "@jupyter-widgets/controls",
          "model_name": "DescriptionStyleModel",
          "model_module_version": "1.5.0",
          "state": {
            "_model_module": "@jupyter-widgets/controls",
            "_model_module_version": "1.5.0",
            "_model_name": "DescriptionStyleModel",
            "_view_count": null,
            "_view_module": "@jupyter-widgets/base",
            "_view_module_version": "1.2.0",
            "_view_name": "StyleView",
            "description_width": ""
          }
        },
        "0d1f9b1181cd410e96dd1ae52d4456f3": {
          "model_module": "@jupyter-widgets/controls",
          "model_name": "HBoxModel",
          "model_module_version": "1.5.0",
          "state": {
            "_dom_classes": [],
            "_model_module": "@jupyter-widgets/controls",
            "_model_module_version": "1.5.0",
            "_model_name": "HBoxModel",
            "_view_count": null,
            "_view_module": "@jupyter-widgets/controls",
            "_view_module_version": "1.5.0",
            "_view_name": "HBoxView",
            "box_style": "",
            "children": [
              "IPY_MODEL_0efaf044d1184dcbbd32021bcf45ea74",
              "IPY_MODEL_98b831d0027a4b8a8094e531c1076d0c",
              "IPY_MODEL_7b3e7d815deb471aa1d8b88e3eda3a88"
            ],
            "layout": "IPY_MODEL_9989a3e4135f415992775d0275d94ad8"
          }
        },
        "0efaf044d1184dcbbd32021bcf45ea74": {
          "model_module": "@jupyter-widgets/controls",
          "model_name": "HTMLModel",
          "model_module_version": "1.5.0",
          "state": {
            "_dom_classes": [],
            "_model_module": "@jupyter-widgets/controls",
            "_model_module_version": "1.5.0",
            "_model_name": "HTMLModel",
            "_view_count": null,
            "_view_module": "@jupyter-widgets/controls",
            "_view_module_version": "1.5.0",
            "_view_name": "HTMLView",
            "description": "",
            "description_tooltip": null,
            "layout": "IPY_MODEL_d6e6803fa476474b8bfb15f2163976d4",
            "placeholder": "​",
            "style": "IPY_MODEL_6e26b95d647d4bca9326cf03b0205708",
            "value": "Downloading: 100%"
          }
        },
        "98b831d0027a4b8a8094e531c1076d0c": {
          "model_module": "@jupyter-widgets/controls",
          "model_name": "FloatProgressModel",
          "model_module_version": "1.5.0",
          "state": {
            "_dom_classes": [],
            "_model_module": "@jupyter-widgets/controls",
            "_model_module_version": "1.5.0",
            "_model_name": "FloatProgressModel",
            "_view_count": null,
            "_view_module": "@jupyter-widgets/controls",
            "_view_module_version": "1.5.0",
            "_view_name": "ProgressView",
            "bar_style": "success",
            "description": "",
            "description_tooltip": null,
            "layout": "IPY_MODEL_9fef8229534d4b85b74f3ed7a97be062",
            "max": 536063208,
            "min": 0,
            "orientation": "horizontal",
            "style": "IPY_MODEL_b7b0962d70ab4b6fb485cff188216a73",
            "value": 536063208
          }
        },
        "7b3e7d815deb471aa1d8b88e3eda3a88": {
          "model_module": "@jupyter-widgets/controls",
          "model_name": "HTMLModel",
          "model_module_version": "1.5.0",
          "state": {
            "_dom_classes": [],
            "_model_module": "@jupyter-widgets/controls",
            "_model_module_version": "1.5.0",
            "_model_name": "HTMLModel",
            "_view_count": null,
            "_view_module": "@jupyter-widgets/controls",
            "_view_module_version": "1.5.0",
            "_view_name": "HTMLView",
            "description": "",
            "description_tooltip": null,
            "layout": "IPY_MODEL_f793798430e948499460dce575bbc590",
            "placeholder": "​",
            "style": "IPY_MODEL_e61e2c448a1941cb977c31767683f476",
            "value": " 536M/536M [00:12&lt;00:00, 44.9MB/s]"
          }
        },
        "9989a3e4135f415992775d0275d94ad8": {
          "model_module": "@jupyter-widgets/base",
          "model_name": "LayoutModel",
          "model_module_version": "1.2.0",
          "state": {
            "_model_module": "@jupyter-widgets/base",
            "_model_module_version": "1.2.0",
            "_model_name": "LayoutModel",
            "_view_count": null,
            "_view_module": "@jupyter-widgets/base",
            "_view_module_version": "1.2.0",
            "_view_name": "LayoutView",
            "align_content": null,
            "align_items": null,
            "align_self": null,
            "border": null,
            "bottom": null,
            "display": null,
            "flex": null,
            "flex_flow": null,
            "grid_area": null,
            "grid_auto_columns": null,
            "grid_auto_flow": null,
            "grid_auto_rows": null,
            "grid_column": null,
            "grid_gap": null,
            "grid_row": null,
            "grid_template_areas": null,
            "grid_template_columns": null,
            "grid_template_rows": null,
            "height": null,
            "justify_content": null,
            "justify_items": null,
            "left": null,
            "margin": null,
            "max_height": null,
            "max_width": null,
            "min_height": null,
            "min_width": null,
            "object_fit": null,
            "object_position": null,
            "order": null,
            "overflow": null,
            "overflow_x": null,
            "overflow_y": null,
            "padding": null,
            "right": null,
            "top": null,
            "visibility": null,
            "width": null
          }
        },
        "d6e6803fa476474b8bfb15f2163976d4": {
          "model_module": "@jupyter-widgets/base",
          "model_name": "LayoutModel",
          "model_module_version": "1.2.0",
          "state": {
            "_model_module": "@jupyter-widgets/base",
            "_model_module_version": "1.2.0",
            "_model_name": "LayoutModel",
            "_view_count": null,
            "_view_module": "@jupyter-widgets/base",
            "_view_module_version": "1.2.0",
            "_view_name": "LayoutView",
            "align_content": null,
            "align_items": null,
            "align_self": null,
            "border": null,
            "bottom": null,
            "display": null,
            "flex": null,
            "flex_flow": null,
            "grid_area": null,
            "grid_auto_columns": null,
            "grid_auto_flow": null,
            "grid_auto_rows": null,
            "grid_column": null,
            "grid_gap": null,
            "grid_row": null,
            "grid_template_areas": null,
            "grid_template_columns": null,
            "grid_template_rows": null,
            "height": null,
            "justify_content": null,
            "justify_items": null,
            "left": null,
            "margin": null,
            "max_height": null,
            "max_width": null,
            "min_height": null,
            "min_width": null,
            "object_fit": null,
            "object_position": null,
            "order": null,
            "overflow": null,
            "overflow_x": null,
            "overflow_y": null,
            "padding": null,
            "right": null,
            "top": null,
            "visibility": null,
            "width": null
          }
        },
        "6e26b95d647d4bca9326cf03b0205708": {
          "model_module": "@jupyter-widgets/controls",
          "model_name": "DescriptionStyleModel",
          "model_module_version": "1.5.0",
          "state": {
            "_model_module": "@jupyter-widgets/controls",
            "_model_module_version": "1.5.0",
            "_model_name": "DescriptionStyleModel",
            "_view_count": null,
            "_view_module": "@jupyter-widgets/base",
            "_view_module_version": "1.2.0",
            "_view_name": "StyleView",
            "description_width": ""
          }
        },
        "9fef8229534d4b85b74f3ed7a97be062": {
          "model_module": "@jupyter-widgets/base",
          "model_name": "LayoutModel",
          "model_module_version": "1.2.0",
          "state": {
            "_model_module": "@jupyter-widgets/base",
            "_model_module_version": "1.2.0",
            "_model_name": "LayoutModel",
            "_view_count": null,
            "_view_module": "@jupyter-widgets/base",
            "_view_module_version": "1.2.0",
            "_view_name": "LayoutView",
            "align_content": null,
            "align_items": null,
            "align_self": null,
            "border": null,
            "bottom": null,
            "display": null,
            "flex": null,
            "flex_flow": null,
            "grid_area": null,
            "grid_auto_columns": null,
            "grid_auto_flow": null,
            "grid_auto_rows": null,
            "grid_column": null,
            "grid_gap": null,
            "grid_row": null,
            "grid_template_areas": null,
            "grid_template_columns": null,
            "grid_template_rows": null,
            "height": null,
            "justify_content": null,
            "justify_items": null,
            "left": null,
            "margin": null,
            "max_height": null,
            "max_width": null,
            "min_height": null,
            "min_width": null,
            "object_fit": null,
            "object_position": null,
            "order": null,
            "overflow": null,
            "overflow_x": null,
            "overflow_y": null,
            "padding": null,
            "right": null,
            "top": null,
            "visibility": null,
            "width": null
          }
        },
        "b7b0962d70ab4b6fb485cff188216a73": {
          "model_module": "@jupyter-widgets/controls",
          "model_name": "ProgressStyleModel",
          "model_module_version": "1.5.0",
          "state": {
            "_model_module": "@jupyter-widgets/controls",
            "_model_module_version": "1.5.0",
            "_model_name": "ProgressStyleModel",
            "_view_count": null,
            "_view_module": "@jupyter-widgets/base",
            "_view_module_version": "1.2.0",
            "_view_name": "StyleView",
            "bar_color": null,
            "description_width": ""
          }
        },
        "f793798430e948499460dce575bbc590": {
          "model_module": "@jupyter-widgets/base",
          "model_name": "LayoutModel",
          "model_module_version": "1.2.0",
          "state": {
            "_model_module": "@jupyter-widgets/base",
            "_model_module_version": "1.2.0",
            "_model_name": "LayoutModel",
            "_view_count": null,
            "_view_module": "@jupyter-widgets/base",
            "_view_module_version": "1.2.0",
            "_view_name": "LayoutView",
            "align_content": null,
            "align_items": null,
            "align_self": null,
            "border": null,
            "bottom": null,
            "display": null,
            "flex": null,
            "flex_flow": null,
            "grid_area": null,
            "grid_auto_columns": null,
            "grid_auto_flow": null,
            "grid_auto_rows": null,
            "grid_column": null,
            "grid_gap": null,
            "grid_row": null,
            "grid_template_areas": null,
            "grid_template_columns": null,
            "grid_template_rows": null,
            "height": null,
            "justify_content": null,
            "justify_items": null,
            "left": null,
            "margin": null,
            "max_height": null,
            "max_width": null,
            "min_height": null,
            "min_width": null,
            "object_fit": null,
            "object_position": null,
            "order": null,
            "overflow": null,
            "overflow_x": null,
            "overflow_y": null,
            "padding": null,
            "right": null,
            "top": null,
            "visibility": null,
            "width": null
          }
        },
        "e61e2c448a1941cb977c31767683f476": {
          "model_module": "@jupyter-widgets/controls",
          "model_name": "DescriptionStyleModel",
          "model_module_version": "1.5.0",
          "state": {
            "_model_module": "@jupyter-widgets/controls",
            "_model_module_version": "1.5.0",
            "_model_name": "DescriptionStyleModel",
            "_view_count": null,
            "_view_module": "@jupyter-widgets/base",
            "_view_module_version": "1.2.0",
            "_view_name": "StyleView",
            "description_width": ""
          }
        },
        "5eaba5d62fb14876ab6ef57d9ce88448": {
          "model_module": "@jupyter-widgets/controls",
          "model_name": "HBoxModel",
          "model_module_version": "1.5.0",
          "state": {
            "_dom_classes": [],
            "_model_module": "@jupyter-widgets/controls",
            "_model_module_version": "1.5.0",
            "_model_name": "HBoxModel",
            "_view_count": null,
            "_view_module": "@jupyter-widgets/controls",
            "_view_module_version": "1.5.0",
            "_view_name": "HBoxView",
            "box_style": "",
            "children": [
              "IPY_MODEL_70f9bb86a8d64f01bbfd876ac56d1b99",
              "IPY_MODEL_8b3d67837c6d4dbaae1234c03277e57c",
              "IPY_MODEL_8d4ac97c91774ea188241a1186673806"
            ],
            "layout": "IPY_MODEL_171c60bb0af54de3b46ecaab2dc6de8b"
          }
        },
        "70f9bb86a8d64f01bbfd876ac56d1b99": {
          "model_module": "@jupyter-widgets/controls",
          "model_name": "HTMLModel",
          "model_module_version": "1.5.0",
          "state": {
            "_dom_classes": [],
            "_model_module": "@jupyter-widgets/controls",
            "_model_module_version": "1.5.0",
            "_model_name": "HTMLModel",
            "_view_count": null,
            "_view_module": "@jupyter-widgets/controls",
            "_view_module_version": "1.5.0",
            "_view_name": "HTMLView",
            "description": "",
            "description_tooltip": null,
            "layout": "IPY_MODEL_a1fa5504d064480285b827166f5fc35e",
            "placeholder": "​",
            "style": "IPY_MODEL_c57f54e9d50c448b9c764d7301f907aa",
            "value": "Downloading: 100%"
          }
        },
        "8b3d67837c6d4dbaae1234c03277e57c": {
          "model_module": "@jupyter-widgets/controls",
          "model_name": "FloatProgressModel",
          "model_module_version": "1.5.0",
          "state": {
            "_dom_classes": [],
            "_model_module": "@jupyter-widgets/controls",
            "_model_module_version": "1.5.0",
            "_model_name": "FloatProgressModel",
            "_view_count": null,
            "_view_module": "@jupyter-widgets/controls",
            "_view_module_version": "1.5.0",
            "_view_name": "ProgressView",
            "bar_style": "success",
            "description": "",
            "description_tooltip": null,
            "layout": "IPY_MODEL_2c23c02d26494833a95683b0ab9a4700",
            "max": 433,
            "min": 0,
            "orientation": "horizontal",
            "style": "IPY_MODEL_1a21ccc6eb1c46ffa681fa45c0fef6f7",
            "value": 433
          }
        },
        "8d4ac97c91774ea188241a1186673806": {
          "model_module": "@jupyter-widgets/controls",
          "model_name": "HTMLModel",
          "model_module_version": "1.5.0",
          "state": {
            "_dom_classes": [],
            "_model_module": "@jupyter-widgets/controls",
            "_model_module_version": "1.5.0",
            "_model_name": "HTMLModel",
            "_view_count": null,
            "_view_module": "@jupyter-widgets/controls",
            "_view_module_version": "1.5.0",
            "_view_name": "HTMLView",
            "description": "",
            "description_tooltip": null,
            "layout": "IPY_MODEL_26d981a634354aee92da487769a76ed7",
            "placeholder": "​",
            "style": "IPY_MODEL_25fe8c8ca3bd4d548c57f65a32a2ee66",
            "value": " 433/433 [00:00&lt;00:00, 10.1kB/s]"
          }
        },
        "171c60bb0af54de3b46ecaab2dc6de8b": {
          "model_module": "@jupyter-widgets/base",
          "model_name": "LayoutModel",
          "model_module_version": "1.2.0",
          "state": {
            "_model_module": "@jupyter-widgets/base",
            "_model_module_version": "1.2.0",
            "_model_name": "LayoutModel",
            "_view_count": null,
            "_view_module": "@jupyter-widgets/base",
            "_view_module_version": "1.2.0",
            "_view_name": "LayoutView",
            "align_content": null,
            "align_items": null,
            "align_self": null,
            "border": null,
            "bottom": null,
            "display": null,
            "flex": null,
            "flex_flow": null,
            "grid_area": null,
            "grid_auto_columns": null,
            "grid_auto_flow": null,
            "grid_auto_rows": null,
            "grid_column": null,
            "grid_gap": null,
            "grid_row": null,
            "grid_template_areas": null,
            "grid_template_columns": null,
            "grid_template_rows": null,
            "height": null,
            "justify_content": null,
            "justify_items": null,
            "left": null,
            "margin": null,
            "max_height": null,
            "max_width": null,
            "min_height": null,
            "min_width": null,
            "object_fit": null,
            "object_position": null,
            "order": null,
            "overflow": null,
            "overflow_x": null,
            "overflow_y": null,
            "padding": null,
            "right": null,
            "top": null,
            "visibility": null,
            "width": null
          }
        },
        "a1fa5504d064480285b827166f5fc35e": {
          "model_module": "@jupyter-widgets/base",
          "model_name": "LayoutModel",
          "model_module_version": "1.2.0",
          "state": {
            "_model_module": "@jupyter-widgets/base",
            "_model_module_version": "1.2.0",
            "_model_name": "LayoutModel",
            "_view_count": null,
            "_view_module": "@jupyter-widgets/base",
            "_view_module_version": "1.2.0",
            "_view_name": "LayoutView",
            "align_content": null,
            "align_items": null,
            "align_self": null,
            "border": null,
            "bottom": null,
            "display": null,
            "flex": null,
            "flex_flow": null,
            "grid_area": null,
            "grid_auto_columns": null,
            "grid_auto_flow": null,
            "grid_auto_rows": null,
            "grid_column": null,
            "grid_gap": null,
            "grid_row": null,
            "grid_template_areas": null,
            "grid_template_columns": null,
            "grid_template_rows": null,
            "height": null,
            "justify_content": null,
            "justify_items": null,
            "left": null,
            "margin": null,
            "max_height": null,
            "max_width": null,
            "min_height": null,
            "min_width": null,
            "object_fit": null,
            "object_position": null,
            "order": null,
            "overflow": null,
            "overflow_x": null,
            "overflow_y": null,
            "padding": null,
            "right": null,
            "top": null,
            "visibility": null,
            "width": null
          }
        },
        "c57f54e9d50c448b9c764d7301f907aa": {
          "model_module": "@jupyter-widgets/controls",
          "model_name": "DescriptionStyleModel",
          "model_module_version": "1.5.0",
          "state": {
            "_model_module": "@jupyter-widgets/controls",
            "_model_module_version": "1.5.0",
            "_model_name": "DescriptionStyleModel",
            "_view_count": null,
            "_view_module": "@jupyter-widgets/base",
            "_view_module_version": "1.2.0",
            "_view_name": "StyleView",
            "description_width": ""
          }
        },
        "2c23c02d26494833a95683b0ab9a4700": {
          "model_module": "@jupyter-widgets/base",
          "model_name": "LayoutModel",
          "model_module_version": "1.2.0",
          "state": {
            "_model_module": "@jupyter-widgets/base",
            "_model_module_version": "1.2.0",
            "_model_name": "LayoutModel",
            "_view_count": null,
            "_view_module": "@jupyter-widgets/base",
            "_view_module_version": "1.2.0",
            "_view_name": "LayoutView",
            "align_content": null,
            "align_items": null,
            "align_self": null,
            "border": null,
            "bottom": null,
            "display": null,
            "flex": null,
            "flex_flow": null,
            "grid_area": null,
            "grid_auto_columns": null,
            "grid_auto_flow": null,
            "grid_auto_rows": null,
            "grid_column": null,
            "grid_gap": null,
            "grid_row": null,
            "grid_template_areas": null,
            "grid_template_columns": null,
            "grid_template_rows": null,
            "height": null,
            "justify_content": null,
            "justify_items": null,
            "left": null,
            "margin": null,
            "max_height": null,
            "max_width": null,
            "min_height": null,
            "min_width": null,
            "object_fit": null,
            "object_position": null,
            "order": null,
            "overflow": null,
            "overflow_x": null,
            "overflow_y": null,
            "padding": null,
            "right": null,
            "top": null,
            "visibility": null,
            "width": null
          }
        },
        "1a21ccc6eb1c46ffa681fa45c0fef6f7": {
          "model_module": "@jupyter-widgets/controls",
          "model_name": "ProgressStyleModel",
          "model_module_version": "1.5.0",
          "state": {
            "_model_module": "@jupyter-widgets/controls",
            "_model_module_version": "1.5.0",
            "_model_name": "ProgressStyleModel",
            "_view_count": null,
            "_view_module": "@jupyter-widgets/base",
            "_view_module_version": "1.2.0",
            "_view_name": "StyleView",
            "bar_color": null,
            "description_width": ""
          }
        },
        "26d981a634354aee92da487769a76ed7": {
          "model_module": "@jupyter-widgets/base",
          "model_name": "LayoutModel",
          "model_module_version": "1.2.0",
          "state": {
            "_model_module": "@jupyter-widgets/base",
            "_model_module_version": "1.2.0",
            "_model_name": "LayoutModel",
            "_view_count": null,
            "_view_module": "@jupyter-widgets/base",
            "_view_module_version": "1.2.0",
            "_view_name": "LayoutView",
            "align_content": null,
            "align_items": null,
            "align_self": null,
            "border": null,
            "bottom": null,
            "display": null,
            "flex": null,
            "flex_flow": null,
            "grid_area": null,
            "grid_auto_columns": null,
            "grid_auto_flow": null,
            "grid_auto_rows": null,
            "grid_column": null,
            "grid_gap": null,
            "grid_row": null,
            "grid_template_areas": null,
            "grid_template_columns": null,
            "grid_template_rows": null,
            "height": null,
            "justify_content": null,
            "justify_items": null,
            "left": null,
            "margin": null,
            "max_height": null,
            "max_width": null,
            "min_height": null,
            "min_width": null,
            "object_fit": null,
            "object_position": null,
            "order": null,
            "overflow": null,
            "overflow_x": null,
            "overflow_y": null,
            "padding": null,
            "right": null,
            "top": null,
            "visibility": null,
            "width": null
          }
        },
        "25fe8c8ca3bd4d548c57f65a32a2ee66": {
          "model_module": "@jupyter-widgets/controls",
          "model_name": "DescriptionStyleModel",
          "model_module_version": "1.5.0",
          "state": {
            "_model_module": "@jupyter-widgets/controls",
            "_model_module_version": "1.5.0",
            "_model_name": "DescriptionStyleModel",
            "_view_count": null,
            "_view_module": "@jupyter-widgets/base",
            "_view_module_version": "1.2.0",
            "_view_name": "StyleView",
            "description_width": ""
          }
        },
        "f447e6b07d1846e0a95ff13c470c8790": {
          "model_module": "@jupyter-widgets/controls",
          "model_name": "HBoxModel",
          "model_module_version": "1.5.0",
          "state": {
            "_dom_classes": [],
            "_model_module": "@jupyter-widgets/controls",
            "_model_module_version": "1.5.0",
            "_model_name": "HBoxModel",
            "_view_count": null,
            "_view_module": "@jupyter-widgets/controls",
            "_view_module_version": "1.5.0",
            "_view_name": "HBoxView",
            "box_style": "",
            "children": [
              "IPY_MODEL_febfe9874ea148dc9c773d83dd260af1",
              "IPY_MODEL_cae28c1aeaca46ca96762a302bb0785b",
              "IPY_MODEL_21e4071d3d9040409615c74a21532b9a"
            ],
            "layout": "IPY_MODEL_fe3d83ebd5814b2ba46c251ad55c5ffe"
          }
        },
        "febfe9874ea148dc9c773d83dd260af1": {
          "model_module": "@jupyter-widgets/controls",
          "model_name": "HTMLModel",
          "model_module_version": "1.5.0",
          "state": {
            "_dom_classes": [],
            "_model_module": "@jupyter-widgets/controls",
            "_model_module_version": "1.5.0",
            "_model_name": "HTMLModel",
            "_view_count": null,
            "_view_module": "@jupyter-widgets/controls",
            "_view_module_version": "1.5.0",
            "_view_name": "HTMLView",
            "description": "",
            "description_tooltip": null,
            "layout": "IPY_MODEL_a049036a7641491f9e1255eb9b208ea2",
            "placeholder": "​",
            "style": "IPY_MODEL_c0693013bc814067b8f1ce4af3d5d0b2",
            "value": "Downloading: 100%"
          }
        },
        "cae28c1aeaca46ca96762a302bb0785b": {
          "model_module": "@jupyter-widgets/controls",
          "model_name": "FloatProgressModel",
          "model_module_version": "1.5.0",
          "state": {
            "_dom_classes": [],
            "_model_module": "@jupyter-widgets/controls",
            "_model_module_version": "1.5.0",
            "_model_name": "FloatProgressModel",
            "_view_count": null,
            "_view_module": "@jupyter-widgets/controls",
            "_view_module_version": "1.5.0",
            "_view_name": "ProgressView",
            "bar_style": "success",
            "description": "",
            "description_tooltip": null,
            "layout": "IPY_MODEL_5cd5acf6c2074594945c385735a3cae8",
            "max": 536063208,
            "min": 0,
            "orientation": "horizontal",
            "style": "IPY_MODEL_ca817ed3c4664516a25e225e727e8a9e",
            "value": 536063208
          }
        },
        "21e4071d3d9040409615c74a21532b9a": {
          "model_module": "@jupyter-widgets/controls",
          "model_name": "HTMLModel",
          "model_module_version": "1.5.0",
          "state": {
            "_dom_classes": [],
            "_model_module": "@jupyter-widgets/controls",
            "_model_module_version": "1.5.0",
            "_model_name": "HTMLModel",
            "_view_count": null,
            "_view_module": "@jupyter-widgets/controls",
            "_view_module_version": "1.5.0",
            "_view_name": "HTMLView",
            "description": "",
            "description_tooltip": null,
            "layout": "IPY_MODEL_cb3359f0371f4624a9c78d9e501c0d4d",
            "placeholder": "​",
            "style": "IPY_MODEL_3d8d6dea60eb4343ad0dcc3412bb6701",
            "value": " 536M/536M [00:20&lt;00:00, 14.8MB/s]"
          }
        },
        "fe3d83ebd5814b2ba46c251ad55c5ffe": {
          "model_module": "@jupyter-widgets/base",
          "model_name": "LayoutModel",
          "model_module_version": "1.2.0",
          "state": {
            "_model_module": "@jupyter-widgets/base",
            "_model_module_version": "1.2.0",
            "_model_name": "LayoutModel",
            "_view_count": null,
            "_view_module": "@jupyter-widgets/base",
            "_view_module_version": "1.2.0",
            "_view_name": "LayoutView",
            "align_content": null,
            "align_items": null,
            "align_self": null,
            "border": null,
            "bottom": null,
            "display": null,
            "flex": null,
            "flex_flow": null,
            "grid_area": null,
            "grid_auto_columns": null,
            "grid_auto_flow": null,
            "grid_auto_rows": null,
            "grid_column": null,
            "grid_gap": null,
            "grid_row": null,
            "grid_template_areas": null,
            "grid_template_columns": null,
            "grid_template_rows": null,
            "height": null,
            "justify_content": null,
            "justify_items": null,
            "left": null,
            "margin": null,
            "max_height": null,
            "max_width": null,
            "min_height": null,
            "min_width": null,
            "object_fit": null,
            "object_position": null,
            "order": null,
            "overflow": null,
            "overflow_x": null,
            "overflow_y": null,
            "padding": null,
            "right": null,
            "top": null,
            "visibility": null,
            "width": null
          }
        },
        "a049036a7641491f9e1255eb9b208ea2": {
          "model_module": "@jupyter-widgets/base",
          "model_name": "LayoutModel",
          "model_module_version": "1.2.0",
          "state": {
            "_model_module": "@jupyter-widgets/base",
            "_model_module_version": "1.2.0",
            "_model_name": "LayoutModel",
            "_view_count": null,
            "_view_module": "@jupyter-widgets/base",
            "_view_module_version": "1.2.0",
            "_view_name": "LayoutView",
            "align_content": null,
            "align_items": null,
            "align_self": null,
            "border": null,
            "bottom": null,
            "display": null,
            "flex": null,
            "flex_flow": null,
            "grid_area": null,
            "grid_auto_columns": null,
            "grid_auto_flow": null,
            "grid_auto_rows": null,
            "grid_column": null,
            "grid_gap": null,
            "grid_row": null,
            "grid_template_areas": null,
            "grid_template_columns": null,
            "grid_template_rows": null,
            "height": null,
            "justify_content": null,
            "justify_items": null,
            "left": null,
            "margin": null,
            "max_height": null,
            "max_width": null,
            "min_height": null,
            "min_width": null,
            "object_fit": null,
            "object_position": null,
            "order": null,
            "overflow": null,
            "overflow_x": null,
            "overflow_y": null,
            "padding": null,
            "right": null,
            "top": null,
            "visibility": null,
            "width": null
          }
        },
        "c0693013bc814067b8f1ce4af3d5d0b2": {
          "model_module": "@jupyter-widgets/controls",
          "model_name": "DescriptionStyleModel",
          "model_module_version": "1.5.0",
          "state": {
            "_model_module": "@jupyter-widgets/controls",
            "_model_module_version": "1.5.0",
            "_model_name": "DescriptionStyleModel",
            "_view_count": null,
            "_view_module": "@jupyter-widgets/base",
            "_view_module_version": "1.2.0",
            "_view_name": "StyleView",
            "description_width": ""
          }
        },
        "5cd5acf6c2074594945c385735a3cae8": {
          "model_module": "@jupyter-widgets/base",
          "model_name": "LayoutModel",
          "model_module_version": "1.2.0",
          "state": {
            "_model_module": "@jupyter-widgets/base",
            "_model_module_version": "1.2.0",
            "_model_name": "LayoutModel",
            "_view_count": null,
            "_view_module": "@jupyter-widgets/base",
            "_view_module_version": "1.2.0",
            "_view_name": "LayoutView",
            "align_content": null,
            "align_items": null,
            "align_self": null,
            "border": null,
            "bottom": null,
            "display": null,
            "flex": null,
            "flex_flow": null,
            "grid_area": null,
            "grid_auto_columns": null,
            "grid_auto_flow": null,
            "grid_auto_rows": null,
            "grid_column": null,
            "grid_gap": null,
            "grid_row": null,
            "grid_template_areas": null,
            "grid_template_columns": null,
            "grid_template_rows": null,
            "height": null,
            "justify_content": null,
            "justify_items": null,
            "left": null,
            "margin": null,
            "max_height": null,
            "max_width": null,
            "min_height": null,
            "min_width": null,
            "object_fit": null,
            "object_position": null,
            "order": null,
            "overflow": null,
            "overflow_x": null,
            "overflow_y": null,
            "padding": null,
            "right": null,
            "top": null,
            "visibility": null,
            "width": null
          }
        },
        "ca817ed3c4664516a25e225e727e8a9e": {
          "model_module": "@jupyter-widgets/controls",
          "model_name": "ProgressStyleModel",
          "model_module_version": "1.5.0",
          "state": {
            "_model_module": "@jupyter-widgets/controls",
            "_model_module_version": "1.5.0",
            "_model_name": "ProgressStyleModel",
            "_view_count": null,
            "_view_module": "@jupyter-widgets/base",
            "_view_module_version": "1.2.0",
            "_view_name": "StyleView",
            "bar_color": null,
            "description_width": ""
          }
        },
        "cb3359f0371f4624a9c78d9e501c0d4d": {
          "model_module": "@jupyter-widgets/base",
          "model_name": "LayoutModel",
          "model_module_version": "1.2.0",
          "state": {
            "_model_module": "@jupyter-widgets/base",
            "_model_module_version": "1.2.0",
            "_model_name": "LayoutModel",
            "_view_count": null,
            "_view_module": "@jupyter-widgets/base",
            "_view_module_version": "1.2.0",
            "_view_name": "LayoutView",
            "align_content": null,
            "align_items": null,
            "align_self": null,
            "border": null,
            "bottom": null,
            "display": null,
            "flex": null,
            "flex_flow": null,
            "grid_area": null,
            "grid_auto_columns": null,
            "grid_auto_flow": null,
            "grid_auto_rows": null,
            "grid_column": null,
            "grid_gap": null,
            "grid_row": null,
            "grid_template_areas": null,
            "grid_template_columns": null,
            "grid_template_rows": null,
            "height": null,
            "justify_content": null,
            "justify_items": null,
            "left": null,
            "margin": null,
            "max_height": null,
            "max_width": null,
            "min_height": null,
            "min_width": null,
            "object_fit": null,
            "object_position": null,
            "order": null,
            "overflow": null,
            "overflow_x": null,
            "overflow_y": null,
            "padding": null,
            "right": null,
            "top": null,
            "visibility": null,
            "width": null
          }
        },
        "3d8d6dea60eb4343ad0dcc3412bb6701": {
          "model_module": "@jupyter-widgets/controls",
          "model_name": "DescriptionStyleModel",
          "model_module_version": "1.5.0",
          "state": {
            "_model_module": "@jupyter-widgets/controls",
            "_model_module_version": "1.5.0",
            "_model_name": "DescriptionStyleModel",
            "_view_count": null,
            "_view_module": "@jupyter-widgets/base",
            "_view_module_version": "1.2.0",
            "_view_name": "StyleView",
            "description_width": ""
          }
        },
        "99209ce1d0e1496a8c76060f9fdf3244": {
          "model_module": "@jupyter-widgets/controls",
          "model_name": "HBoxModel",
          "model_module_version": "1.5.0",
          "state": {
            "_dom_classes": [],
            "_model_module": "@jupyter-widgets/controls",
            "_model_module_version": "1.5.0",
            "_model_name": "HBoxModel",
            "_view_count": null,
            "_view_module": "@jupyter-widgets/controls",
            "_view_module_version": "1.5.0",
            "_view_name": "HBoxView",
            "box_style": "",
            "children": [
              "IPY_MODEL_1e8c8d7d168d45ea89179764ae4e2e96",
              "IPY_MODEL_5bb7fe62ba05450889e2da6d93981ffa",
              "IPY_MODEL_5d8782718b9b4adbb9e266fe8601b70b"
            ],
            "layout": "IPY_MODEL_f3d0152853f2475eae0a5d62a6ec920f"
          }
        },
        "1e8c8d7d168d45ea89179764ae4e2e96": {
          "model_module": "@jupyter-widgets/controls",
          "model_name": "HTMLModel",
          "model_module_version": "1.5.0",
          "state": {
            "_dom_classes": [],
            "_model_module": "@jupyter-widgets/controls",
            "_model_module_version": "1.5.0",
            "_model_name": "HTMLModel",
            "_view_count": null,
            "_view_module": "@jupyter-widgets/controls",
            "_view_module_version": "1.5.0",
            "_view_name": "HTMLView",
            "description": "",
            "description_tooltip": null,
            "layout": "IPY_MODEL_8b738e1723fc4133aee839e690aeaede",
            "placeholder": "​",
            "style": "IPY_MODEL_bd7c87a6e20e41e9bf280c5d7e6480c9",
            "value": "Downloading: 100%"
          }
        },
        "5bb7fe62ba05450889e2da6d93981ffa": {
          "model_module": "@jupyter-widgets/controls",
          "model_name": "FloatProgressModel",
          "model_module_version": "1.5.0",
          "state": {
            "_dom_classes": [],
            "_model_module": "@jupyter-widgets/controls",
            "_model_module_version": "1.5.0",
            "_model_name": "FloatProgressModel",
            "_view_count": null,
            "_view_module": "@jupyter-widgets/controls",
            "_view_module_version": "1.5.0",
            "_view_name": "ProgressView",
            "bar_style": "success",
            "description": "",
            "description_tooltip": null,
            "layout": "IPY_MODEL_d094a8bb4d1b4655a9672adcf24c7a6f",
            "max": 433,
            "min": 0,
            "orientation": "horizontal",
            "style": "IPY_MODEL_61e0fac2c79e41e38b6388a65349a727",
            "value": 433
          }
        },
        "5d8782718b9b4adbb9e266fe8601b70b": {
          "model_module": "@jupyter-widgets/controls",
          "model_name": "HTMLModel",
          "model_module_version": "1.5.0",
          "state": {
            "_dom_classes": [],
            "_model_module": "@jupyter-widgets/controls",
            "_model_module_version": "1.5.0",
            "_model_name": "HTMLModel",
            "_view_count": null,
            "_view_module": "@jupyter-widgets/controls",
            "_view_module_version": "1.5.0",
            "_view_name": "HTMLView",
            "description": "",
            "description_tooltip": null,
            "layout": "IPY_MODEL_e01f7676e324448ea4f8082af1797fcc",
            "placeholder": "​",
            "style": "IPY_MODEL_f176f89aeb2644ccb8232b7ac8357ca7",
            "value": " 433/433 [00:00&lt;00:00, 17.6kB/s]"
          }
        },
        "f3d0152853f2475eae0a5d62a6ec920f": {
          "model_module": "@jupyter-widgets/base",
          "model_name": "LayoutModel",
          "model_module_version": "1.2.0",
          "state": {
            "_model_module": "@jupyter-widgets/base",
            "_model_module_version": "1.2.0",
            "_model_name": "LayoutModel",
            "_view_count": null,
            "_view_module": "@jupyter-widgets/base",
            "_view_module_version": "1.2.0",
            "_view_name": "LayoutView",
            "align_content": null,
            "align_items": null,
            "align_self": null,
            "border": null,
            "bottom": null,
            "display": null,
            "flex": null,
            "flex_flow": null,
            "grid_area": null,
            "grid_auto_columns": null,
            "grid_auto_flow": null,
            "grid_auto_rows": null,
            "grid_column": null,
            "grid_gap": null,
            "grid_row": null,
            "grid_template_areas": null,
            "grid_template_columns": null,
            "grid_template_rows": null,
            "height": null,
            "justify_content": null,
            "justify_items": null,
            "left": null,
            "margin": null,
            "max_height": null,
            "max_width": null,
            "min_height": null,
            "min_width": null,
            "object_fit": null,
            "object_position": null,
            "order": null,
            "overflow": null,
            "overflow_x": null,
            "overflow_y": null,
            "padding": null,
            "right": null,
            "top": null,
            "visibility": null,
            "width": null
          }
        },
        "8b738e1723fc4133aee839e690aeaede": {
          "model_module": "@jupyter-widgets/base",
          "model_name": "LayoutModel",
          "model_module_version": "1.2.0",
          "state": {
            "_model_module": "@jupyter-widgets/base",
            "_model_module_version": "1.2.0",
            "_model_name": "LayoutModel",
            "_view_count": null,
            "_view_module": "@jupyter-widgets/base",
            "_view_module_version": "1.2.0",
            "_view_name": "LayoutView",
            "align_content": null,
            "align_items": null,
            "align_self": null,
            "border": null,
            "bottom": null,
            "display": null,
            "flex": null,
            "flex_flow": null,
            "grid_area": null,
            "grid_auto_columns": null,
            "grid_auto_flow": null,
            "grid_auto_rows": null,
            "grid_column": null,
            "grid_gap": null,
            "grid_row": null,
            "grid_template_areas": null,
            "grid_template_columns": null,
            "grid_template_rows": null,
            "height": null,
            "justify_content": null,
            "justify_items": null,
            "left": null,
            "margin": null,
            "max_height": null,
            "max_width": null,
            "min_height": null,
            "min_width": null,
            "object_fit": null,
            "object_position": null,
            "order": null,
            "overflow": null,
            "overflow_x": null,
            "overflow_y": null,
            "padding": null,
            "right": null,
            "top": null,
            "visibility": null,
            "width": null
          }
        },
        "bd7c87a6e20e41e9bf280c5d7e6480c9": {
          "model_module": "@jupyter-widgets/controls",
          "model_name": "DescriptionStyleModel",
          "model_module_version": "1.5.0",
          "state": {
            "_model_module": "@jupyter-widgets/controls",
            "_model_module_version": "1.5.0",
            "_model_name": "DescriptionStyleModel",
            "_view_count": null,
            "_view_module": "@jupyter-widgets/base",
            "_view_module_version": "1.2.0",
            "_view_name": "StyleView",
            "description_width": ""
          }
        },
        "d094a8bb4d1b4655a9672adcf24c7a6f": {
          "model_module": "@jupyter-widgets/base",
          "model_name": "LayoutModel",
          "model_module_version": "1.2.0",
          "state": {
            "_model_module": "@jupyter-widgets/base",
            "_model_module_version": "1.2.0",
            "_model_name": "LayoutModel",
            "_view_count": null,
            "_view_module": "@jupyter-widgets/base",
            "_view_module_version": "1.2.0",
            "_view_name": "LayoutView",
            "align_content": null,
            "align_items": null,
            "align_self": null,
            "border": null,
            "bottom": null,
            "display": null,
            "flex": null,
            "flex_flow": null,
            "grid_area": null,
            "grid_auto_columns": null,
            "grid_auto_flow": null,
            "grid_auto_rows": null,
            "grid_column": null,
            "grid_gap": null,
            "grid_row": null,
            "grid_template_areas": null,
            "grid_template_columns": null,
            "grid_template_rows": null,
            "height": null,
            "justify_content": null,
            "justify_items": null,
            "left": null,
            "margin": null,
            "max_height": null,
            "max_width": null,
            "min_height": null,
            "min_width": null,
            "object_fit": null,
            "object_position": null,
            "order": null,
            "overflow": null,
            "overflow_x": null,
            "overflow_y": null,
            "padding": null,
            "right": null,
            "top": null,
            "visibility": null,
            "width": null
          }
        },
        "61e0fac2c79e41e38b6388a65349a727": {
          "model_module": "@jupyter-widgets/controls",
          "model_name": "ProgressStyleModel",
          "model_module_version": "1.5.0",
          "state": {
            "_model_module": "@jupyter-widgets/controls",
            "_model_module_version": "1.5.0",
            "_model_name": "ProgressStyleModel",
            "_view_count": null,
            "_view_module": "@jupyter-widgets/base",
            "_view_module_version": "1.2.0",
            "_view_name": "StyleView",
            "bar_color": null,
            "description_width": ""
          }
        },
        "e01f7676e324448ea4f8082af1797fcc": {
          "model_module": "@jupyter-widgets/base",
          "model_name": "LayoutModel",
          "model_module_version": "1.2.0",
          "state": {
            "_model_module": "@jupyter-widgets/base",
            "_model_module_version": "1.2.0",
            "_model_name": "LayoutModel",
            "_view_count": null,
            "_view_module": "@jupyter-widgets/base",
            "_view_module_version": "1.2.0",
            "_view_name": "LayoutView",
            "align_content": null,
            "align_items": null,
            "align_self": null,
            "border": null,
            "bottom": null,
            "display": null,
            "flex": null,
            "flex_flow": null,
            "grid_area": null,
            "grid_auto_columns": null,
            "grid_auto_flow": null,
            "grid_auto_rows": null,
            "grid_column": null,
            "grid_gap": null,
            "grid_row": null,
            "grid_template_areas": null,
            "grid_template_columns": null,
            "grid_template_rows": null,
            "height": null,
            "justify_content": null,
            "justify_items": null,
            "left": null,
            "margin": null,
            "max_height": null,
            "max_width": null,
            "min_height": null,
            "min_width": null,
            "object_fit": null,
            "object_position": null,
            "order": null,
            "overflow": null,
            "overflow_x": null,
            "overflow_y": null,
            "padding": null,
            "right": null,
            "top": null,
            "visibility": null,
            "width": null
          }
        },
        "f176f89aeb2644ccb8232b7ac8357ca7": {
          "model_module": "@jupyter-widgets/controls",
          "model_name": "DescriptionStyleModel",
          "model_module_version": "1.5.0",
          "state": {
            "_model_module": "@jupyter-widgets/controls",
            "_model_module_version": "1.5.0",
            "_model_name": "DescriptionStyleModel",
            "_view_count": null,
            "_view_module": "@jupyter-widgets/base",
            "_view_module_version": "1.2.0",
            "_view_name": "StyleView",
            "description_width": ""
          }
        },
        "ca8259071e814398b72d34ee708145b0": {
          "model_module": "@jupyter-widgets/controls",
          "model_name": "HBoxModel",
          "model_module_version": "1.5.0",
          "state": {
            "_dom_classes": [],
            "_model_module": "@jupyter-widgets/controls",
            "_model_module_version": "1.5.0",
            "_model_name": "HBoxModel",
            "_view_count": null,
            "_view_module": "@jupyter-widgets/controls",
            "_view_module_version": "1.5.0",
            "_view_name": "HBoxView",
            "box_style": "",
            "children": [
              "IPY_MODEL_a4433c9bf9224a80bff605b99a07c16e",
              "IPY_MODEL_e192aa1c94744c6494824a5b36276179",
              "IPY_MODEL_ce0239ce77394cbb8c81e735f77b4216"
            ],
            "layout": "IPY_MODEL_5f633025bb1943588e98f9523558e2b8"
          }
        },
        "a4433c9bf9224a80bff605b99a07c16e": {
          "model_module": "@jupyter-widgets/controls",
          "model_name": "HTMLModel",
          "model_module_version": "1.5.0",
          "state": {
            "_dom_classes": [],
            "_model_module": "@jupyter-widgets/controls",
            "_model_module_version": "1.5.0",
            "_model_name": "HTMLModel",
            "_view_count": null,
            "_view_module": "@jupyter-widgets/controls",
            "_view_module_version": "1.5.0",
            "_view_name": "HTMLView",
            "description": "",
            "description_tooltip": null,
            "layout": "IPY_MODEL_ffe5848557d54271a6534f3fced2c205",
            "placeholder": "​",
            "style": "IPY_MODEL_c15a20b139bc4ae2b8b1c08ce3233343",
            "value": "Downloading: 100%"
          }
        },
        "e192aa1c94744c6494824a5b36276179": {
          "model_module": "@jupyter-widgets/controls",
          "model_name": "FloatProgressModel",
          "model_module_version": "1.5.0",
          "state": {
            "_dom_classes": [],
            "_model_module": "@jupyter-widgets/controls",
            "_model_module_version": "1.5.0",
            "_model_name": "FloatProgressModel",
            "_view_count": null,
            "_view_module": "@jupyter-widgets/controls",
            "_view_module_version": "1.5.0",
            "_view_name": "ProgressView",
            "bar_style": "success",
            "description": "",
            "description_tooltip": null,
            "layout": "IPY_MODEL_d5f2a6ffa5ed48608160d8ff13e0f811",
            "max": 536063208,
            "min": 0,
            "orientation": "horizontal",
            "style": "IPY_MODEL_8d958cc21ace46d489dae7fe8773a151",
            "value": 536063208
          }
        },
        "ce0239ce77394cbb8c81e735f77b4216": {
          "model_module": "@jupyter-widgets/controls",
          "model_name": "HTMLModel",
          "model_module_version": "1.5.0",
          "state": {
            "_dom_classes": [],
            "_model_module": "@jupyter-widgets/controls",
            "_model_module_version": "1.5.0",
            "_model_name": "HTMLModel",
            "_view_count": null,
            "_view_module": "@jupyter-widgets/controls",
            "_view_module_version": "1.5.0",
            "_view_name": "HTMLView",
            "description": "",
            "description_tooltip": null,
            "layout": "IPY_MODEL_1f25592d81c34dd8ae2fa242bed16da5",
            "placeholder": "​",
            "style": "IPY_MODEL_cf99682da6c747b684d53e7139217de7",
            "value": " 536M/536M [00:08&lt;00:00, 67.9MB/s]"
          }
        },
        "5f633025bb1943588e98f9523558e2b8": {
          "model_module": "@jupyter-widgets/base",
          "model_name": "LayoutModel",
          "model_module_version": "1.2.0",
          "state": {
            "_model_module": "@jupyter-widgets/base",
            "_model_module_version": "1.2.0",
            "_model_name": "LayoutModel",
            "_view_count": null,
            "_view_module": "@jupyter-widgets/base",
            "_view_module_version": "1.2.0",
            "_view_name": "LayoutView",
            "align_content": null,
            "align_items": null,
            "align_self": null,
            "border": null,
            "bottom": null,
            "display": null,
            "flex": null,
            "flex_flow": null,
            "grid_area": null,
            "grid_auto_columns": null,
            "grid_auto_flow": null,
            "grid_auto_rows": null,
            "grid_column": null,
            "grid_gap": null,
            "grid_row": null,
            "grid_template_areas": null,
            "grid_template_columns": null,
            "grid_template_rows": null,
            "height": null,
            "justify_content": null,
            "justify_items": null,
            "left": null,
            "margin": null,
            "max_height": null,
            "max_width": null,
            "min_height": null,
            "min_width": null,
            "object_fit": null,
            "object_position": null,
            "order": null,
            "overflow": null,
            "overflow_x": null,
            "overflow_y": null,
            "padding": null,
            "right": null,
            "top": null,
            "visibility": null,
            "width": null
          }
        },
        "ffe5848557d54271a6534f3fced2c205": {
          "model_module": "@jupyter-widgets/base",
          "model_name": "LayoutModel",
          "model_module_version": "1.2.0",
          "state": {
            "_model_module": "@jupyter-widgets/base",
            "_model_module_version": "1.2.0",
            "_model_name": "LayoutModel",
            "_view_count": null,
            "_view_module": "@jupyter-widgets/base",
            "_view_module_version": "1.2.0",
            "_view_name": "LayoutView",
            "align_content": null,
            "align_items": null,
            "align_self": null,
            "border": null,
            "bottom": null,
            "display": null,
            "flex": null,
            "flex_flow": null,
            "grid_area": null,
            "grid_auto_columns": null,
            "grid_auto_flow": null,
            "grid_auto_rows": null,
            "grid_column": null,
            "grid_gap": null,
            "grid_row": null,
            "grid_template_areas": null,
            "grid_template_columns": null,
            "grid_template_rows": null,
            "height": null,
            "justify_content": null,
            "justify_items": null,
            "left": null,
            "margin": null,
            "max_height": null,
            "max_width": null,
            "min_height": null,
            "min_width": null,
            "object_fit": null,
            "object_position": null,
            "order": null,
            "overflow": null,
            "overflow_x": null,
            "overflow_y": null,
            "padding": null,
            "right": null,
            "top": null,
            "visibility": null,
            "width": null
          }
        },
        "c15a20b139bc4ae2b8b1c08ce3233343": {
          "model_module": "@jupyter-widgets/controls",
          "model_name": "DescriptionStyleModel",
          "model_module_version": "1.5.0",
          "state": {
            "_model_module": "@jupyter-widgets/controls",
            "_model_module_version": "1.5.0",
            "_model_name": "DescriptionStyleModel",
            "_view_count": null,
            "_view_module": "@jupyter-widgets/base",
            "_view_module_version": "1.2.0",
            "_view_name": "StyleView",
            "description_width": ""
          }
        },
        "d5f2a6ffa5ed48608160d8ff13e0f811": {
          "model_module": "@jupyter-widgets/base",
          "model_name": "LayoutModel",
          "model_module_version": "1.2.0",
          "state": {
            "_model_module": "@jupyter-widgets/base",
            "_model_module_version": "1.2.0",
            "_model_name": "LayoutModel",
            "_view_count": null,
            "_view_module": "@jupyter-widgets/base",
            "_view_module_version": "1.2.0",
            "_view_name": "LayoutView",
            "align_content": null,
            "align_items": null,
            "align_self": null,
            "border": null,
            "bottom": null,
            "display": null,
            "flex": null,
            "flex_flow": null,
            "grid_area": null,
            "grid_auto_columns": null,
            "grid_auto_flow": null,
            "grid_auto_rows": null,
            "grid_column": null,
            "grid_gap": null,
            "grid_row": null,
            "grid_template_areas": null,
            "grid_template_columns": null,
            "grid_template_rows": null,
            "height": null,
            "justify_content": null,
            "justify_items": null,
            "left": null,
            "margin": null,
            "max_height": null,
            "max_width": null,
            "min_height": null,
            "min_width": null,
            "object_fit": null,
            "object_position": null,
            "order": null,
            "overflow": null,
            "overflow_x": null,
            "overflow_y": null,
            "padding": null,
            "right": null,
            "top": null,
            "visibility": null,
            "width": null
          }
        },
        "8d958cc21ace46d489dae7fe8773a151": {
          "model_module": "@jupyter-widgets/controls",
          "model_name": "ProgressStyleModel",
          "model_module_version": "1.5.0",
          "state": {
            "_model_module": "@jupyter-widgets/controls",
            "_model_module_version": "1.5.0",
            "_model_name": "ProgressStyleModel",
            "_view_count": null,
            "_view_module": "@jupyter-widgets/base",
            "_view_module_version": "1.2.0",
            "_view_name": "StyleView",
            "bar_color": null,
            "description_width": ""
          }
        },
        "1f25592d81c34dd8ae2fa242bed16da5": {
          "model_module": "@jupyter-widgets/base",
          "model_name": "LayoutModel",
          "model_module_version": "1.2.0",
          "state": {
            "_model_module": "@jupyter-widgets/base",
            "_model_module_version": "1.2.0",
            "_model_name": "LayoutModel",
            "_view_count": null,
            "_view_module": "@jupyter-widgets/base",
            "_view_module_version": "1.2.0",
            "_view_name": "LayoutView",
            "align_content": null,
            "align_items": null,
            "align_self": null,
            "border": null,
            "bottom": null,
            "display": null,
            "flex": null,
            "flex_flow": null,
            "grid_area": null,
            "grid_auto_columns": null,
            "grid_auto_flow": null,
            "grid_auto_rows": null,
            "grid_column": null,
            "grid_gap": null,
            "grid_row": null,
            "grid_template_areas": null,
            "grid_template_columns": null,
            "grid_template_rows": null,
            "height": null,
            "justify_content": null,
            "justify_items": null,
            "left": null,
            "margin": null,
            "max_height": null,
            "max_width": null,
            "min_height": null,
            "min_width": null,
            "object_fit": null,
            "object_position": null,
            "order": null,
            "overflow": null,
            "overflow_x": null,
            "overflow_y": null,
            "padding": null,
            "right": null,
            "top": null,
            "visibility": null,
            "width": null
          }
        },
        "cf99682da6c747b684d53e7139217de7": {
          "model_module": "@jupyter-widgets/controls",
          "model_name": "DescriptionStyleModel",
          "model_module_version": "1.5.0",
          "state": {
            "_model_module": "@jupyter-widgets/controls",
            "_model_module_version": "1.5.0",
            "_model_name": "DescriptionStyleModel",
            "_view_count": null,
            "_view_module": "@jupyter-widgets/base",
            "_view_module_version": "1.2.0",
            "_view_name": "StyleView",
            "description_width": ""
          }
        }
      }
    }
  },
  "nbformat": 4,
  "nbformat_minor": 5
}